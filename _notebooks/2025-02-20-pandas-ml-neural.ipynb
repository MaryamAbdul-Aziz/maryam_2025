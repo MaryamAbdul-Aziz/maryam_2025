{
 "cells": [
  {
   "attachments": {},
   "cell_type": "raw",
   "metadata": {
    "vscode": {
     "languageId": "raw"
    }
   },
   "source": [
    "---\n",
    "layout: post\n",
    "categories: [CSP Big Idea 2]\n",
    "title: ML | Neural Network | Handwritting Detection \n",
    "description: Handwritting detection using Tensor Flow\n",
    "courses: { compsci: {week: 25} }\n",
    "type: plans\n",
    "---"
   ]
  },
  {
   "attachments": {},
   "cell_type": "markdown",
   "metadata": {},
   "source": [
    "## Sample Neural Network\n",
    "Here's an example of building a simple neural network using Python and Pandas to classify images of handwritten digits from the MNIST dataset.\n",
    "\n",
    "This example solves the problem of classifying images of handwritten digits from the MNIST dataset. The goal is to build a neural network that can accurately predict the digit shown in the input image. The problem is a classic machine learning problem and is often used as a benchmark for evaluating different algorithms and models. The example uses a simple neural network with two fully connected layers to achieve high accuracy in classifying the digits."
   ]
  },
  {
   "cell_type": "code",
   "execution_count": null,
   "metadata": {},
   "outputs": [],
   "source": [
    "# uncomment the following lines to install the required packages\n",
    "# !pip install tensorflow\n",
    "# !pip install pandas\n",
    "# !pip install numpy\n",
    "\n",
    "import pandas as pd\n",
    "import numpy as np\n",
    "import tensorflow as tf\n",
    "from tensorflow.keras.models import Sequential\n",
    "from tensorflow.keras.layers import Dense\n",
    "\n",
    "# Load the MNIST dataset, a dataset of handwritten digits\n",
    "# The MNIST dataset is a dataset of 60,000 28x28 grayscale images of the 10 digits\n",
    "# Data is split into a training set of 50,000 images and a test set of 10,000 images \n",
    "# The training and test data is structured as a 3-dimensional array of instance, image width and image height.\n",
    "# X_train: is the image data, 50000 images, each element is 28x28 gray scale image\n",
    "# y_train: is the label data, 50000 labels, each label corresponds to a handwritten digit\n",
    "# X_test: is the image data, 10000 images, each element is 28x28 gray scale image \n",
    "# y_test: is the label data, 10000 labels, each label corresponds to a handwritten digit\n",
    "mnist = tf.keras.datasets.mnist\n",
    "(X_train, y_train), (X_test, y_test) = mnist.load_data()\n",
    "\n",
    "# Flatten the input images\n",
    "# Neural networks expect the input to be a 1D array of numbers\n",
    "# X_train and X_test are reshaped to 1D array of 784 from 2D array of 28x28\n",
    "X_train = X_train.reshape(X_train.shape[0], -1)  # X_train.shape[0]: 50000, -1: 784, 28x28\n",
    "X_test = X_test.reshape(X_test.shape[0], -1) #`X_test.shape[0]: 10000, -1: 784, 28x28`\n",
    "\n",
    "# Normalize the data\n",
    "# X_train, X_test are normalized from and integer between 0-255 to a float32 between 0-1\n",
    "X_train = X_train.astype('float32') / 255\n",
    "X_test = X_test.astype('float32') / 255\n",
    "\n",
    "# Convert the target variable to one-hot encoded vectors\n",
    "# For each label all elements are 0 except for the index of the number which is 1\n",
    "# For example, 5 is converted to [0, 0, 0, 0, 0, 1, 0, 0, 0, 0], starting from left counting 0,1,2,3,4,5 in this example\n",
    "# y_train, y_test are converted to one-hot encoded vectors\n",
    "# num_classes: 10, number of elements in the one-hot encoded vectors\n",
    "y_train = tf.keras.utils.to_categorical(y_train, num_classes=10)\n",
    "y_test = tf.keras.utils.to_categorical(y_test, num_classes=10)\n",
    "\n",
    "# Define a new Sequential model, for a Neural Network (NN)\n",
    "# Sequential model, provide by Keras, is a linear stack of layers\n",
    "# Each layer has exactly one input tensor and one output tensor, a tensor is a multi-dimensional array\n",
    "# Dense is the regular densely-connected NN layer, each neuron is connected to every neuron in the previous layer\n",
    "# ... 128: number of neurons in the layer, also called nodes or units; this is a hyperparameter and can be tuned for better performance or accuracy\n",
    "# ... relu: rectified linear unit, a common choice in neural networks\n",
    "# ... input_shape: shape of the input data, \n",
    "# ... 784: 28x28\n",
    "# Dense layer with 10 neurons, one for each digit\n",
    "# ... 10: number of output units\n",
    "# ... softmax is activation function, it is used to convert the output to a probability distribution\n",
    "model = Sequential()\n",
    "model.add(Dense(128, activation='relu', input_shape=(784,)))\n",
    "model.add(Dense(10, activation='softmax'))\n",
    "\n",
    "# Compile the model\n",
    "# loss: loss function to minimize, categorical_crossentropy is a good default for classification\n",
    "# optimizer: adam is the algorithm to used to minimize the loss function, it combines the advantages of two other extensions of stochastic gradient descent\n",
    "# metrics: judge the performance of the model, accuracy is appropriate for classification problems \n",
    "model.compile(loss='categorical_crossentropy', optimizer='adam', metrics=['accuracy'])\n",
    "\n",
    "# Train the model, for a number of epochs, in this case 10\n",
    "# X_train, y_train: the training data and corresponding labels\n",
    "# epochs: number of times the model will passed through the model\n",
    "# batch_size: means to model will be trained on 32 images at a time\n",
    "# validation_data: is used to monitor the test loss and accuracy during training\n",
    "model.fit(X_train, y_train, epochs=10, batch_size=32, validation_data=(X_test, y_test))\n",
    "\n",
    "# Evaluate the model, the test loss and accuracy\n",
    "# X_test: test data, the images\n",
    "# y_test: target data, the labels\n",
    "# test_loss: scalar test loss, float between 0 and 1, close to 0 is good\n",
    "# test_acc: scalar test accuracy, float between 0 and 1, close to 1 is good  \n",
    "test_loss, test_acc = model.evaluate(X_test, y_test)\n",
    "print('Test loss:', test_loss)\n",
    "print('Test accuracy:', test_acc)"
   ]
  },
  {
   "attachments": {},
   "cell_type": "markdown",
   "metadata": {},
   "source": [
    "## Visualize how this neural network works. \n",
    "\n",
    "Use the matplotlib library to display some of the input images and the corresponding predicted labels.  This code will create a 5x5 grid of subplots, each containing an input image from the test set and its predicted label. The np.argmax function is used to find the index of the predicted label with the highest probability."
   ]
  },
  {
   "cell_type": "code",
   "execution_count": null,
   "metadata": {},
   "outputs": [],
   "source": [
    "# This cell is dependent on the previous cell\n",
    "\n",
    "# uncomment the following lines to install the required packages\n",
    "# !pip install matplotlib \n",
    "\n",
    "import matplotlib.pyplot as plt\n",
    "\n",
    "# Make predictions on the test set\n",
    "y_pred = model.predict(X_test)\n",
    "\n",
    "# Generate a random sample of 25 indices from the range 0 to 9999\n",
    "indices = np.random.choice(range(10000), size=25, replace=False)\n",
    "\n",
    "# Setup 25 images and their predicted labels prior to iteration\n",
    "_, axs = plt.subplots(5, 5, figsize=(14, 14)) # setup 5x5 grid and scale figure\n",
    "axs = axs.ravel() # convert to 1D array for easy iteration\n",
    "for i in range(25):\n",
    "    axs[i].set_title('test {} = {}'.format(indices[i],np.argmax(y_pred[indices[i]]))) # show test, predicted value\n",
    "    axs[i].imshow(X_test[indices[i]].reshape(28, 28), cmap=plt.cm.gray_r) # show flattened 1D array as 2D array, 28x28\n",
    "    axs[i].axis('off') # turn of axis\n",
    "\n",
    "# Show occurs after the loop\n",
    "plt.show()"
   ]
  },
  {
   "attachments": {},
   "cell_type": "markdown",
   "metadata": {},
   "source": [
    "# Resources\n",
    "> Lesson to expand on MNIST.\n",
    "\n",
    "TensorFlow's official MNIST tutorial: TensorFlow is a popular open-source machine learning framework, and their MNIST tutorial provides a great introduction to building neural networks with TensorFlow. You can find the tutorial here: https://www.tensorflow.org/tutorials/keras/classification.\n",
    "\n",
    "Coursera's Deep Learning Specialization: This is a series of courses taught by Andrew Ng that provides a comprehensive introduction to deep learning. The second course in the series, \"Improving Deep Neural Networks: Hyperparameter tuning, Regularization and Optimization,\" covers the MNIST example in detail. You can find the course here: https://www.coursera.org/specializations/deep-learning.\n",
    "\n",
    "Neural Networks and Deep Learning book: This is a free online book by Michael Nielsen that provides an introduction to neural networks and deep learning. The book includes a chapter on the MNIST example, which provides a detailed explanation of how the neural network works. You can find the book here: http://neuralnetworksanddeeplearning.com/chap1.html.\n",
    "\n",
    "Fast.ai: This is a set of online courses and resources that provide an introduction to deep learning. The courses include hands-on coding assignments, including an assignment on the MNIST example. You can find the courses here: https://www.fast.ai/."
   ]
  }
 ],
 "metadata": {
  "kernelspec": {
   "display_name": "base",
   "language": "python",
   "name": "python3"
  },
  "language_info": {
   "codemirror_mode": {
    "name": "ipython",
    "version": 3
   },
   "file_extension": ".py",
   "mimetype": "text/x-python",
   "name": "python",
   "nbconvert_exporter": "python",
   "pygments_lexer": "ipython3",
   "version": "3.11.7"
  },
  "orig_nbformat": 4
 },
 "nbformat": 4,
 "nbformat_minor": 2
}
