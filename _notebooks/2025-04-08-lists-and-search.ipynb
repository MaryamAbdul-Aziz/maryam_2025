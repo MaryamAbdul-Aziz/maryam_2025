{
 "cells": [
  {
   "cell_type": "raw",
   "id": "3006cb07",
   "metadata": {},
   "source": [
    "---\n",
    "comments: true\n",
    "layout: post\n",
    "title: Lists and Search Algorithms Hacks\n",
    "type: hacks\n",
    "courses: { compsci: {week: 28} }\n",
    "---"
   ]
  },
  {
   "cell_type": "markdown",
   "id": "0c4c2110",
   "metadata": {},
   "source": [
    "## Popcorn Hacks\n",
    "\n",
    "### Popcorn Hack 1: Find Students with Scores in a Range"
   ]
  },
  {
   "cell_type": "code",
   "execution_count": 9,
   "id": "1373d1fd",
   "metadata": {
    "vscode": {
     "languageId": "shellscript"
    }
   },
   "outputs": [
    {
     "name": "stdout",
     "output_type": "stream",
     "text": [
      "Collecting pandas\n",
      "  Using cached pandas-2.2.3-cp313-cp313-macosx_10_13_x86_64.whl.metadata (89 kB)\n",
      "Requirement already satisfied: numpy>=1.26.0 in /Users/maryamabdul-aziz/vscode/maryam_2025/venv/lib/python3.13/site-packages (from pandas) (2.2.4)\n",
      "Requirement already satisfied: python-dateutil>=2.8.2 in /Users/maryamabdul-aziz/vscode/maryam_2025/venv/lib/python3.13/site-packages (from pandas) (2.9.0.post0)\n",
      "Requirement already satisfied: pytz>=2020.1 in /Users/maryamabdul-aziz/vscode/maryam_2025/venv/lib/python3.13/site-packages (from pandas) (2025.1)\n",
      "Requirement already satisfied: tzdata>=2022.7 in /Users/maryamabdul-aziz/vscode/maryam_2025/venv/lib/python3.13/site-packages (from pandas) (2025.1)\n",
      "Requirement already satisfied: six>=1.5 in /Users/maryamabdul-aziz/vscode/maryam_2025/venv/lib/python3.13/site-packages (from python-dateutil>=2.8.2->pandas) (1.17.0)\n",
      "Using cached pandas-2.2.3-cp313-cp313-macosx_10_13_x86_64.whl (12.5 MB)\n",
      "Installing collected packages: pandas\n",
      "Successfully installed pandas-2.2.3\n",
      "\n",
      "\u001b[1m[\u001b[0m\u001b[34;49mnotice\u001b[0m\u001b[1;39;49m]\u001b[0m\u001b[39;49m A new release of pip is available: \u001b[0m\u001b[31;49m25.0\u001b[0m\u001b[39;49m -> \u001b[0m\u001b[32;49m25.0.1\u001b[0m\n",
      "\u001b[1m[\u001b[0m\u001b[34;49mnotice\u001b[0m\u001b[1;39;49m]\u001b[0m\u001b[39;49m To update, run: \u001b[0m\u001b[32;49mpip install --upgrade pip\u001b[0m\n",
      "Note: you may need to restart the kernel to use updated packages.\n"
     ]
    }
   ],
   "source": [
    "pip install pandas"
   ]
  },
  {
   "cell_type": "code",
   "execution_count": 1,
   "id": "bb66dc41",
   "metadata": {},
   "outputs": [
    {
     "name": "stdout",
     "output_type": "stream",
     "text": [
      "    Name  Score Grade\n",
      "1  Brady     84     B\n",
      "4  Emily     82     B\n"
     ]
    }
   ],
   "source": [
    "import pandas as pd\n",
    "\n",
    "student_data = pd.DataFrame({\n",
    "    'Name': ['Aditi', 'Brady', 'Charlotte', 'Daniel', 'Emily'],\n",
    "    'Score': [92, 84, 78, 95, 82],\n",
    "    'Grade': ['A', 'B', 'C', 'A', 'B']\n",
    "})\n",
    "\n",
    "# Complete the function to find all students with scores between min_score and max_score\n",
    "def find_students_in_range(df, min_score, max_score):\n",
    "    return df[(df['Score'] >= min_score) & (df['Score'] <= max_score)]\n",
    "\n",
    "print(find_students_in_range(student_data, 80, 90))"
   ]
  },
  {
   "cell_type": "markdown",
   "id": "00c4f46b",
   "metadata": {},
   "source": [
    "### PopCorn Hack 2: Calculate Letter Grades"
   ]
  },
  {
   "cell_type": "code",
   "execution_count": 2,
   "id": "3579738d",
   "metadata": {},
   "outputs": [
    {
     "data": {
      "text/html": [
       "<div>\n",
       "<style scoped>\n",
       "    .dataframe tbody tr th:only-of-type {\n",
       "        vertical-align: middle;\n",
       "    }\n",
       "\n",
       "    .dataframe tbody tr th {\n",
       "        vertical-align: top;\n",
       "    }\n",
       "\n",
       "    .dataframe thead th {\n",
       "        text-align: right;\n",
       "    }\n",
       "</style>\n",
       "<table border=\"1\" class=\"dataframe\">\n",
       "  <thead>\n",
       "    <tr style=\"text-align: right;\">\n",
       "      <th></th>\n",
       "      <th>Name</th>\n",
       "      <th>Score</th>\n",
       "      <th>Grade</th>\n",
       "      <th>Letter</th>\n",
       "    </tr>\n",
       "  </thead>\n",
       "  <tbody>\n",
       "    <tr>\n",
       "      <th>0</th>\n",
       "      <td>Aditi</td>\n",
       "      <td>92</td>\n",
       "      <td>A</td>\n",
       "      <td>A</td>\n",
       "    </tr>\n",
       "    <tr>\n",
       "      <th>1</th>\n",
       "      <td>Brady</td>\n",
       "      <td>84</td>\n",
       "      <td>B</td>\n",
       "      <td>B</td>\n",
       "    </tr>\n",
       "    <tr>\n",
       "      <th>2</th>\n",
       "      <td>Charlotte</td>\n",
       "      <td>78</td>\n",
       "      <td>C</td>\n",
       "      <td>C</td>\n",
       "    </tr>\n",
       "    <tr>\n",
       "      <th>3</th>\n",
       "      <td>Daniel</td>\n",
       "      <td>95</td>\n",
       "      <td>A</td>\n",
       "      <td>A</td>\n",
       "    </tr>\n",
       "    <tr>\n",
       "      <th>4</th>\n",
       "      <td>Emily</td>\n",
       "      <td>82</td>\n",
       "      <td>B</td>\n",
       "      <td>B</td>\n",
       "    </tr>\n",
       "  </tbody>\n",
       "</table>\n",
       "</div>"
      ],
      "text/plain": [
       "        Name  Score Grade Letter\n",
       "0      Aditi     92     A      A\n",
       "1      Brady     84     B      B\n",
       "2  Charlotte     78     C      C\n",
       "3     Daniel     95     A      A\n",
       "4      Emily     82     B      B"
      ]
     },
     "execution_count": 2,
     "metadata": {},
     "output_type": "execute_result"
    }
   ],
   "source": [
    "import pandas as pd\n",
    "\n",
    "student_data = pd.DataFrame({\n",
    "    'Name': ['Aditi', 'Brady', 'Charlotte', 'Daniel', 'Emily'],\n",
    "    'Score': [92, 84, 78, 95, 82],\n",
    "    'Grade': ['A', 'B', 'C', 'A', 'B']\n",
    "})\n",
    "\n",
    "# Complete the function to add a 'Letter' column based on numerical scores\n",
    "def add_letter_grades(df):\n",
    "    def get_letter(score):\n",
    "        if score >= 90:\n",
    "            return 'A'\n",
    "        elif score >= 80:\n",
    "            return 'B'\n",
    "        elif score >= 70:\n",
    "            return 'C'\n",
    "        elif score >= 60:\n",
    "            return 'D'\n",
    "        else:\n",
    "            return 'F'\n",
    "\n",
    "    df['Letter'] = df['Score'].apply(get_letter)\n",
    "    return df\n",
    "\n",
    "add_letter_grades(student_data)"
   ]
  },
  {
   "cell_type": "markdown",
   "id": "732c0709",
   "metadata": {},
   "source": [
    "### PopCorn Hack 3: Find the Mode in a Series"
   ]
  },
  {
   "cell_type": "code",
   "execution_count": 6,
   "id": "55672ab8",
   "metadata": {},
   "outputs": [
    {
     "data": {
      "text/plain": [
       "0    2\n",
       "dtype: int64"
      ]
     },
     "execution_count": 6,
     "metadata": {},
     "output_type": "execute_result"
    }
   ],
   "source": [
    "# Complete the function to find the most common value in a series\n",
    "def find_mode(series):\n",
    "    mode = series.mode()\n",
    "    return mode\n",
    "\n",
    "find_mode(pd.Series([1, 2, 2, 3, 4, 2, 5]))"
   ]
  },
  {
   "cell_type": "markdown",
   "id": "2f793617",
   "metadata": {},
   "source": [
    "## Homework Hacks\n",
    "\n",
    "For this homework, you’ll work with a dataset of student performance and implement various list algorithms using both Python lists and Pandas.\n",
    "\n",
    "Dataset: Pima Indians Diabetes Info\n",
    "\n",
    "### Algorithms"
   ]
  },
  {
   "cell_type": "code",
   "execution_count": 15,
   "id": "7f667bb8",
   "metadata": {},
   "outputs": [
    {
     "name": "stdout",
     "output_type": "stream",
     "text": [
      "     Pregnancies  Glucose  BloodPressure  SkinThickness  Insulin   BMI  \\\n",
      "177            0      129            110             46      130  67.1   \n",
      "\n",
      "     DiabetesPedigreeFunction  Age  Outcome  \n",
      "177                     0.319   26        1        Pregnancies  Glucose  BloodPressure  SkinThickness  Insulin  BMI  \\\n",
      "9              8      125             96              0        0  0.0   \n",
      "49             7      105              0              0        0  0.0   \n",
      "60             2       84              0              0        0  0.0   \n",
      "81             2       74              0              0        0  0.0   \n",
      "145            0      102             75             23        0  0.0   \n",
      "371            0      118             64             23       89  0.0   \n",
      "426            0       94              0              0        0  0.0   \n",
      "494            3       80              0              0        0  0.0   \n",
      "522            6      114              0              0        0  0.0   \n",
      "684            5      136             82              0        0  0.0   \n",
      "706           10      115              0              0        0  0.0   \n",
      "\n",
      "     DiabetesPedigreeFunction  Age  Outcome  \n",
      "9                       0.232   54        1  \n",
      "49                      0.305   24        0  \n",
      "60                      0.304   21        0  \n",
      "81                      0.102   22        0  \n",
      "145                     0.572   21        0  \n",
      "371                     1.731   21        0  \n",
      "426                     0.256   25        0  \n",
      "494                     0.174   22        0  \n",
      "522                     0.189   26        0  \n",
      "684                     0.640   69        0  \n",
      "706                     0.261   30        1  \n",
      "     Pregnancies  Glucose  BloodPressure  SkinThickness  Insulin   BMI  \\\n",
      "0              6      148             72             35        0  33.6   \n",
      "1              1       85             66             29        0  26.6   \n",
      "2              8      183             64              0        0  23.3   \n",
      "3              1       89             66             23       94  28.1   \n",
      "4              0      137             40             35      168  43.1   \n",
      "..           ...      ...            ...            ...      ...   ...   \n",
      "763           10      101             76             48      180  32.9   \n",
      "764            2      122             70             27        0  36.8   \n",
      "765            5      121             72             23      112  26.2   \n",
      "766            1      126             60              0        0  30.1   \n",
      "767            1       93             70             31        0  30.4   \n",
      "\n",
      "     DiabetesPedigreeFunction  Age  Outcome  MaxMinDiff  \n",
      "0                       0.627   50        1       114.4  \n",
      "1                       0.351   31        0        58.4  \n",
      "2                       0.672   32        1       159.7  \n",
      "3                       0.167   21        0        60.9  \n",
      "4                       2.288   33        1        97.0  \n",
      "..                        ...  ...      ...         ...  \n",
      "763                     0.171   63        0        68.1  \n",
      "764                     0.340   27        0        85.2  \n",
      "765                     0.245   30        0        94.8  \n",
      "766                     0.349   47        1        95.9  \n",
      "767                     0.315   23        0        62.6  \n",
      "\n",
      "[768 rows x 10 columns]\n",
      "     Pregnancies  Glucose  BloodPressure  SkinThickness  Insulin   BMI  \\\n",
      "0              6      148             72             35        0  33.6   \n",
      "2              8      183             64              0        0  23.3   \n",
      "4              0      137             40             35      168  43.1   \n",
      "8              2      197             70             45      543  30.5   \n",
      "9              8      125             96              0        0   0.0   \n",
      "..           ...      ...            ...            ...      ...   ...   \n",
      "759            6      190             92              0        0  35.5   \n",
      "761            9      170             74             31        0  44.0   \n",
      "764            2      122             70             27        0  36.8   \n",
      "765            5      121             72             23      112  26.2   \n",
      "766            1      126             60              0        0  30.1   \n",
      "\n",
      "     DiabetesPedigreeFunction  Age  Outcome  MaxMinDiff  \n",
      "0                       0.627   50        1       114.4  \n",
      "2                       0.672   32        1       159.7  \n",
      "4                       2.288   33        1        97.0  \n",
      "8                       0.158   53        1       166.5  \n",
      "9                       0.232   54        1       125.0  \n",
      "..                        ...  ...      ...         ...  \n",
      "759                     0.278   66        1       154.5  \n",
      "761                     0.403   43        1       126.0  \n",
      "764                     0.340   27        0        85.2  \n",
      "765                     0.245   30        0        94.8  \n",
      "766                     0.349   47        1        95.9  \n",
      "\n",
      "[349 rows x 10 columns]\n",
      "  AgeGroup  Outcome        BMI     Glucose\n",
      "0      20s        0  29.852885  106.503205\n",
      "1      20s        1  37.101190  140.642857\n",
      "2      30s        0  30.923596  113.348315\n",
      "3      30s        1  34.285526  139.315789\n",
      "4      40s        0  33.318868  109.509434\n",
      "5      40s        1  35.676923  136.984615\n",
      "6      50s        0  30.221739  123.782609\n",
      "7      50s        1  32.094118  151.441176\n",
      "8      60+        0  27.165217  131.391304\n",
      "9      60+        1  31.755556  155.777778\n",
      "0.03624187009229404\n",
      "50s AgeGroup\n",
      "20s    113.744949\n",
      "30s    125.309091\n",
      "40s    124.644068\n",
      "50s    140.280702\n",
      "60+    138.250000\n",
      "Name: Glucose, dtype: float64\n",
      "60.546875\n"
     ]
    },
    {
     "name": "stderr",
     "output_type": "stream",
     "text": [
      "/var/folders/93/y55vzx413xxdrd4m_6cv_rmm0000gn/T/ipykernel_13033/3696993698.py:26: FutureWarning: The default of observed=False is deprecated and will be changed to True in a future version of pandas. Pass observed=False to retain current behavior or observed=True to adopt the future default and silence this warning.\n",
      "  grouped = datas.groupby(['AgeGroup', 'Outcome'])[['BMI', 'Glucose']].mean().reset_index()\n",
      "/var/folders/93/y55vzx413xxdrd4m_6cv_rmm0000gn/T/ipykernel_13033/3696993698.py:38: FutureWarning: The default of observed=False is deprecated and will be changed to True in a future version of pandas. Pass observed=False to retain current behavior or observed=True to adopt the future default and silence this warning.\n",
      "  glucose_by_age = datas.groupby('AgeGroup')['Glucose'].mean()\n"
     ]
    }
   ],
   "source": [
    "import pandas as pd\n",
    "datas = pd.read_csv('/Users/maryamabdul-aziz/vscode/maryam_2025/_notebooks/data/diabetes.csv')\n",
    "\n",
    "# Highest and lowest BMI\n",
    "def get_extreme_bmi(datas):\n",
    "    highest_bmi = datas[datas['BMI'] == datas['BMI'].max()]\n",
    "    lowest_bmi = datas[datas['BMI'] == datas['BMI'].min()]\n",
    "    return highest_bmi, lowest_bmi\n",
    "\n",
    "# Difference between max and min for Glucose, BloodPressure, and BMI\n",
    "def add_max_min_diff(datas):\n",
    "    datas['MaxMinDiff'] = datas[['Glucose', 'BloodPressure', 'BMI']].max(axis=1) - \\\n",
    "                          datas[['Glucose', 'BloodPressure', 'BMI']].min(axis=1)\n",
    "    return datas\n",
    "\n",
    "# Patients with Glucose above the average\n",
    "def get_above_avg_glucose(datas):\n",
    "    avg_glucose = datas['Glucose'].mean()\n",
    "    return datas[datas['Glucose'] > avg_glucose]\n",
    "\n",
    "# Group by AgeGroup and Outcome, then calculate mean BMI and Glucose\n",
    "def group_by_age_outcome(datas):\n",
    "    datas = datas.copy()\n",
    "    datas['AgeGroup'] = pd.cut(datas['Age'], bins=[20, 30, 40, 50, 60, 100],\n",
    "                                labels=['20s', '30s', '40s', '50s', '60+'], right=False)\n",
    "    grouped = datas.groupby(['AgeGroup', 'Outcome'])[['BMI', 'Glucose']].mean().reset_index()\n",
    "    return grouped\n",
    "\n",
    "# Correlation between Age and BMI\n",
    "def age_bmi_correlation(datas):\n",
    "    return datas['Age'].corr(datas['BMI'])\n",
    "\n",
    "# Age group with highest average glucose\n",
    "def age_group_with_highest_glucose(datas):\n",
    "    datas = datas.copy()\n",
    "    datas['AgeGroup'] = pd.cut(datas['Age'], bins=[20, 30, 40, 50, 60, 100],\n",
    "                                labels=['20s', '30s', '40s', '50s', '60+'], right=False)\n",
    "    glucose_by_age = datas.groupby('AgeGroup')['Glucose'].mean()\n",
    "    return glucose_by_age.idxmax(), glucose_by_age\n",
    "\n",
    "# Percentage of individuals with BMI > 30 (obese)\n",
    "def percent_obese(datas):\n",
    "    obese_count = datas[datas['BMI'] > 30].shape[0]\n",
    "    total_count = datas.shape[0]\n",
    "    return (obese_count / total_count) * 100\n",
    "\n",
    "highest, lowest = get_extreme_bmi(datas)\n",
    "datas = add_max_min_diff(datas)\n",
    "glucose_above_avg = get_above_avg_glucose(datas)\n",
    "grouped_stats = group_by_age_outcome(datas)\n",
    "correlation = age_bmi_correlation(datas)\n",
    "top_age_group, glucose_age_distribution = age_group_with_highest_glucose(datas)\n",
    "obese_pct = percent_obese(datas)\n",
    "\n",
    "print(highest, lowest)\n",
    "print(datas)\n",
    "print(glucose_above_avg)\n",
    "print(grouped_stats)\n",
    "print(correlation)\n",
    "print(top_age_group, glucose_age_distribution)\n",
    "print(obese_pct)"
   ]
  },
  {
   "cell_type": "markdown",
   "id": "2f2fe745",
   "metadata": {},
   "source": [
    "### Analytical Questions"
   ]
  },
  {
   "cell_type": "code",
   "execution_count": 19,
   "id": "f3c017ee",
   "metadata": {},
   "outputs": [
    {
     "name": "stdout",
     "output_type": "stream",
     "text": [
      "-0.033522672962613104 0.13733729982837076 0.041264947930098536 0.1839275729541635 0.1850709291680992 0.1406469525451052 0.03356131243480556\n",
      "50s\n",
      "60.546875\n"
     ]
    },
    {
     "name": "stderr",
     "output_type": "stream",
     "text": [
      "/var/folders/93/y55vzx413xxdrd4m_6cv_rmm0000gn/T/ipykernel_13033/2651657759.py:26: FutureWarning: The default of observed=False is deprecated and will be changed to True in a future version of pandas. Pass observed=False to retain current behavior or observed=True to adopt the future default and silence this warning.\n",
      "  glucose_by_age = datas.groupby('AgeGroup')['Glucose'].mean()\n"
     ]
    }
   ],
   "source": [
    "import pandas as pd\n",
    "datas = pd.read_csv('/Users/maryamabdul-aziz/vscode/maryam_2025/_notebooks/data/diabetes.csv')\n",
    "\n",
    "def master_function(datas):\n",
    "    # What is the correlation between diabetes pedigree and other factors?\n",
    "    preg = datas['DiabetesPedigreeFunction'].corr(datas['Pregnancies'])\n",
    "    glucose = datas['DiabetesPedigreeFunction'].corr(datas['Glucose'])\n",
    "    bp = datas['DiabetesPedigreeFunction'].corr(datas['BloodPressure'])\n",
    "    st = datas['DiabetesPedigreeFunction'].corr(datas['SkinThickness'])\n",
    "    ins = datas['DiabetesPedigreeFunction'].corr(datas['Insulin'])\n",
    "    bmi = datas['DiabetesPedigreeFunction'].corr(datas['BMI'])\n",
    "    age = datas['DiabetesPedigreeFunction'].corr(datas['Age'])\n",
    "    print(preg, glucose, bp, st, ins, bmi, age)\n",
    "\n",
    "    # Which Age group has the highest average Glucose?\n",
    "\n",
    "    # Create AgeGroup column\n",
    "    datas = datas.copy()\n",
    "    datas['AgeGroup'] = pd.cut(\n",
    "        datas['Age'],\n",
    "        bins=[20, 30, 40, 50, 60, 100],\n",
    "        labels=['20s', '30s', '40s', '50s', '60+'],\n",
    "        right=False\n",
    "    )\n",
    "\n",
    "    glucose_by_age = datas.groupby('AgeGroup')['Glucose'].mean()\n",
    "    highest_glucose_group = glucose_by_age.idxmax()\n",
    "    print(highest_glucose_group)\n",
    "\n",
    "    # What percentage of people have BMI above 30 (obese)?\n",
    "    obese = datas[datas['BMI'] > 30]\n",
    "    obese_percentage = len(obese) / len(datas) * 100\n",
    "    print(obese_percentage)\n",
    "\n",
    "master_function(datas)"
   ]
  },
  {
   "cell_type": "markdown",
   "id": "f985e825",
   "metadata": {},
   "source": [
    "Chart:\n",
    "\n",
    "![chart of correlation factors]({{site.baseurl}}/images/lessons/lschart.png)"
   ]
  },
  {
   "cell_type": "markdown",
   "id": "4e9a4e10",
   "metadata": {},
   "source": [
    "### SQL"
   ]
  },
  {
   "cell_type": "code",
   "execution_count": null,
   "id": "14602dcf",
   "metadata": {},
   "outputs": [],
   "source": [
    "import sqlite3\n",
    "import pandas as pd\n",
    "datas = pd.read_csv('/Users/maryamabdul-aziz/vscode/maryam_2025/_notebooks/data/diabetes.csv')\n",
    "\n",
    "conn = sqlite3.connect(\":memory:\")\n",
    "\n",
    "datas.to_sql(\"diabetes\", conn, index=False, if_exists=\"replace\")\n",
    "\n",
    "query = \"SELECT Outcome, AVG(Glucose) AS avg_glucose FROM diabetes GROUP BY Outcome\"\n",
    "result = pd.read_sql_query(query, conn)\n",
    "\n",
    "print(result)\n"
   ]
  },
  {
   "cell_type": "code",
   "execution_count": null,
   "id": "4187132e",
   "metadata": {},
   "outputs": [
    {
     "name": "stdout",
     "output_type": "stream",
     "text": [
      "     Pregnancies  Glucose  BloodPressure  SkinThickness  Insulin   BMI  \\\n",
      "0              6      148             72             35        0  33.6   \n",
      "1              8      183             64              0        0  23.3   \n",
      "2              0      137             40             35      168  43.1   \n",
      "3              3       78             50             32       88  31.0   \n",
      "4              2      197             70             45      543  30.5   \n",
      "..           ...      ...            ...            ...      ...   ...   \n",
      "263            1      128             88             39      110  36.5   \n",
      "264            0      123             72              0        0  36.3   \n",
      "265            6      190             92              0        0  35.5   \n",
      "266            9      170             74             31        0  44.0   \n",
      "267            1      126             60              0        0  30.1   \n",
      "\n",
      "     DiabetesPedigreeFunction  Age  Outcome  \n",
      "0                       0.627   50        1  \n",
      "1                       0.672   32        1  \n",
      "2                       2.288   33        1  \n",
      "3                       0.248   26        1  \n",
      "4                       0.158   53        1  \n",
      "..                        ...  ...      ...  \n",
      "263                     1.057   37        1  \n",
      "264                     0.258   52        1  \n",
      "265                     0.278   66        1  \n",
      "266                     0.403   43        1  \n",
      "267                     0.349   47        1  \n",
      "\n",
      "[268 rows x 9 columns]\n",
      "      AvgAge     AvgBMI  Count\n",
      "0  37.067164  35.142537    268\n",
      "   Outcome  Count\n",
      "0        0    500\n",
      "1        1    268\n"
     ]
    }
   ],
   "source": [
    "import sqlite3\n",
    "import pandas as pd\n",
    "\n",
    "data = pd.read_csv('/Users/maryamabdul-aziz/vscode/maryam_2025/_notebooks/data/diabetes.csv')\n",
    "\n",
    "conn = sqlite3.connect(':memory:')\n",
    "\n",
    "data.to_sql('diabetes', conn, index=False, if_exists='replace')\n",
    "\n",
    "query = \"SELECT * FROM diabetes WHERE Outcome = 1\"\n",
    "diabetic_patients = pd.read_sql_query(query, conn)\n",
    "print(diabetic_patients)\n",
    "\n",
    "query = \"\"\"\n",
    "SELECT AVG(Age) as AvgAge, AVG(BMI) as AvgBMI, COUNT(*) as Count\n",
    "FROM diabetes\n",
    "WHERE Outcome = 1\n",
    "\"\"\"\n",
    "diabetic_stats = pd.read_sql_query(query, conn)\n",
    "print(diabetic_stats)\n",
    "\n",
    "query = \"\"\"\n",
    "SELECT Outcome, COUNT(*) as Count\n",
    "FROM diabetes\n",
    "GROUP BY Outcome\n",
    "\"\"\"\n",
    "outcome_distribution = pd.read_sql_query(query, conn)\n",
    "\n",
    "print(outcome_distribution)"
   ]
  },
  {
   "cell_type": "markdown",
   "id": "57568b7c",
   "metadata": {},
   "source": [
    "1. Discuss the advantages and disadvantages of using SQL versus Pandas for data analysis, focusing on performance, readability, and ease of use.\n",
    "\n",
    "SQL is better for large datasets that need complicated queries and aggregations. It's better for structure but can become difficult to use for advanced data manipulation. Pandas is better for  smaller datasets because it's flexible, allowing for quick analysis with Python. However, it can struggle with large data and become less efficient for complicated queries."
   ]
  }
 ],
 "metadata": {
  "kernelspec": {
   "display_name": "venv",
   "language": "python",
   "name": "python3"
  },
  "language_info": {
   "codemirror_mode": {
    "name": "ipython",
    "version": 3
   },
   "file_extension": ".py",
   "mimetype": "text/x-python",
   "name": "python",
   "nbconvert_exporter": "python",
   "pygments_lexer": "ipython3",
   "version": "3.13.2"
  }
 },
 "nbformat": 4,
 "nbformat_minor": 5
}
