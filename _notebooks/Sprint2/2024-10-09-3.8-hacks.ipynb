{
 "cells": [
  {
   "cell_type": "markdown",
   "metadata": {},
   "source": [
    "---\n",
    "toc: true\n",
    "layout: post\n",
    "title: Lessons 3.8 Hacks\n",
    "menu: /nav/csp_unit3_hacks.html\n",
    "---"
   ]
  },
  {
   "cell_type": "markdown",
   "metadata": {},
   "source": [
    "# 3.8\n",
    "\n",
    "## Popcorn Hacks\n",
    "\n",
    "### 3.8.1 While loops\n",
    "\n",
    "#### Hack 1\n",
    "\n",
    "I want you to create a while loop that will print out “hello” to the terminal 5 times"
   ]
  },
  {
   "cell_type": "code",
   "execution_count": 1,
   "metadata": {},
   "outputs": [
    {
     "name": "stdout",
     "output_type": "stream",
     "text": [
      "Hello\n",
      "Hello\n",
      "Hello\n",
      "Hello\n",
      "Hello\n"
     ]
    }
   ],
   "source": [
    "variable = 1\n",
    "\n",
    "# start while loop\n",
    "while variable <= 5:\n",
    "    # print value associated with variable\n",
    "    print(\"Hello\")\n",
    "    \n",
    "    # Increment the counter to add one as hello is printed\n",
    "    variable += 1"
   ]
  },
  {
   "cell_type": "markdown",
   "metadata": {},
   "source": [
    "### 3.8.2 Nested While loops\n",
    "\n",
    "#### Hack 2\n",
    "\n",
    "Create a piece of python code that prints out your name one time\n",
    "\n",
    "then after printing your first name one time, print out your middle name 2 times\n",
    "\n",
    "and finally print out your last name three times\n",
    "\n",
    "this entire thing should be repeated 4 times"
   ]
  },
  {
   "cell_type": "code",
   "execution_count": 2,
   "metadata": {},
   "outputs": [
    {
     "name": "stdout",
     "output_type": "stream",
     "text": [
      "Maryam\n",
      "Kushi Gade\n",
      "Kushi Gade\n",
      "Abdul-Aziz\n",
      "Abdul-Aziz\n",
      "Abdul-Aziz\n",
      "Maryam\n",
      "Kushi Gade\n",
      "Kushi Gade\n",
      "Abdul-Aziz\n",
      "Abdul-Aziz\n",
      "Abdul-Aziz\n",
      "Maryam\n",
      "Kushi Gade\n",
      "Kushi Gade\n",
      "Abdul-Aziz\n",
      "Abdul-Aziz\n",
      "Abdul-Aziz\n",
      "Maryam\n",
      "Kushi Gade\n",
      "Kushi Gade\n",
      "Abdul-Aziz\n",
      "Abdul-Aziz\n",
      "Abdul-Aziz\n"
     ]
    }
   ],
   "source": [
    "# define name\n",
    "first_name = \"Maryam\"\n",
    "middle_name = \"Kushi Gade\" # i dont have a middle name guys...\n",
    "last_name = \"Abdul-Aziz\"\n",
    "\n",
    "counter = 0\n",
    "\n",
    "# create while loop\n",
    "while counter < 4:\n",
    "    print(first_name)\n",
    "    \n",
    "    middle_count = 0\n",
    "    while middle_count < 2:\n",
    "        print(middle_name)\n",
    "        middle_count += 1\n",
    "    \n",
    "    last_count = 0\n",
    "    while last_count < 3:\n",
    "        print(last_name)\n",
    "        last_count += 1\n",
    "    \n",
    "    counter += 1"
   ]
  },
  {
   "cell_type": "markdown",
   "metadata": {},
   "source": [
    "### 3.8.3 For Loop\n",
    "\n",
    "#### Hack 3\n",
    "\n",
    "I want you to create a for loop that iterates and prints out to the terminal the letters of your name"
   ]
  },
  {
   "cell_type": "code",
   "execution_count": 4,
   "metadata": {},
   "outputs": [
    {
     "name": "stdout",
     "output_type": "stream",
     "text": [
      "M\n",
      "a\n",
      "r\n",
      "y\n",
      "a\n",
      "m\n",
      " \n",
      "A\n",
      "b\n",
      "d\n",
      "u\n",
      "l\n",
      "-\n",
      "A\n",
      "z\n",
      "i\n",
      "z\n"
     ]
    }
   ],
   "source": [
    "full_name = \"Maryam Abdul-Aziz\"\n",
    "\n",
    "for letter in full_name:\n",
    "    print(letter)"
   ]
  },
  {
   "cell_type": "markdown",
   "metadata": {},
   "source": [
    "### 3.8.4 For Loops with Lists and Dictionaries\n",
    "\n",
    "#### Hack 4\n",
    "\n",
    "Create a dictionary and create a for loop that runs through each key and value of the dictionary. For each iteration, print the key and value as well as a message of your choice"
   ]
  },
  {
   "cell_type": "code",
   "execution_count": 4,
   "metadata": {
    "vscode": {
     "languageId": "html"
    }
   },
   "outputs": [
    {
     "data": {
      "text/html": [
       "<script>\n",
       "student_info = {\n",
       "    'name': \"Maryam\",\n",
       "    'age': 17,\n",
       "    'grade': 12,\n",
       "    'hair_color_blonde': false\n",
       "};\n",
       "\n",
       "console.log(student_info);\n",
       "\n",
       "for (const [key, value] of Object.entries(student_info)) {\n",
       "    console.log(`My ${key} is ${value}.`);\n",
       "}\n",
       "\n",
       "</script>\n"
      ],
      "text/plain": [
       "<IPython.core.display.HTML object>"
      ]
     },
     "metadata": {},
     "output_type": "display_data"
    }
   ],
   "source": [
    "%%html\n",
    "<script>\n",
    "student_info = {\n",
    "    'name': \"Maryam\",\n",
    "    'age': 17,\n",
    "    'grade': 12,\n",
    "    'hair_color_blonde': false\n",
    "};\n",
    "\n",
    "console.log(student_info);\n",
    "\n",
    "for (const [key, value] of Object.entries(student_info)) {\n",
    "    console.log(`My ${key} is ${value}.`);\n",
    "}\n",
    "\n",
    "</script>"
   ]
  },
  {
   "cell_type": "markdown",
   "metadata": {},
   "source": [
    "## Hacks\n",
    "\n",
    "### [3.8.5 Nested For Loops](https://nighthawkcoders.github.io/portfolio_2025/csp/big-idea/p4/3-8-5)\n",
    "\n",
    "#### Hack 1 While Loops\n",
    "\n",
    "Create a python script that asks a user for a password in the terminal, then if the password is correct, it prints out that the password is correct.\n",
    "\n",
    "If the password is incorrect it asks for the password again."
   ]
  },
  {
   "cell_type": "code",
   "execution_count": 7,
   "metadata": {},
   "outputs": [
    {
     "name": "stdout",
     "output_type": "stream",
     "text": [
      "Password is correct. Welcome back!\n"
     ]
    }
   ],
   "source": [
    "password = \"ILoveCSP123\"\n",
    "\n",
    "inputted_password = input(\"Password (type 'esc' to exit):\")\n",
    "\n",
    "while inputted_password != password:\n",
    "    if inputted_password == \"esc\":\n",
    "        print(\"Exiting program.\")\n",
    "        break\n",
    "    print(\"Incorrect password, try again.\")\n",
    "    inputted_password = input(\"Password (type 'esc' to exit): \")\n",
    "\n",
    "if inputted_password == password:\n",
    "    print(\"Password is correct. Welcome back!\")\n"
   ]
  },
  {
   "cell_type": "markdown",
   "metadata": {},
   "source": [
    "#### Hack #2 For loops\n",
    "\n",
    "Create python script that asks for a user’s name\n",
    "\n",
    "Then iterate through the name and print it out letter by letter through the terminal"
   ]
  },
  {
   "cell_type": "code",
   "execution_count": 9,
   "metadata": {},
   "outputs": [
    {
     "name": "stdout",
     "output_type": "stream",
     "text": [
      "s\n",
      "t\n",
      "e\n",
      "v\n",
      "e\n"
     ]
    }
   ],
   "source": [
    "user_name = input(\"What is your name?\")\n",
    "\n",
    "for letter in user_name:\n",
    "    print(letter)"
   ]
  },
  {
   "cell_type": "markdown",
   "metadata": {},
   "source": [
    "#### Hack #3 For loops With Lists\n",
    "\n",
    "Create a python script that has a list of at least 7 different fruits\n",
    "\n",
    "then create a for loop that iterates through that list and prints out each fruit seperate to the terminal"
   ]
  },
  {
   "cell_type": "code",
   "execution_count": 11,
   "metadata": {},
   "outputs": [
    {
     "name": "stdout",
     "output_type": "stream",
     "text": [
      "strawberry\n",
      "apple\n",
      "banana\n",
      "kiwi\n",
      "watermelon\n",
      "cherry\n",
      "orange\n"
     ]
    }
   ],
   "source": [
    "fruit_list = [\"strawberry\", \"apple\", \"banana\", \"kiwi\", \"watermelon\", \"cherry\", \"orange\"]\n",
    "\n",
    "for fruit in fruit_list:\n",
    "    print(fruit)"
   ]
  }
 ],
 "metadata": {
  "kernelspec": {
   "display_name": "venv",
   "language": "python",
   "name": "python3"
  },
  "language_info": {
   "codemirror_mode": {
    "name": "ipython",
    "version": 3
   },
   "file_extension": ".py",
   "mimetype": "text/x-python",
   "name": "python",
   "nbconvert_exporter": "python",
   "pygments_lexer": "ipython3",
   "version": "3.12.5"
  }
 },
 "nbformat": 4,
 "nbformat_minor": 2
}
