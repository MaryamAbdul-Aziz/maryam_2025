{
 "cells": [
  {
   "cell_type": "markdown",
   "metadata": {},
   "source": [
    "---\n",
    "toc: true\n",
    "layout: post\n",
    "title: Lessons 3.10B Hacks\n",
    "type: hacks\n",
    "courses: { compsci: {week: 6} }\n",
    "---"
   ]
  },
  {
   "cell_type": "markdown",
   "metadata": {},
   "source": [
    "# 3.10B\n",
    "\n",
    "## Popcorn Hacks\n",
    "\n",
    "### 3.10.1 JavaScript Arrays (Lists)\n",
    "\n",
    "#### Hack 1\n",
    "\n",
    "Create your own array and then reverse it using the reverse() method."
   ]
  },
  {
   "cell_type": "code",
   "execution_count": 1,
   "metadata": {
    "vscode": {
     "languageId": "html"
    }
   },
   "outputs": [
    {
     "data": {
      "text/html": [
       "<script>\n",
       "    array = [\"I\", \"hate\", \"this\", \"homework\"]\n",
       "    console.log(array)\n",
       "\n",
       "    console.log(reverse(array))\n",
       "</script>\n"
      ],
      "text/plain": [
       "<IPython.core.display.HTML object>"
      ]
     },
     "metadata": {},
     "output_type": "display_data"
    }
   ],
   "source": [
    "%%html\n",
    "<script>\n",
    "    array = [\"I\", \"hate\", \"this\", \"homework\"]\n",
    "    console.log(array)\n",
    "\n",
    "    console.log(array.reverse())\n",
    "</script>"
   ]
  },
  {
   "cell_type": "markdown",
   "metadata": {},
   "source": [
    "#### Hack 2\n",
    "\n",
    "Make your own array using the unshift() method and the spread operator.\t"
   ]
  },
  {
   "cell_type": "code",
   "execution_count": null,
   "metadata": {
    "vscode": {
     "languageId": "html"
    }
   },
   "outputs": [],
   "source": [
    "%%html\n",
    "<script>\n",
    "    let array = [\"this\", \"homework\"];\n",
    "    let newElements = [\"I\", \"hate\"];\n",
    "    array.unshift(...newElements);\n",
    "    console.log(\"Array after unshift:\", array);\n",
    "</script>\n"
   ]
  },
  {
   "cell_type": "markdown",
   "metadata": {},
   "source": [
    "#### Hack 3\n",
    "\n",
    "Make your own array using the filter() method\t"
   ]
  },
  {
   "cell_type": "code",
   "execution_count": null,
   "metadata": {
    "vscode": {
     "languageId": "html"
    }
   },
   "outputs": [],
   "source": [
    "%%html\n",
    "<script>\n",
    "    let initialArray = [\"Lol\", \"sorry\", \"about\", \"that\", 1, \"remove\", \"later\"];\n",
    "    let filteredArray = initialArray.filter(element => [\"Lol\", \"sorry\", \"about\", \"that\", 1].includes(element));\n",
    "    console.log(\"Filtered array:\", filteredArray);\n",
    "</script>\n"
   ]
  },
  {
   "cell_type": "markdown",
   "metadata": {},
   "source": [
    "#### Hack 1 Python\n",
    "\n",
    "Make your own list (with numbers or strings), and add values to it using the insert() method with negative indexes\t"
   ]
  },
  {
   "cell_type": "code",
   "execution_count": 16,
   "metadata": {},
   "outputs": [
    {
     "name": "stdout",
     "output_type": "stream",
     "text": [
      "['apple', 'banana', 'cherry']\n",
      "Updated list: ['apple', 'banana', 'kiwi', 'orange', 'cherry']\n"
     ]
    }
   ],
   "source": [
    "list17 = [\"apple\", \"banana\", \"cherry\"]\n",
    "print(list17)\n",
    "list17.insert(-1, \"orange\")\n",
    "list17.insert(-2, \"kiwi\")\n",
    "print(\"Updated list:\", list17)"
   ]
  },
  {
   "cell_type": "markdown",
   "metadata": {},
   "source": [
    "#### Hack 2\n",
    "\n",
    "Make two lists and add them together using the extend() popcorn hack."
   ]
  },
  {
   "cell_type": "code",
   "execution_count": null,
   "metadata": {},
   "outputs": [],
   "source": [
    "list1 = [\"popcorn\", \"butter\"]\n",
    "list2 = [\"salt\", \"caramel\"]\n",
    "\n",
    "\n",
    "\n",
    "list1.extend(list2)\n",
    "\n",
    "print(\"Combined list:\", list1)"
   ]
  },
  {
   "cell_type": "markdown",
   "metadata": {},
   "source": [
    "#### Hack 3\n",
    "\n",
    "Create your own list, and remove three items from the list using three different methods.\t"
   ]
  },
  {
   "cell_type": "code",
   "execution_count": 5,
   "metadata": {},
   "outputs": [
    {
     "name": "stdout",
     "output_type": "stream",
     "text": [
      "['apple', 'banana', 'cherry', 'date', 'strawberry']\n",
      "['apple', 'cherry', 'date', 'strawberry']\n",
      "['apple', 'cherry', 'date']\n",
      "Updated list: ['cherry', 'date']\n",
      "Removed item: strawberry\n"
     ]
    }
   ],
   "source": [
    "fruits = [\"apple\", \"banana\", \"cherry\", \"date\", \"strawberry\"]\n",
    "print(fruits)\n",
    "\n",
    "fruits.remove(\"banana\")\n",
    "print(fruits)\n",
    "\n",
    "removed_item = fruits.pop()\n",
    "print(fruits)\n",
    "\n",
    "\n",
    "del fruits[0]\n",
    "\n",
    "print(\"Updated list:\", fruits)\n",
    "print(\"Removed item:\", removed_item)\n"
   ]
  },
  {
   "cell_type": "markdown",
   "metadata": {},
   "source": [
    "### Hacks\n",
    "\n",
    "#### Hack 1\n",
    "\n",
    "Objective: Create a simple program to manage a grocery list.\n",
    "\n",
    "Requirements:\n",
    "\n",
    "- Create an empty list to store grocery items.\n",
    "- Input three grocery items and add them to the list.\n",
    "- Display the current grocery list after all items are added.\n",
    "- Sort the list alphabetically and print the sorted list.\n",
    "- Remove one item specified by them and display the updated list."
   ]
  },
  {
   "cell_type": "code",
   "execution_count": 6,
   "metadata": {},
   "outputs": [
    {
     "name": "stdout",
     "output_type": "stream",
     "text": [
      "Current grocery list: ['eggs', 'milk', 'flour']\n",
      "Sorted grocery list: ['eggs', 'flour', 'milk']\n",
      "Updated grocery list: ['eggs', 'milk']\n"
     ]
    }
   ],
   "source": [
    "grocery_list = []\n",
    "\n",
    "for _ in range(3):\n",
    "    item = input(\"Enter a grocery item: \")\n",
    "    grocery_list.append(item)\n",
    "\n",
    "print(\"Current grocery list:\", grocery_list)\n",
    "\n",
    "grocery_list.sort()\n",
    "print(\"Sorted grocery list:\", grocery_list)\n",
    "\n",
    "item_to_remove = input(\"Enter an item to remove from the list: \")\n",
    "if item_to_remove in grocery_list:\n",
    "    grocery_list.remove(item_to_remove)\n",
    "    print(\"Updated grocery list:\", grocery_list)\n",
    "else:\n",
    "    print(f\"{item_to_remove} is not in the grocery list.\")"
   ]
  },
  {
   "cell_type": "markdown",
   "metadata": {},
   "source": [
    "#### Hack 2\n",
    "\n",
    "Filtering Even Numbers Objective: Create a list of numbers and filter for even numbers.\n",
    "\n",
    "Requirements:\n",
    "- Create a list of integers from 1 to 20.\n",
    "- Print the original list.\n",
    "- Create a new list that contains only the even numbers from the original list using list comprehension.\n",
    "- Print the list of even numbers."
   ]
  },
  {
   "cell_type": "code",
   "execution_count": 27,
   "metadata": {},
   "outputs": [
    {
     "name": "stdout",
     "output_type": "stream",
     "text": [
      "Original list: [1, 2, 3, 4, 5, 6, 7, 8, 9, 10, 11, 12, 13, 14, 15, 16, 17, 18, 19, 20]\n",
      "Even numbers: [2, 4, 6, 8, 10, 12, 14, 16, 18, 20]\n"
     ]
    }
   ],
   "source": [
    "original_list2 = []\n",
    "for i in range(1, 21):\n",
    "    original_list2.append(i)\n",
    "\n",
    "print(\"Original list:\", original_list2)\n",
    "\n",
    "even_numbers2 = []\n",
    "for num in original_list2:\n",
    "    if num % 2 == 0:\n",
    "        even_numbers2.append(num)\n",
    "\n",
    "print(\"Even numbers:\", even_numbers2)\n"
   ]
  },
  {
   "cell_type": "markdown",
   "metadata": {},
   "source": [
    "#### Hack 3\n",
    "\n",
    "Write a program that manages a list of student grades.\n",
    "\n",
    "Requirements:\n",
    "- Create an empty list to store student grades.\n",
    "- Input three grades (as integers) and add them to the list.\n",
    "- Print the list of grades after all grades are entered.\n",
    "- Create a new list that contains only grades above 60 and print this list."
   ]
  },
  {
   "cell_type": "code",
   "execution_count": 28,
   "metadata": {},
   "outputs": [
    {
     "name": "stdout",
     "output_type": "stream",
     "text": [
      "List of grades: [21, 24, 90]\n",
      "Grades above 60: [90]\n"
     ]
    }
   ],
   "source": [
    "grades = []\n",
    "\n",
    "for _ in range(3):\n",
    "    grade = int(input(\"Enter a grade (as an integer): \"))\n",
    "    grades.append(grade)\n",
    "\n",
    "print(\"List of grades:\", grades)\n",
    "\n",
    "passing_grades = [grade for grade in grades if grade > 60]\n",
    "\n",
    "print(\"Grades above 60:\", passing_grades)"
   ]
  },
  {
   "cell_type": "markdown",
   "metadata": {},
   "source": [
    "#### Hack 4\n",
    "\n",
    "Number List Operations Objective: Create a list of numbers and perform basic operations.\n",
    "\n",
    "Requirements:\n",
    "- Create a list of numbers from 1 to 10 (integers).\n",
    "- Print the original list.\n",
    "- Sort the list in descending order.\n",
    "- Slice the list to get the first five numbers and print them.\n",
    "- Sort the list again at the end in ascending order and print it."
   ]
  },
  {
   "cell_type": "code",
   "execution_count": 30,
   "metadata": {},
   "outputs": [
    {
     "name": "stdout",
     "output_type": "stream",
     "text": [
      "Original list: [1, 2, 3, 4, 5, 6, 7, 8, 9, 10]\n",
      "Sorted in descending order: [10, 9, 8, 7, 6, 5, 4, 3, 2, 1]\n",
      "First five numbers: [10, 9, 8, 7, 6]\n",
      "Sorted in ascending order: [1, 2, 3, 4, 5, 6, 7, 8, 9, 10]\n"
     ]
    }
   ],
   "source": [
    "number_list = [1, 2, 3, 4, 5, 6, 7, 8, 9, 10]\n",
    "\n",
    "print(\"Original list:\", number_list)\n",
    "\n",
    "number_list.sort(reverse=True)\n",
    "print(\"Sorted in descending order:\", number_list)\n",
    "\n",
    "first_five = number_list[:5]\n",
    "print(\"First five numbers:\", first_five)\n",
    "\n",
    "number_list.sort()\n",
    "print(\"Sorted in ascending order:\", number_list)"
   ]
  },
  {
   "cell_type": "markdown",
   "metadata": {},
   "source": [
    "#### JavaScript Hack 1\n",
    "\n",
    "Create an array in JavaScript with at least 5 values. Then, use console.log() to display the array."
   ]
  },
  {
   "cell_type": "code",
   "execution_count": 32,
   "metadata": {
    "vscode": {
     "languageId": "html"
    }
   },
   "outputs": [
    {
     "data": {
      "text/html": [
       "<script>\n",
       "const fruitArray = [\"apple\", \"banana\", \"cherry\", \"mango\", \"strawberry\"];\n",
       "\n",
       "console.log(fruitArray);\n",
       "\n",
       "\n",
       "console.log(reverse(fruitArray));\n",
       "\n",
       "</script>\n"
      ],
      "text/plain": [
       "<IPython.core.display.HTML object>"
      ]
     },
     "metadata": {},
     "output_type": "display_data"
    }
   ],
   "source": [
    "%%html\n",
    "<script>\n",
    "const fruitArray = [\"apple\", \"banana\", \"cherry\", \"mango\", \"strawberry\"];\n",
    "\n",
    "console.log(fruitArray);\n",
    "\n",
    "\n",
    "console.log(fruitArray.reverse());\n",
    "\n",
    "</script>"
   ]
  },
  {
   "cell_type": "markdown",
   "metadata": {},
   "source": [
    "#### Hack 2 Accessing Elements\n",
    "\n",
    "Given the array sports = [“soccer”, “football”, “basketball”, “wrestling”, “swimming”], write code that will display the values “soccer” and “wrestling” using their indexes. Use console.log() to show the output."
   ]
  },
  {
   "cell_type": "code",
   "execution_count": 33,
   "metadata": {
    "vscode": {
     "languageId": "html"
    }
   },
   "outputs": [
    {
     "data": {
      "text/html": [
       "<script>\n",
       "    const sports = [\"soccer\", \"football\", \"basketball\", \"wrestling\", \"swimming\"];\n",
       "\n",
       "    console.log(sports[0]); \n",
       "    console.log(sports[3]); \n",
       "    </script>\n"
      ],
      "text/plain": [
       "<IPython.core.display.HTML object>"
      ]
     },
     "metadata": {},
     "output_type": "display_data"
    }
   ],
   "source": [
    "%%html\n",
    "<script>\n",
    "    const sports = [\"soccer\", \"football\", \"basketball\", \"wrestling\", \"swimming\"];\n",
    "\n",
    "    console.log(sports[0]); \n",
    "    console.log(sports[3]); \n",
    "    </script>"
   ]
  },
  {
   "cell_type": "markdown",
   "metadata": {},
   "source": [
    "#### Hack 3 Adding and Removing Items\n",
    "\n",
    "Create an array called choresList initialized with four items of your choice. Write code using push(), shift(), pop(), and unshift() to change the list. Use console.log() to display the output each time you change the list."
   ]
  },
  {
   "cell_type": "code",
   "execution_count": 34,
   "metadata": {
    "vscode": {
     "languageId": "html"
    }
   },
   "outputs": [
    {
     "data": {
      "text/html": [
       "<script>\n",
       "const choresList = [\"do laundry\", \"wash dishes\", \"clean room\", \"take out trash\"];\n",
       "console.log(\"Initial list:\", choresList);\n",
       "\n",
       "choresList.push(\"mow the lawn\");\n",
       "console.log(\"After push():\", choresList);\n",
       "\n",
       "choresList.shift();\n",
       "console.log(\"After shift():\", choresList);\n",
       "\n",
       "choresList.pop();\n",
       "console.log(\"After pop():\", choresList);\n",
       "\n",
       "choresList.unshift(\"vacuum the floor\");\n",
       "console.log(\"After unshift():\", choresList);\n",
       "\n",
       "</script>\n"
      ],
      "text/plain": [
       "<IPython.core.display.HTML object>"
      ]
     },
     "metadata": {},
     "output_type": "display_data"
    }
   ],
   "source": [
    "%%html\n",
    "<script>\n",
    "    const choresList = [\"do laundry\", \"wash dishes\", \"clean room\", \"take out trash\"];\n",
    "    console.log(\"Initial list:\", choresList);\n",
    "    \n",
    "    choresList.push(\"mow the lawn\");\n",
    "    console.log(\"After push():\", choresList);\n",
    "    \n",
    "    choresList.shift();\n",
    "    console.log(\"After shift():\", choresList);\n",
    "    \n",
    "    choresList.pop();\n",
    "    console.log(\"After pop():\", choresList);\n",
    "    \n",
    "    choresList.unshift(\"vacuum the floor\");\n",
    "    console.log(\"After unshift():\", choresList);\n",
    "    \n",
    "    choresList.push(...[\"buy groceries\", \"walk the dog\", \"feed the cat\"]);\n",
    "    console.log(\"After push() with spread operator:\", choresList);\n",
    "    \n",
    "\n",
    "</script>"
   ]
  },
  {
   "cell_type": "markdown",
   "metadata": {},
   "source": [
    "#### Hack 4: Iteration and Conditionals\n",
    "\n",
    "Create an array that contains ten random numbers (both even and odd). Write a function that iterates through the entire array and counts how many times an even number appears in the list. Return the count and display the output using console.log()."
   ]
  },
  {
   "cell_type": "code",
   "execution_count": 36,
   "metadata": {
    "vscode": {
     "languageId": "html"
    }
   },
   "outputs": [
    {
     "data": {
      "text/html": [
       "<script>\n",
       "const numbersArray = [23, 45, 12, 56, 89, 34, 77, 68, 91, 22];\n",
       "\n",
       "function countEvenNumbers(arr) {\n",
       "    let evenCount = 0;\n",
       "    for (let i = 0; i < arr.length; i++) {\n",
       "        if (arr[i] % 2 === 0) {\n",
       "            evenCount++;\n",
       "        }\n",
       "    }\n",
       "    return evenCount;\n",
       "}\n",
       "\n",
       "const evenCount = countEvenNumbers(numbersArray);\n",
       "console.log(\"Number of even numbers:\", evenCount);\n",
       "\n",
       "</script>\n"
      ],
      "text/plain": [
       "<IPython.core.display.HTML object>"
      ]
     },
     "metadata": {},
     "output_type": "display_data"
    }
   ],
   "source": [
    "%%html\n",
    "<script>\n",
    "const numbersArray = [23, 45, 12, 56, 89, 34, 77, 68, 91, 22];\n",
    "\n",
    "function countEvenNumbers(arr) {\n",
    "    let evenCount = 0;\n",
    "    for (let i = 0; i < arr.length; i++) {\n",
    "        if (arr[i] % 2 === 0) {\n",
    "            evenCount++;\n",
    "        }\n",
    "    }\n",
    "    return evenCount;\n",
    "}\n",
    "\n",
    "const evenCount = countEvenNumbers(numbersArray);\n",
    "console.log(\"Number of even numbers:\", evenCount);\n",
    "\n",
    "</script>"
   ]
  },
  {
   "cell_type": "markdown",
   "metadata": {},
   "source": [
    "Console output:\n",
    "\n",
    "![img]({{site.baseurl}}/images/3.10b.png)"
   ]
  }
 ],
 "metadata": {
  "kernelspec": {
   "display_name": "venv",
   "language": "python",
   "name": "python3"
  },
  "language_info": {
   "codemirror_mode": {
    "name": "ipython",
    "version": 3
   },
   "file_extension": ".py",
   "mimetype": "text/x-python",
   "name": "python",
   "nbconvert_exporter": "python",
   "pygments_lexer": "ipython3",
   "version": "3.12.5"
  }
 },
 "nbformat": 4,
 "nbformat_minor": 2
}
