{
 "cells": [
  {
   "cell_type": "markdown",
   "metadata": {},
   "source": [
    "---\n",
    "toc: true\n",
    "layout: post\n",
    "title: Lessons 3.5 Hacks\n",
    "type: hacks\n",
    "courses: { compsci: {week: 6} }\n",
    "---"
   ]
  },
  {
   "cell_type": "markdown",
   "metadata": {},
   "source": [
    "# 3.5\n",
    "\n",
    "## Popcorn Hacks\n",
    "\n",
    "### 3.5.3\n",
    "\n",
    "#### Hack 1\n",
    "\n",
    "Check Number: Evaluates if number is less than 0. Output: Logs whether the number is negative or non-negative."
   ]
  },
  {
   "cell_type": "code",
   "execution_count": 1,
   "metadata": {},
   "outputs": [
    {
     "name": "stdout",
     "output_type": "stream",
     "text": [
      "This number is non-negative.\n"
     ]
    }
   ],
   "source": [
    "def number_checker():\n",
    "    try:\n",
    "        number = float(input(\"Please enter a number:\"))\n",
    "        if number < 0:\n",
    "            print(\"This number is negative.\")\n",
    "        if number == 0:\n",
    "            print(\"This number is neither positive nor negative.\")\n",
    "        else:\n",
    "            print(\"This number is non-negative.\")\n",
    "    except ValueError:\n",
    "        print(\"Please try again and enter a valid number\")\n",
    "\n",
    "number_checker()"
   ]
  },
  {
   "cell_type": "markdown",
   "metadata": {},
   "source": [
    "#### Hack #3\n",
    "\n",
    "Check Vowel: Checks if char is in the string ‘aeiou’. Output: Prints whether the character is a vowel or not."
   ]
  },
  {
   "cell_type": "code",
   "execution_count": 3,
   "metadata": {},
   "outputs": [
    {
     "name": "stdout",
     "output_type": "stream",
     "text": [
      "The character a is a vowel\n"
     ]
    }
   ],
   "source": [
    "chara = input(\"Please enter a character:\")\n",
    "\n",
    "def vowel_checker(chara):\n",
    "    vowels = \"aeiou\"\n",
    "    if chara.lower() in vowels:\n",
    "        print(\"The character\",chara,\"is a vowel\")\n",
    "    else:\n",
    "        print(\"The character\",chara,\"is not a vowel\")\n",
    "        \n",
    "if len(chara) == 1:\n",
    "    vowel_checker(chara)\n",
    "else:\n",
    "    print(\"Please enter a single character and try again.\")"
   ]
  }
 ],
 "metadata": {
  "kernelspec": {
   "display_name": "venv",
   "language": "python",
   "name": "python3"
  },
  "language_info": {
   "codemirror_mode": {
    "name": "ipython",
    "version": 3
   },
   "file_extension": ".py",
   "mimetype": "text/x-python",
   "name": "python",
   "nbconvert_exporter": "python",
   "pygments_lexer": "ipython3",
   "version": "3.12.5"
  }
 },
 "nbformat": 4,
 "nbformat_minor": 2
}
