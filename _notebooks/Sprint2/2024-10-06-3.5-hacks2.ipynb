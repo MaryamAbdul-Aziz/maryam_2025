{
 "cells": [
  {
   "cell_type": "markdown",
   "metadata": {},
   "source": [
    "---\n",
    "toc: true\n",
    "layout: post\n",
    "title: Lessons 3.5 Hacks\n",
    "menu: /nav/csp_unit3_hacks.html\n",
    "---"
   ]
  },
  {
   "cell_type": "markdown",
   "metadata": {},
   "source": [
    "# 3.5\n",
    "\n",
    "## Popcorn Hacks\n",
    "\n",
    "### 3.5.3\n",
    "\n",
    "#### Hack 1\n",
    "\n",
    "Check Number: Evaluates if number is less than 0. Output: Logs whether the number is negative or non-negative."
   ]
  },
  {
   "cell_type": "code",
   "execution_count": 1,
   "metadata": {},
   "outputs": [
    {
     "name": "stdout",
     "output_type": "stream",
     "text": [
      "This number is non-negative.\n"
     ]
    }
   ],
   "source": [
    "def number_checker():\n",
    "    try:\n",
    "        number = float(input(\"Please enter a number:\"))\n",
    "        if number < 0:\n",
    "            print(\"This number is negative.\")\n",
    "        if number == 0:\n",
    "            print(\"This number is neither positive nor negative.\")\n",
    "        else:\n",
    "            print(\"This number is non-negative.\")\n",
    "    except ValueError:\n",
    "        print(\"Please try again and enter a valid number\")\n",
    "\n",
    "number_checker()"
   ]
  },
  {
   "cell_type": "markdown",
   "metadata": {},
   "source": [
    "#### Hack #3\n",
    "\n",
    "Check Vowel: Checks if char is in the string ‘aeiou’. Output: Prints whether the character is a vowel or not."
   ]
  },
  {
   "cell_type": "code",
   "execution_count": 3,
   "metadata": {},
   "outputs": [
    {
     "name": "stdout",
     "output_type": "stream",
     "text": [
      "The character a is a vowel\n"
     ]
    }
   ],
   "source": [
    "chara = input(\"Please enter a character:\")\n",
    "\n",
    "def vowel_checker(chara):\n",
    "    vowels = \"aeiou\"\n",
    "    if chara.lower() in vowels:\n",
    "        print(\"The character\",chara,\"is a vowel\")\n",
    "    else:\n",
    "        print(\"The character\",chara,\"is not a vowel\")\n",
    "        \n",
    "if len(chara) == 1:\n",
    "    vowel_checker(chara)\n",
    "else:\n",
    "    print(\"Please enter a single character and try again.\")"
   ]
  },
  {
   "cell_type": "markdown",
   "metadata": {},
   "source": [
    "## Hacks\n",
    "\n",
    "### [3.5.3 Python Boolean Hacks](https://nighthawkcoders.github.io/portfolio_2025/csp/big-idea/p4/3-5-3)\n",
    "\n",
    "#### Hack 1\n",
    "\n",
    "Create a Truth Table: Develop a truth table for a given logical expression."
   ]
  },
  {
   "cell_type": "code",
   "execution_count": 2,
   "metadata": {},
   "outputs": [
    {
     "name": "stdout",
     "output_type": "stream",
     "text": [
      "M | A | M AND A | NOT (M AND A) | NOT M OR NOT A | M OR A | NOT (M OR A) | NOT M AND NOT A\n",
      "--------------------------------------------------------------------------------\n",
      "1     | 1     | 1         | 0            | 0             | 1       | 0            | 0            \n",
      "1     | 0     | 0         | 1            | 1             | 1       | 0            | 0            \n",
      "0     | 1     | 0         | 1            | 1             | 1       | 0            | 0            \n",
      "0     | 0     | 0         | 1            | 1             | 0       | 1            | 1            \n"
     ]
    }
   ],
   "source": [
    "import itertools\n",
    "\n",
    "# create table!\n",
    "headers = ['M', 'A', 'M AND A', 'NOT (M AND A)', 'NOT M OR NOT A', 'M OR A', 'NOT (M OR A)', 'NOT M AND NOT A']\n",
    "\n",
    "# generate all possible t/f combinations\n",
    "# [(True, True), (True, False), (False, True), (False, False)]\n",
    "values = list(itertools.product([True, False], repeat=2))\n",
    "\n",
    "\n",
    "def print_truth_table():\n",
    "    # using f-strings, make headers of table and seperate with dashes\n",
    "    print(f\"{' | '.join(headers)}\")\n",
    "    print(\"-\" * 80)\n",
    "    \n",
    "    # truth table statements\n",
    "    for M, A in values:\n",
    "        m_and_a = M and A\n",
    "        not_m_and_a = not (M and A)\n",
    "        not_m_or_not_a = not M or not A\n",
    "        m_or_a = M or A\n",
    "        not_m_or_a = not (M or A)\n",
    "        not_m_and_not_a = not M and not A\n",
    "        \n",
    "       # format the table\n",
    "        print(f\"{M:<5} | {A:<5} | {m_and_a:<9} | {not_m_and_a:<12} | {not_m_or_not_a:<13} | {m_or_a:<7} | {not_m_or_a:<12} | {not_m_and_not_a:<13}\")\n",
    "\n",
    "\n",
    "print_truth_table()"
   ]
  },
  {
   "cell_type": "markdown",
   "metadata": {},
   "source": [
    "#### Hack 2\n",
    "\n",
    "Design a Game Using De Morgan’s Law: Create a game that uses De Morgan’s Law to simplify yes or no functions."
   ]
  },
  {
   "cell_type": "code",
   "execution_count": 3,
   "metadata": {},
   "outputs": [
    {
     "data": {
      "application/vnd.jupyter.widget-view+json": {
       "model_id": "763004b7a51048c2b6d9d334f95b8541",
       "version_major": 2,
       "version_minor": 0
      },
      "text/plain": [
       "Button(description='Play', style=ButtonStyle())"
      ]
     },
     "metadata": {},
     "output_type": "display_data"
    }
   ],
   "source": [
    "import random\n",
    "import ipywidgets as widgets\n",
    "from IPython.display import display, clear_output\n",
    "\n",
    "def ran_truth_val():\n",
    "    return random.choice([True, False])\n",
    "\n",
    "def check_answer(correct_answer, player_answer):\n",
    "    return correct_answer == player_answer\n",
    "\n",
    "def play_level(expression, correct_answer):\n",
    "    print(expression)\n",
    "    player_answer = input(\"Your answer (True/False): \").strip()\n",
    "    \n",
    "    if player_answer not in [\"True\", \"False\"]:\n",
    "        print(\"Invalid input! Please enter True or False.\")\n",
    "        return False\n",
    "    \n",
    "    player_answer = player_answer == \"True\"\n",
    "    \n",
    "    if check_answer(correct_answer, player_answer):\n",
    "        print(\"Correct!\\n\")\n",
    "        return True\n",
    "    else:\n",
    "        print(\"Incorrect! The correct answer was {correct_answer}. Game Over.\\n\")\n",
    "        return False\n",
    "\n",
    "def main():\n",
    "    clear_output()\n",
    "    print(\"Welcome to the De Morgan's Law Game!\")\n",
    "    \n",
    "    # Level 1\n",
    "    I = ran_truth_val()\n",
    "    O = ran_truth_val()\n",
    "    expression = \"Level 1: Solve this expression using De Morgan's Law: not (I or O)\\nI = {I}, O = {O}\"\n",
    "    correct_answer = (not I) and (not O)\n",
    "    \n",
    "    if not play_level(expression, correct_answer):\n",
    "        return\n",
    "    \n",
    "    # Level 2\n",
    "    J = ran_truth_val()\n",
    "    K = ran_truth_val()\n",
    "    expression = \"Level 2: Solve this expression using De Morgan's Law: not (J and K)\\nJ = {J}, K = {K}\"\n",
    "    correct_answer = (not J) or (not K)\n",
    "    \n",
    "    if not play_level(expression, correct_answer):\n",
    "        return\n",
    "    \n",
    "    print(\"Congratulations! You passed all levels.\")\n",
    "\n",
    "\n",
    "play_button = widgets.Button(description=\"Play\")\n",
    "\n",
    "\n",
    "def on_play_button_clicked(b):\n",
    "    main()\n",
    "\n",
    "\n",
    "play_button.on_click(on_play_button_clicked)\n",
    "\n",
    "\n",
    "display(play_button)"
   ]
  },
  {
   "cell_type": "markdown",
   "metadata": {},
   "source": [
    "### [3.5.4 JavaScript Boolean Hacks](https://nighthawkcoders.github.io/portfolio_2025/csp/big-idea/p4/3-5-4)"
   ]
  },
  {
   "cell_type": "markdown",
   "metadata": {},
   "source": [
    "To see the below two hacks in action, visit [here](https://maryamabdul-aziz.github.io/maryam_2025//3-5-hackspost)."
   ]
  },
  {
   "cell_type": "markdown",
   "metadata": {},
   "source": [
    "#### Hack 1\n",
    "\n",
    "Password Creator Hack: Check whether a user’s password meets certain criteria\n",
    "\n",
    "1. The password must be at least 10 characters long.\n",
    "2. It must include both uppercase and lowercase letters.\n",
    "3. It must contain at least one number.\n",
    "4. It must not contain any spaces."
   ]
  },
  {
   "cell_type": "code",
   "execution_count": null,
   "metadata": {
    "vscode": {
     "languageId": "html"
    }
   },
   "outputs": [],
   "source": [
    "%%html\n",
    "\n",
    "<script>\n",
    "    console.log(\"Password requirements:\\n1. The password must be at least 10 characters long.\\n2. It must include both uppercase and lowercase letters.\\n3. It must contain at least one number.\\n4. It must not contain any spaces.\")\n",
    "\n",
    "    user_password=prompt(\"Please create a password:\")\n",
    "\n",
    "    function passwordChecker(user_password) {\n",
    "        // character checking\n",
    "        const hasUppercase = /[A-Z]/;\n",
    "        const hasLowercase = /[a-z]/;\n",
    "        const hasNumber = /[0-9]/;\n",
    "        const hasSpace = /\\s/;\n",
    "\n",
    "        // test for each\n",
    "        const lengthValid = user_password.length >= 10;\n",
    "        const hasUpper = hasUppercase.test(user_password);\n",
    "        const hasLower = hasLowercase.test(user_password);\n",
    "        const hasNum = hasNumber.test(user_password);\n",
    "        const noSpace = !hasSpace.test(user_password);  \n",
    "        \n",
    "        // if it doesnt have every requirement...\n",
    "        if (!(lengthValid && hasUpper && hasLower && hasSpace)){\n",
    "            console.log(\"This password is not valid. Please create a valid password:\")\n",
    "            return false;\n",
    "        }\n",
    "\n",
    "        return true;\n",
    "}\n",
    "</script>"
   ]
  },
  {
   "cell_type": "markdown",
   "metadata": {},
   "source": [
    "#### Hack 2\n",
    "\n",
    "Personality Quiz Hack: Create a simple multiple-choice personality quiz that gives you a brief description of your personality based on the questions answered from the quiz\n",
    "\n",
    "1. Must have at least 10 different questions\n",
    "2. Must be multiple choice\n",
    "3. Must have multiple different outputs based on results"
   ]
  },
  {
   "cell_type": "code",
   "execution_count": null,
   "metadata": {
    "vscode": {
     "languageId": "html"
    }
   },
   "outputs": [],
   "source": [
    "%%html\n",
    "\n",
    "<h1>Seasons Quiz</h1>\n",
    "<h3>Take this quiz to find out what season you are!</h3>\n",
    "Disclaimer: I made this quiz at 1AM\n",
    "\n",
    "  <form id=\"quiz-form\">\n",
    "    <div class=\"question\">\n",
    "        <p>1. What's your favorite way to spend your free time?</p>\n",
    "        <input type=\"radio\" name=\"q1\" value=\"winter\"> A. Spending a night in<br>\n",
    "        <input type=\"radio\" name=\"q1\" value=\"spring\"> B. Trying something new<br>\n",
    "        <input type=\"radio\" name=\"q1\" value=\"summer\"> C. Doing something you've been thinking about starting on a whim<br>\n",
    "        <input type=\"radio\" name=\"q1\" value=\"fall\"> D. Journaling, or having deep conversations with your friends<br>\n",
    "    </div>\n",
    "\n",
    "    <div class=\"question\">\n",
    "        <p>2. What kind of movies do you enjoy?</p>\n",
    "        <input type=\"radio\" name=\"q2\" value=\"summer\"> A. Action and adventure<br>\n",
    "        <input type=\"radio\" name=\"q2\" value=\"winter\"> B. Nostalgic favorites<br>\n",
    "        <input type=\"radio\" name=\"q2\" value=\"spring\"> C. Anything new that's come out!<br>\n",
    "        <input type=\"radio\" name=\"q2\" value=\"fall\"> D. Dramas<br>\n",
    "      </div>\n",
    "      \n",
    "    <div class=\"question\">\n",
    "        <p>3. What's your favorite color?</p>\n",
    "        <input type=\"radio\" name=\"q3\" value=\"fall\"> A. Oranges and browns<br>\n",
    "        <input type=\"radio\" name=\"q3\" value=\"spring\"> B. Anything bright!<br>\n",
    "        <input type=\"radio\" name=\"q3\" value=\"summer\"> C. Warmer colors<br>\n",
    "        <input type=\"radio\" name=\"q3\" value=\"winter\"> D. Cooler colors<br>\n",
    "    </div>\n",
    "  \n",
    "    <div class=\"question\">\n",
    "        <p>4. What would your friends say about you?</p>\n",
    "        <input type=\"radio\" name=\"q4\" value=\"fall\"> A. Quiet and observant<br>\n",
    "        <input type=\"radio\" name=\"q4\" value=\"winter\"> B. Relaxed and laid back<br>\n",
    "        <input type=\"radio\" name=\"q4\" value=\"summer\"> C. Brave and spontaneous<br>\n",
    "        <input type=\"radio\" name=\"q4\" value=\"spring\"> D. Vibrant and fun<br>\n",
    "    </div>\n",
    "      \n",
    "    <div class=\"question\">\n",
    "        <p>5. Which quote stands out to you?</p>\n",
    "        <input type=\"radio\" name=\"q5\" value=\"spring\"> A. In the springtime, the heart regrows hope<br>\n",
    "        <input type=\"radio\" name=\"q5\" value=\"winter\"> B. What good is the warmth of summer, without the cold of winter to give it sweetness?<br>\n",
    "        <input type=\"radio\" name=\"q5\" value=\"fall\"> C. Autumn shows us how beautiful it is to let things go<br>\n",
    "        <input type=\"radio\" name=\"q5\" value=\"summer\"> D. Summertime is always the best of what might be<br>\n",
    "    </div>\n",
    "\n",
    "    <div class=\"question\">\n",
    "        <p>6. How do you prefer to plan your day?</p>\n",
    "        <input type=\"radio\" name=\"q6\" value=\"spring\"> A. In my planner<br>\n",
    "        <input type=\"radio\" name=\"q6\" value=\"winter\"> B. Why plan? Just hang around and relax.<br>\n",
    "        <input type=\"radio\" name=\"q6\" value=\"fall\"> C. In a way that only includes activities most important to me<br>\n",
    "        <input type=\"radio\" name=\"q6\" value=\"summer\"> D. With a full, packed itinerary of all the new things to do<br>\n",
    "    </div>\n",
    "\n",
    "    <div class=\"question\">\n",
    "      <p>7. Would you consider yourself a type A person or type B? (A = planner, detail-oriented, B = let it happen)</p>\n",
    "      <input type=\"radio\" name=\"q7\" value=\"spring\"> A. A for sure!<br>\n",
    "      <input type=\"radio\" name=\"q7\" value=\"summer\"> B. Hahahahah yeah I\\'m type B <br>\n",
    "      <input type=\"radio\" name=\"q7\" value=\"fall\"> C. Does it matter?<br>\n",
    "      <input type=\"radio\" name=\"q7\" value=\"winter\"> D. What<br>\n",
    "    </div>\n",
    "\n",
    "    <div class=\"question\">\n",
    "      <p>8. What is your favorite class?</p>\n",
    "      <input type=\"radio\" name=\"q8\" value=\"summer\"> A. Ceramics! It\\'s so different from anything I've ever taken before<br>\n",
    "      <input type=\"radio\" name=\"q8\" value=\"winter\"> B. Anything history<br>\n",
    "      <input type=\"radio\" name=\"q8\" value=\"spring\"> C. Anything STEM<br>\n",
    "      <input type=\"radio\" name=\"q8\" value=\"fall\"> D. Pyschology <br>\n",
    "    </div>\n",
    "    \n",
    "    <div class=\"question\">\n",
    "      <p>9. Why would you make me add 10 questions to this quiz?</p>\n",
    "      <input type=\"radio\" name=\"q9\" value=\"fall\"> A. Such is life<br>\n",
    "      <input type=\"radio\" name=\"q9\" value=\"spring\"> B. Not sure!<br>\n",
    "      <input type=\"radio\" name=\"q9\" value=\"summer\"> C. I don\\'t mind it<br>\n",
    "      <input type=\"radio\" name=\"q9\" value=\"winter\"> D. Who cares<br>\n",
    "    </div>\n",
    "\n",
    "    <div class=\"question\">\n",
    "      <p>10. What's your favorite season?</p>\n",
    "      <input type=\"radio\" name=\"q10\" value=\"fall\"> A. Fall<br>\n",
    "      <input type=\"radio\" name=\"q10\" value=\"winter\"> B. Winter<br>\n",
    "      <input type=\"radio\" name=\"q10\" value=\"summer\"> C. Summer<br>\n",
    "      <input type=\"radio\" name=\"q10\" value=\"spring\"> D. Spring<br>\n",
    "    </div>\n",
    "\n",
    "    <button type=\"button\" onclick=\"finalResult()\">Submit</button>\n",
    "</form>\n",
    "\n",
    "<h2>Your Season: <span id=\"result\"></span></h2>\n",
    "\n",
    "<script>\n",
    "  function finalResult() {\n",
    "    let score = {\n",
    "      winter: 0,\n",
    "      spring: 0,\n",
    "      summer: 0,\n",
    "      fall: 0\n",
    "    };\n",
    "\n",
    "    // Grab form data\n",
    "    const form = document.getElementById('quiz-form');\n",
    "    const formData = new FormData(form);\n",
    "\n",
    "    // Tally scores\n",
    "    for (let [key, value] of formData.entries()) {\n",
    "      score[value]++; // Fix variable name to match the score object\n",
    "    }\n",
    "\n",
    "    // Determine result\n",
    "    let result = '';\n",
    "    const maxScore = Math.max(score.winter, score.spring, score.summer, score.fall);\n",
    "\n",
    "    // Share answer\n",
    "    if (maxScore === score.winter) {\n",
    "      result = \"Winter: You love taking time to relax and reflect\";\n",
    "    } else if (maxScore === score.spring) {\n",
    "      result = \"Spring: You love new beginnings and fresh starts\";\n",
    "    } else if (maxScore === score.summer) {\n",
    "      result = \"Summer: You are adventurous and enjoy trying new things\";\n",
    "    } else if (maxScore === score.fall) {\n",
    "      result = \"Fall: You are reflective and introspective yet curious\";\n",
    "    }\n",
    "\n",
    "    // Display the result\n",
    "    document.getElementById('result').textContent = result;\n",
    "  }\n",
    "</script>"
   ]
  }
 ],
 "metadata": {
  "kernelspec": {
   "display_name": "venv",
   "language": "python",
   "name": "python3"
  },
  "language_info": {
   "codemirror_mode": {
    "name": "ipython",
    "version": 3
   },
   "file_extension": ".py",
   "mimetype": "text/x-python",
   "name": "python",
   "nbconvert_exporter": "python",
   "pygments_lexer": "ipython3",
   "version": "3.12.5"
  }
 },
 "nbformat": 4,
 "nbformat_minor": 2
}
