{
 "cells": [
  {
   "cell_type": "markdown",
   "metadata": {},
   "source": [
    "---\n",
    "toc: true\n",
    "layout: post\n",
    "title: Lessons 3.7 Hacks\n",
    "type: hacks\n",
    "courses: { compsci: {week: 7} }\n",
    "---"
   ]
  },
  {
   "cell_type": "markdown",
   "metadata": {},
   "source": [
    "# 3.7\n",
    "\n",
    "## Popcorn Hacks\n",
    "\n",
    "### 3.7.1 Nested Conditionals Python\n",
    "\n",
    "#### Hack 1\n",
    "\n",
    "Try adding an additional condition for hiking (like location_determined or miles_in_the_hike)."
   ]
  },
  {
   "cell_type": "code",
   "execution_count": 1,
   "metadata": {},
   "outputs": [
    {
     "name": "stdout",
     "output_type": "stream",
     "text": [
      "Your energy is low\n",
      "The weather is sunny\n",
      "Your transportation is available\n",
      "Your boots are not present\n",
      "You don't have enough energy to go hiking.\n"
     ]
    }
   ],
   "source": [
    "energy = \"low\"\n",
    "weather = \"sunny\"\n",
    "transportation = \"available\"\n",
    "boots = \"not present\"\n",
    "\n",
    "print(\"Your energy is \" + energy)\n",
    "print(\"The weather is \" + weather)\n",
    "print(\"Your transportation is \" + transportation)\n",
    "print(\"Your boots are \" + boots)\n",
    "\n",
    "if energy == \"high\":\n",
    "    if weather == \"sunny\":\n",
    "        if transportation == \"available\":\n",
    "            if boots == \"present\":\n",
    "                print(\"You are ready to go hiking!\")\n",
    "            else:\n",
    "                print(\"You need to find your boots first.\")\n",
    "        else:\n",
    "            print(\"You need to arrange transportation.\")\n",
    "    else:\n",
    "        print(\"It's not good weather for hiking.\")\n",
    "else:\n",
    "    print(\"You don't have enough energy to go hiking.\")"
   ]
  },
  {
   "cell_type": "markdown",
   "metadata": {},
   "source": [
    "I added a condition for energy levels."
   ]
  },
  {
   "cell_type": "markdown",
   "metadata": {},
   "source": [
    "### 3.7.2 Nested Conditionals JavaScript\n",
    "\n",
    "#### Hack 1\n"
   ]
  },
  {
   "cell_type": "code",
   "execution_count": 2,
   "metadata": {
    "vscode": {
     "languageId": "html"
    }
   },
   "outputs": [
    {
     "data": {
      "text/html": [
       "<script>\n",
       "let energy = \"low\";\n",
       "let weather = \"sunny\";\n",
       "let transportation = \"available\";\n",
       "let boots = \"not present\";\n",
       "\n",
       "console.log(\"Your energy is \" + energy);\n",
       "console.log(\"The weather is \" + weather);\n",
       "console.log(\"Your transportation is \" + transportation);\n",
       "console.log(\"Your boots are \" + boots);\n",
       "\n",
       "if (energy === \"high\") {\n",
       "    if (weather === \"sunny\") {\n",
       "        if (transportation === \"available\") {\n",
       "            if (boots === \"present\") {\n",
       "                console.log(\"You are ready to go hiking!\");\n",
       "            } else {\n",
       "                console.log(\"You need to find your boots first.\");\n",
       "            }\n",
       "        } else {\n",
       "            console.log(\"You need to arrange transportation.\");\n",
       "        }\n",
       "    } else {\n",
       "        console.log(\"It's not good weather for hiking.\");\n",
       "    }\n",
       "} else {\n",
       "    console.log(\"You don't have enough energy for hiking.\");\n",
       "}\n",
       "\n",
       "</script>\n"
      ],
      "text/plain": [
       "<IPython.core.display.HTML object>"
      ]
     },
     "metadata": {},
     "output_type": "display_data"
    }
   ],
   "source": [
    "%%html\n",
    "<script>\n",
    "let energy = \"low\";\n",
    "let weather = \"sunny\";\n",
    "let transportation = \"available\";\n",
    "let boots = \"not present\";\n",
    "\n",
    "console.log(\"Your energy is \" + energy);\n",
    "console.log(\"The weather is \" + weather);\n",
    "console.log(\"Your transportation is \" + transportation);\n",
    "console.log(\"Your boots are \" + boots);\n",
    "\n",
    "if (energy === \"high\") {\n",
    "    if (weather === \"sunny\") {\n",
    "        if (transportation === \"available\") {\n",
    "            if (boots === \"present\") {\n",
    "                console.log(\"You are ready to go hiking!\");\n",
    "            } else {\n",
    "                console.log(\"You need to find your boots first.\");\n",
    "            }\n",
    "        } else {\n",
    "            console.log(\"You need to arrange transportation.\");\n",
    "        }\n",
    "    } else {\n",
    "        console.log(\"It's not good weather for hiking.\");\n",
    "    }\n",
    "} else {\n",
    "    console.log(\"You don't have enough energy for hiking.\");\n",
    "}\n",
    "\n",
    "</script>"
   ]
  },
  {
   "cell_type": "markdown",
   "metadata": {},
   "source": [
    "I added a condition for energy levels again."
   ]
  },
  {
   "cell_type": "markdown",
   "metadata": {},
   "source": [
    "## Hacks\n",
    "\n",
    "### [3.7.3 Nested Conditionals Python](https://nighthawkcoders.github.io/portfolio_2025/csp/big-idea/p4/3-7-3)\n",
    "\n",
    "#### Hack 1\n",
    "\n",
    "Write Python pseudocode to decide whether or not to go to the beach.\n",
    "1. The weather must be sunny.\n",
    "2. You must have sunscreen.\n",
    "3. You must have enough snacks.\n",
    "- If all conditions are met, output a message that says you are ready for the beach.\n",
    "- If you don’t have enough snacks, suggest getting snacks first.\n",
    "- If you don’t have sunscreen, suggest buying sunscreen.\n",
    "- If the weather is not sunny, output that it’s not a good day for the beach."
   ]
  },
  {
   "cell_type": "markdown",
   "metadata": {
    "vscode": {
     "languageId": "raw"
    }
   },
   "source": [
    "```plaintext\n",
    "weather1 = \"sunny\"\n",
    "sunscreen1 = True\n",
    "snacks1 = 3\n",
    "\n",
    "def beach_check(weather, sunscreen, snacks):\n",
    "    if weather == \"sunny\":\n",
    "        if sunscreen == True:\n",
    "            if snacks=>5:\n",
    "                print(\"You can go to the beach!\")\n",
    "            else:\n",
    "                print(\"You need more snacks\")\n",
    "        else:\n",
    "            print(\"Get some sunscreen\")\n",
    "    else:\n",
    "        print(\"Today's not a good day\")\n",
    "\n",
    "beach_check(weather1, sunscreen1, snacks1)\n",
    "\n",
    "Output: \"You need more snacks\"\n",
    "```"
   ]
  },
  {
   "cell_type": "markdown",
   "metadata": {},
   "source": [
    "#### Hack 2\n",
    "Write a Python code that checks if you can adopt a pet.\n",
    "Include the following conditions:\n",
    "1. You must be 18 years or older.\n",
    "2. You must have enough space in your home (more than 50 square feet).\n",
    "3. You must be available to take care of the pet (true/false).\n",
    "\n",
    "- If all conditions are true, print that you can adopt the pet.\n",
    "- If you don’t have enough space, print that you need a bigger home.\n",
    "- If you aren’t available to take care of the pet, print that you need to make time.\n",
    "- If you are not 18 or older, print that you must be at least 18 to adopt a pet."
   ]
  },
  {
   "cell_type": "code",
   "execution_count": 6,
   "metadata": {},
   "outputs": [
    {
     "name": "stdout",
     "output_type": "stream",
     "text": [
      "Your age is 18\n",
      "You have 100 square feet in your house\n",
      "Do you have availability? False\n",
      "\n",
      "You need to make time for a pet.\n"
     ]
    }
   ],
   "source": [
    "age1 = 18\n",
    "space1 = 100\n",
    "available1 = False\n",
    "\n",
    "print(f\"Your age is {age1}\")\n",
    "print(f\"You have {space1} square feet in your house\")\n",
    "print(f\"Do you have availability? {available1}\\n\")\n",
    "\n",
    "def pet_check(age, space, available):\n",
    "    if age>=18:\n",
    "        if space>=50:\n",
    "            if available==True:\n",
    "                print(\"You can adopt a pet!\")\n",
    "            else:\n",
    "                print(\"You need to make time for a pet.\")\n",
    "        else:\n",
    "            print(\"You need a bigger home.\")\n",
    "    else:\n",
    "        print(\"You need to be at least 18 to adopt a pet.\")\n",
    "\n",
    "pet_check(age1, space1, available1)\n"
   ]
  },
  {
   "cell_type": "markdown",
   "metadata": {},
   "source": [
    "#### Hack 3\n",
    "\n",
    "Write Python code to determine whether or not to participate in a marathon.\n",
    "\n",
    "Check the following conditions:\n",
    "1. The weather must be clear.\n",
    "2. You must have running shoes.\n",
    "3. You must have practiced for at least 10 days.\n",
    "\n",
    "- If all conditions are met, print that you are ready for the marathon.\n",
    "- If you don’t have running shoes, print that you need to buy shoes first.\n",
    "- If you haven’t practiced enough, print that you need to practice more.\n",
    "- If the weather is not clear, print that it’s not the right time for the marathon.\n"
   ]
  },
  {
   "cell_type": "code",
   "execution_count": 8,
   "metadata": {},
   "outputs": [
    {
     "name": "stdout",
     "output_type": "stream",
     "text": [
      "The weather is clear\n",
      "Do you have your shoes? True\n",
      "You have practiced for 7 days\n",
      "\n",
      "Practice for at least 3 more days.\n"
     ]
    }
   ],
   "source": [
    "weather1 = \"clear\"\n",
    "running_shoes1 = True\n",
    "days_practiced1 = 7\n",
    "\n",
    "print(f\"The weather is {weather1}\")\n",
    "print(f\"Do you have your shoes? {running_shoes1}\")\n",
    "print(f\"You have practiced for {days_practiced1} days\\n\")\n",
    "\n",
    "def marathon_check(weather, running_shoes, days_practiced):\n",
    "    if weather == \"clear\":\n",
    "        if running_shoes == True:\n",
    "            if days_practiced>=10:\n",
    "                print(\"You are ready to run a marathon!\")\n",
    "            else:\n",
    "                print(f\"Practice for at least {10-days_practiced} more days.\")\n",
    "        else:\n",
    "            print(\"You should get your running shoes.\")\n",
    "    else:\n",
    "        print(\"Pick a different day to run a marathon.\")\n",
    "\n",
    "marathon_check(weather1, running_shoes1, days_practiced1)"
   ]
  },
  {
   "cell_type": "markdown",
   "metadata": {},
   "source": [
    "### [3.7.4 Nested Conditionals JavaScript](https://nighthawkcoders.github.io/portfolio_2025/csp/big-idea/p4/3-7-4)\n",
    "\n",
    "#### Hack 1\n",
    "\n",
    "Write Javascript pseudocode to decide whether or not to study for an exam.\n",
    "\n",
    "Check the following conditions:\n",
    "1. You must have your study materials (books, notes, etc.).\n",
    "2. You must have a quiet place to study.\n",
    "3. You must not be feeling too tired.\n",
    "\n",
    "- If all conditions are met, print that you are ready to study.\n",
    "- If you don’t have a quiet place, suggest finding a quiet location.\n",
    "- If you are too tired, suggest taking a nap or resting first.\n",
    "- If you don’t have your study materials, print that you need to gather them first."
   ]
  },
  {
   "cell_type": "markdown",
   "metadata": {},
   "source": [
    "```plaintext\n",
    "studyMaterials1 = \"present\";\n",
    "locationLoud1 = false;\n",
    "tiredness1 = 19;\n",
    "\n",
    "function studyNow(studyMaterials, locationLoud, tiredness) {\n",
    "    if (studyMaterials == \"present\") {\n",
    "        if (locationLoud == false) {\n",
    "            if (tiredness <= 10) {\n",
    "                console.log(\"You are ready to study!\");\n",
    "            } else {\n",
    "                console.log(\"You are too tired. Take a nap or rest first.\");\n",
    "            }\n",
    "        } else {\n",
    "            console.log(\"You need to find a quiet place to study.\");\n",
    "        }\n",
    "    } else {\n",
    "        console.log(\"You need to gather your study materials first.\");\n",
    "    }\n",
    "}\n",
    "\n",
    "studyNow(studyMaterials1, locationLoud1, tiredness1);\n",
    "\n",
    "Output: \"You are too tired. Take a nap or rest first.\"\n",
    "```"
   ]
  },
  {
   "cell_type": "markdown",
   "metadata": {},
   "source": [
    "#### Hack 2\n",
    "\n",
    "Write Javascript code deciding whether or not you can bake a cake.\n",
    "\n",
    "Check the following conditions:\n",
    "1. You must have all the ingredients (flour, eggs, sugar).\n",
    "2. Your oven must be working.\n",
    "3. You must have at least 2 hours to bake and cool the cake.\n",
    "\n",
    "- If all conditions are true, print that you can start baking.\n",
    "- If you don't have enough time, print that you need to find more time.\n",
    "- If the oven is not working, print that you need to fix or replace the oven.\n",
    "- If you don't have all the ingredients, print what you are missing."
   ]
  },
  {
   "cell_type": "code",
   "execution_count": 11,
   "metadata": {
    "vscode": {
     "languageId": "html"
    }
   },
   "outputs": [
    {
     "data": {
      "text/html": [
       "<script>\n",
       "const requiredIngredients = [\"flour\", \"eggs\", \"sugar\"];\n",
       "ingredients1 = [\"flour\", \"eggs\", \"sugar\"];\n",
       "ovenWorking1 = true;\n",
       "hoursAvailable1 = 2;\n",
       "\n",
       "console.log(`You have ${ingredients1}.`)\n",
       "console.log(`Is the oven working? ${ovenWorking1}`)\n",
       "console.log(`You have ${hoursAvailable1} hours available.\\n`)\n",
       "\n",
       "\n",
       "function bakeCheck(ingredients, ovenWorking, hoursAvailable){\n",
       "    if (requiredIngredients.every(ingredient => ingredients.includes(ingredient))){\n",
       "        if (ovenWorking == true){\n",
       "            if (hoursAvailable>=2){\n",
       "                console.log(\"You can start baking a cake!\");\n",
       "            } else {\n",
       "                console.log(\"You need to find more time to bake.\");\n",
       "            }\n",
       "        }else {\n",
       "            console.log(\"You need to fix or replace the oven.\");\n",
       "        }\n",
       "    } else {\n",
       "        // Find missing ingredients\n",
       "        const missingIngredients = requiredIngredients.filter(ingredient => !ingredients.includes(ingredient));\n",
       "        console.log(`You are missing ${missingIngredients.join(\", \")}`);\n",
       "    }\n",
       "}\n",
       "\n",
       "bakeCheck(ingredients1, ovenWorking1, hoursAvailable1);\n",
       "\n",
       "</script>\n"
      ],
      "text/plain": [
       "<IPython.core.display.HTML object>"
      ]
     },
     "metadata": {},
     "output_type": "display_data"
    }
   ],
   "source": [
    "%%html\n",
    "<script>\n",
    "const requiredIngredients = [\"flour\", \"eggs\", \"sugar\"];\n",
    "ingredients1 = [\"flour\", \"eggs\", \"sugar\"];\n",
    "ovenWorking1 = true;\n",
    "hoursAvailable1 = 2;\n",
    "\n",
    "console.log(`You have ${ingredients1}.`)\n",
    "console.log(`Is the oven working? ${ovenWorking1}`)\n",
    "console.log(`You have ${hoursAvailable1} hours available.\\n`)\n",
    "\n",
    "\n",
    "function bakeCheck(ingredients, ovenWorking, hoursAvailable){\n",
    "    if (requiredIngredients.every(ingredient => ingredients.includes(ingredient))){\n",
    "        if (ovenWorking == true){\n",
    "            if (hoursAvailable>=2){\n",
    "                console.log(\"You can start baking a cake!\");\n",
    "            } else {\n",
    "                console.log(\"You need to find more time to bake.\");\n",
    "            }\n",
    "        }else {\n",
    "            console.log(\"You need to fix or replace the oven.\");\n",
    "        }\n",
    "    } else {\n",
    "        // Find missing ingredients\n",
    "        const missingIngredients = requiredIngredients.filter(ingredient => !ingredients.includes(ingredient));\n",
    "        console.log(`You are missing ${missingIngredients.join(\", \")}`);\n",
    "    }\n",
    "}\n",
    "\n",
    "bakeCheck(ingredients1, ovenWorking1, hoursAvailable1);\n",
    "\n",
    "</script>"
   ]
  },
  {
   "cell_type": "markdown",
   "metadata": {},
   "source": [
    "#### Hack 3\n",
    "\n",
    "Write Javascript code to determine whether or not to go camping.\n",
    "\n",
    "Check the following conditions:\n",
    "1. The weather must be clear.\n",
    "2. You must have a tent.\n",
    "3. You must have enough food and water for the trip.\n",
    "\n",
    "\n",
    "- If all conditions are met, print that you are ready to go camping.\n",
    "- If you don’t have a tent, print that you need to buy or borrow a tent.\n",
    "- If you don’t have enough food and water, print that you need to pack more.\n",
    "- If the weather is not clear, print that it’s not a good time for camping."
   ]
  },
  {
   "cell_type": "code",
   "execution_count": 13,
   "metadata": {
    "vscode": {
     "languageId": "html"
    }
   },
   "outputs": [
    {
     "data": {
      "text/html": [
       "<script>\n",
       "//test var\n",
       "let weather1 = \"clear\";\n",
       "let hasTent1 = false;\n",
       "let foodAndWater1 = 5;\n",
       "\n",
       "console.log(`The weather is ${weather1}.`);\n",
       "console.log(`Do you have a tent? ${hasTent1}`);\n",
       "console.log(`You have ${foodAndWater1} units of food and water.\\n`);\n",
       "\n",
       "function goCamping(weather, hasTent, foodAndWater) {\n",
       "    if (weather === \"clear\") {\n",
       "        if (hasTent) {\n",
       "            if (foodAndWater >= 10) {\n",
       "                console.log(\"You are ready to go camping!\");\n",
       "            } else {\n",
       "                console.log(\"You need to pack more food and water.\");\n",
       "            }\n",
       "        } else {\n",
       "            console.log(\"You need to buy or borrow a tent.\");\n",
       "        }\n",
       "    } else {\n",
       "        console.log(\"It's not a good time for camping.\");\n",
       "    }\n",
       "}\n",
       "\n",
       "//print statement\n",
       "goCamping(weather1, hasTent1, foodAndWater1);\n",
       "\n",
       "</script>\n"
      ],
      "text/plain": [
       "<IPython.core.display.HTML object>"
      ]
     },
     "metadata": {},
     "output_type": "display_data"
    }
   ],
   "source": [
    "%%html\n",
    "<script>\n",
    "//test var\n",
    "let weather1 = \"clear\";\n",
    "let hasTent1 = false;\n",
    "let foodAndWater1 = 5;\n",
    "\n",
    "console.log(`The weather is ${weather1}.`);\n",
    "console.log(`Do you have a tent? ${hasTent1}`);\n",
    "console.log(`You have ${foodAndWater1} units of food and water.\\n`);\n",
    "\n",
    "function goCamping(weather, hasTent, foodAndWater) {\n",
    "    if (weather === \"clear\") {\n",
    "        if (hasTent) {\n",
    "            if (foodAndWater >= 10) {\n",
    "                console.log(\"You are ready to go camping!\");\n",
    "            } else {\n",
    "                console.log(\"You need to pack more food and water.\");\n",
    "            }\n",
    "        } else {\n",
    "            console.log(\"You need to buy or borrow a tent.\");\n",
    "        }\n",
    "    } else {\n",
    "        console.log(\"It's not a good time for camping.\");\n",
    "    }\n",
    "}\n",
    "\n",
    "//print statement\n",
    "goCamping(weather1, hasTent1, foodAndWater1);\n",
    "\n",
    "</script>"
   ]
  }
 ],
 "metadata": {
  "kernelspec": {
   "display_name": "venv",
   "language": "python",
   "name": "python3"
  },
  "language_info": {
   "codemirror_mode": {
    "name": "ipython",
    "version": 3
   },
   "file_extension": ".py",
   "mimetype": "text/x-python",
   "name": "python",
   "nbconvert_exporter": "python",
   "pygments_lexer": "ipython3",
   "version": "3.12.5"
  }
 },
 "nbformat": 4,
 "nbformat_minor": 2
}
