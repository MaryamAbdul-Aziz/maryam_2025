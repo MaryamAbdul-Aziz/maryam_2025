{
 "cells": [
  {
   "cell_type": "markdown",
   "metadata": {},
   "source": [
    "---\n",
    "layout: post\n",
    "title: Lesson 3.1.2 Python Data Types\n",
    "permalink: /csp/big-idea/p4/3-1-2\n",
    "author: Nora Ahadian, Kushi Gade \n",
    "type: tangibles\n",
    "menu: /nav/csp_unit3_p4_fundamentals.html\n",
    "---"
   ]
  },
  {
   "cell_type": "markdown",
   "metadata": {},
   "source": [
    "<style>\n",
    "    .glow {\n",
    "        color: #3634c7; /* Text color */\n",
    "        text-shadow: 0 0 10px #3d238c, 0 0 20px #3d238c, 0 0 30px #3d238c; /* Glowing effect on text */\n",
    "        transition: all 0.3s ease-in-out;\n",
    "    }\n",
    "</style>\n",
    "\n",
    "## <span class=\"glow\" style=\"font-family: Monospace;\">Python Data Types! :3</span>"
   ]
  },
  {
   "cell_type": "markdown",
   "metadata": {},
   "source": [
    "In Python there are several diffrent types of varriables, in this part of the lesson we will go over the most commonly used ones!\n",
    "\n",
    "<span style=\"font-family: Monospace; color: #a2c6e0\">Integers, strings, booleans, floats, and lists!</span>"
   ]
  },
  {
   "cell_type": "markdown",
   "metadata": {},
   "source": [
    "### <span style=\"font-family: Monospace; color: #6888fc\">Integers</span>\n",
    "\n",
    "Integers are whole number such as -2, -1, 0, 1, or 2, to name a few!"
   ]
  },
  {
   "cell_type": "code",
   "execution_count": 1,
   "metadata": {},
   "outputs": [
    {
     "name": "stdout",
     "output_type": "stream",
     "text": [
      "15\n",
      "60\n",
      "8\n"
     ]
    }
   ],
   "source": [
    "# Here is an example of an integer used as a variable\n",
    "\n",
    "age = 15\n",
    "height = 60\n",
    "favorite_number = 8\n",
    "\n",
    "print(age)\n",
    "print(height)\n",
    "print(favorite_number)"
   ]
  },
  {
   "cell_type": "markdown",
   "metadata": {},
   "source": [
    "### <span style=\"font-family: Monospace; color: #6888fc\">Strings</span>\n",
    "\n",
    "theres are chains of: words, numbers, or charecters, and they are placed in quotes. You can use either single quotes `' '` or double quotes `\" \"`, but use the same one for each string."
   ]
  },
  {
   "cell_type": "code",
   "execution_count": 2,
   "metadata": {},
   "outputs": [
    {
     "name": "stdout",
     "output_type": "stream",
     "text": [
      "My name is Nora\n",
      "My name is Nora\n"
     ]
    }
   ],
   "source": [
    "#camel case (no underscore)\n",
    "nameStatement = \"My name is Nora\"\n",
    "print(nameStatement)\n",
    "\n",
    "#snake case (underscore)\n",
    "name_Statment = 'My name is Nora'\n",
    "print(nameStatement)\n",
    "\n",
    "#incorrect:\n",
    "#name_Statment = 'My name is Nora\""
   ]
  },
  {
   "cell_type": "markdown",
   "metadata": {},
   "source": [
    "### <span style=\"font-family: Monospace; color: #6888fc\">Booleans</span>\n",
    "\n",
    "Booleans are true or false statments.  They are used in conditional statments, making an action occur is something is true or false."
   ]
  },
  {
   "cell_type": "code",
   "execution_count": 7,
   "metadata": {},
   "outputs": [
    {
     "name": "stdout",
     "output_type": "stream",
     "text": [
      "0\n"
     ]
    }
   ],
   "source": [
    "#boolean\n",
    "joanna_drinks_match = False\n",
    "\n",
    "#boolean used in if then/conditional statments\n",
    "if joanna_drinks_match == True: \n",
    "   print (1) \n",
    "else: \n",
    "   print (0) "
   ]
  },
  {
   "cell_type": "markdown",
   "metadata": {},
   "source": [
    "### <span style=\"font-family: Monospace; color: #6888fc\">Floats</span>\n",
    "\n",
    "Floats are numbers containing decimals (the oposite of Integers)"
   ]
  },
  {
   "cell_type": "code",
   "execution_count": 8,
   "metadata": {},
   "outputs": [
    {
     "name": "stdout",
     "output_type": "stream",
     "text": [
      "3.14\n"
     ]
    }
   ],
   "source": [
    "#heres an example of a float, constants follow upper snake case conventions\n",
    "IMMUTABLE_PI = 3.14\n",
    "\n",
    "print(IMMUTABLE_PI)"
   ]
  },
  {
   "cell_type": "markdown",
   "metadata": {},
   "source": [
    "### <span style=\"font-family: Monospace; color: #6888fc\">Lists</span>\n",
    "Lists are ordered items.  They can contain a mix of data types but most comonly are all the same data type.  Lists can contain integers, floats, strings, and more!\n",
    "\n",
    "If you want to print or use a specific item in a list, refer to  it with `variable_name[itemnumber]`. Keep in mind that when counting, computers always start at 0, so using `1` will call the second item in the list"
   ]
  },
  {
   "cell_type": "code",
   "execution_count": 9,
   "metadata": {},
   "outputs": [
    {
     "name": "stdout",
     "output_type": "stream",
     "text": [
      "apples\n",
      "honey\n",
      "almond milk\n",
      "cereal\n"
     ]
    }
   ],
   "source": [
    "#here an an example of a list of strings\n",
    "grocery_list = [\"apples\",\"honey\",\"almond milk\",\"cereal\"]\n",
    "\n",
    "print(grocery_list[0])\n",
    "print(grocery_list[1])\n",
    "print(grocery_list[2])\n",
    "print(grocery_list[3])"
   ]
  },
  {
   "cell_type": "markdown",
   "metadata": {},
   "source": [
    "### <span style=\"font-family: Monospace; color: #6888fc\">Dictionaries in Python</span>\n",
    "\n",
    "In this part of the lesson we will go over dictionaries in python and how to make them!\n",
    "\n",
    "Dictionaries contain data structures and include and store key-value pairs. In the dictionary, there are specific values that associate with a unique key. This is useful since it makes it easier and efficient to define multiple related values, see the data and lookup specific values. \n",
    "\n",
    "Print or use a variable in a dictionary by first referring to the dictionary name and then the variable inside of it."
   ]
  },
  {
   "cell_type": "code",
   "execution_count": 5,
   "metadata": {},
   "outputs": [
    {
     "name": "stdout",
     "output_type": "stream",
     "text": [
      "Bob\n",
      "78\n",
      "Las Vegas\n"
     ]
    }
   ],
   "source": [
    "personal_info = {\n",
    "    \"name\": \"Bob\",\n",
    "    \"age\": 78,\n",
    "    \"city\": \"Las Vegas\"\n",
    "}\n",
    "\n",
    "print(personal_info[\"name\"])\n",
    "print(personal_info[\"age\"])\n",
    "print(personal_info[\"city\"])"
   ]
  },
  {
   "cell_type": "markdown",
   "metadata": {},
   "source": [
    "In this example, we define data and format it to show the attributes of a person and then print statements to put them together in an introduction. Printing data types often requires mixing types and formatting them correctly\n"
   ]
  },
  {
   "cell_type": "code",
   "execution_count": 14,
   "metadata": {},
   "outputs": [
    {
     "name": "stdout",
     "output_type": "stream",
     "text": [
      "Print with concatenation\n",
      "Example 1: Hello Bob Tastic, I see you are 78 years old.\n",
      "\n",
      "Or you can use f-strings\n",
      "Example 2: Hello Bob Tastic, I see you are 78 years old.\n",
      "\n",
      "Or you can separate the variable in the print statement\n",
      "Example 3: Hello Bob Tastic , I see you are 78 years old.\n"
     ]
    }
   ],
   "source": [
    "# Data types cell\n",
    "\n",
    "# Variable names in Python typically follow snake_case \n",
    "friendly_greeting = \"Hello\"\n",
    "my_name = \"Bob Tastic\"\n",
    "my_age = 78\n",
    "\n",
    "print(\"Print with concatenation\")\n",
    "print(\"Example 1: \" + friendly_greeting + \" \" + my_name + \", I see you are \" + str(my_age) + \" years old.\")\n",
    "\n",
    "print()\n",
    "print(\"Or you can use f-strings\")\n",
    "print(f\"Example 2: {friendly_greeting} {my_name}, I see you are {my_age} years old.\")\n",
    "\n",
    "# \n",
    "print()\n",
    "print(\"Or you can separate the variable in the print statement\")\n",
    "print(\"Example 3:\", friendly_greeting, my_name, \", I see you are\", my_age, \"years old.\")\n"
   ]
  },
  {
   "cell_type": "markdown",
   "metadata": {},
   "source": [
    "In this example, we define same data with a dictionary"
   ]
  },
  {
   "cell_type": "code",
   "execution_count": 16,
   "metadata": {},
   "outputs": [
    {
     "name": "stdout",
     "output_type": "stream",
     "text": [
      "Concatenation\n",
      "Example 1: Hello Bob Tastic, I see you are 78 years old.\n",
      "\n",
      "F-strings\n",
      "Example 2: Hello Bob Tastic, I see you are 78 years old.\n",
      "\n",
      "Separate the variable in the print statement\n",
      "Example 3: Hello Bob Tastic , I see you are 78 years old.\n"
     ]
    }
   ],
   "source": [
    "# Data types cell using dictionary\n",
    "\n",
    "# Dictionary definition \n",
    "info = {\n",
    "    \"greeting\": \"Hello\",\n",
    "    \"name\": \"Bob Tastic\",\n",
    "    \"age\": 78\n",
    "}\n",
    "\n",
    "print(\"Concatenation\")\n",
    "print(\"Example 1: \" + info[\"greeting\"] + \" \" + info[\"name\"] + \", I see you are \" + str(info[\"age\"]) + \" years old.\")\n",
    "\n",
    "print()\n",
    "print(\"F-strings\")\n",
    "print(f\"Example 2: {info['greeting']} {info['name']}, I see you are {info['age']} years old.\")\n",
    "\n",
    "print()\n",
    "print(\"Separate the variable in the print statement\")\n",
    "print(\"Example 3:\", info[\"greeting\"], info[\"name\"], \", I see you are\", info[\"age\"], \"years old.\")"
   ]
  },
  {
   "cell_type": "markdown",
   "metadata": {},
   "source": [
    "<span style=\"font-family: Monospace; color: #a2c6e0\">`Popcorn Hack`: Make a dictionary about fruits!</span>\n",
    "\n"
   ]
  },
  {
   "cell_type": "markdown",
   "metadata": {},
   "source": [
    "### <span style=\"font-family: Monospace; color: #6888fc\">Addition versus Concatenation</span>\n",
    "\n",
    "Operators like + produce different outcomes based on the different data types. +'s are usually used for numbers, but for characters it connects sequences in a process called concatenation. "
   ]
  },
  {
   "cell_type": "code",
   "execution_count": 18,
   "metadata": {},
   "outputs": [
    {
     "name": "stdout",
     "output_type": "stream",
     "text": [
      "7\n",
      "Notice how they get ADDED together.\n",
      "\n",
      "34\n",
      "Notice how this CONNECTS the variables\n"
     ]
    }
   ],
   "source": [
    "# Addition of two integer variables\n",
    "\n",
    "int1 = 3\n",
    "int2 = 4\n",
    "# Concatation between two non strings in a print statement will EVALUATE them.\n",
    "print(int1 + int2)\n",
    "print(\"Notice how they get ADDED together.\")\n",
    "print()\n",
    "\n",
    "# Concatenation of two string variables\n",
    "\n",
    "# Concatation between two strings in a print statement will CONNECT them.\n",
    "string1 = \"3\"\n",
    "string2 = \"4\"\n",
    "print(string1 + string2) # \n",
    "print(\"Notice how this CONNECTS the variables\")\n",
    "\n",
    "# Print statements like the above can be used to EVALUATE the result of + on two variables"
   ]
  }
 ],
 "metadata": {
  "kernelspec": {
   "display_name": "venv",
   "language": "python",
   "name": "python3"
  },
  "language_info": {
   "codemirror_mode": {
    "name": "ipython",
    "version": 3
   },
   "file_extension": ".py",
   "mimetype": "text/x-python",
   "name": "python",
   "nbconvert_exporter": "python",
   "pygments_lexer": "ipython3",
   "version": "3.12.5"
  }
 },
 "nbformat": 4,
 "nbformat_minor": 2
}
