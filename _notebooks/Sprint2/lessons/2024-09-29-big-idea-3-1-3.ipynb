{
 "cells": [
  {
   "cell_type": "markdown",
   "metadata": {},
   "source": [
    "---\n",
    "layout: post\n",
    "title: Lesson 3.1.3 JavaScript Variables\n",
    "permalink: /csp/big-idea/p4/3-1-3\n",
    "author: Maryam Abdul-Aziz\n",
    "menu: /nav/csp_unit3_p4_fundamentals.html\n",
    "comments: true\n",
    "---"
   ]
  },
  {
   "cell_type": "markdown",
   "metadata": {},
   "source": [
    "<style>\n",
    "    .glow {\n",
    "        color: #3634c7; /* Text color */\n",
    "        text-shadow: 0 0 10px #3d238c, 0 0 20px #3d238c, 0 0 30px #3d238c; /* Glowing effect on text */\n",
    "        transition: all 0.3s ease-in-out;\n",
    "    }\n",
    "</style>\n",
    "\n",
    "## <span class=\"glow\" style=\"font-family: Monospace;\">Variable Naming</span>\n",
    "\n",
    "In JavaScript, variable names are **also case sensitive,** meaning that capitalization is important when referring to previously saved variables."
   ]
  },
  {
   "cell_type": "markdown",
   "metadata": {},
   "source": [
    "#### <span style=\"font-family: Monospace; color: #6888fc\">CamelCase</span>\n",
    "\n",
    "Capitalize every word after the first in the variable name. Variable names must start with a letter. This is standard for variables in JavaScript."
   ]
  },
  {
   "cell_type": "code",
   "execution_count": 15,
   "metadata": {
    "vscode": {
     "languageId": "html"
    }
   },
   "outputs": [
    {
     "data": {
      "text/html": [
       "\n",
       "<script>\n",
       "playerOne = \"Kushi\"\n",
       "</script>\n"
      ],
      "text/plain": [
       "<IPython.core.display.HTML object>"
      ]
     },
     "metadata": {},
     "output_type": "display_data"
    }
   ],
   "source": [
    "%%html\n",
    "\n",
    "<script>\n",
    "playerOne = \"Kushi\"\n",
    "</script>"
   ]
  },
  {
   "cell_type": "markdown",
   "metadata": {},
   "source": [
    "Variables can be used to reference previoiusly stored information, such as user-inputted data or data based on a user's OS or location."
   ]
  },
  {
   "cell_type": "code",
   "execution_count": 16,
   "metadata": {
    "vscode": {
     "languageId": "html"
    }
   },
   "outputs": [
    {
     "data": {
      "text/html": [
       "\n",
       "<script>\n",
       "// If you were coding Snake and wanted to change the food the snake was eating and the background color of the game,\n",
       "// you could do so by setting those values as a variable rather than a single stagnant value\n",
       "\n",
       "\n",
       "// set a default\n",
       "let selectedFood = \"🍓\";\n",
       "let selectedColor = \"PaleGoldenRod\";\n",
       "\n",
       "// Draw the food. Pay attention to selectedFood\n",
       "let activeDot = function(x, y, isFood = false){\n",
       "    if (isFood) {\n",
       "        const foodSize = BLOCK;\n",
       "        const foodX = x * BLOCK;\n",
       "        const foodY = y * BLOCK;\n",
       "        ctx.font = `${foodSize}px sans-serif`;\n",
       "        ctx.fillText(selectedFood, foodX, foodY + foodSize);\n",
       "    }}\n",
       "\n",
       "//[...]\n",
       "\n",
       "// Paint the canvas. Pay attention to selectedColor\n",
       "ctx.beginPath();\n",
       "            //background color\n",
       "            ctx.fillStyle = selectedColor\n",
       "\n",
       "//[...]\n",
       "\n",
       "// Use previous variables to change the food and background color. \n",
       "// Dont worry about the other code (for loop, iteration, if/elseif statements), just look at the use of variables\n",
       "if (food_setting[i].id === \"strawberry\") {\n",
       "    selectedFood = \"🍓\";\n",
       "    selectedColor = \"PaleGoldenRod\";\n",
       "} else if (food_setting[i].id === \"croissant\") {\n",
       "    selectedFood = \"🥐\";\n",
       "    selectedColor = \"Plum\";\n",
       "} else if (food_setting[i].id === \"cheese\") {\n",
       "    selectedFood = \"🧀\";    \n",
       "    selectedColor = \"Orchid\";\n",
       "} else if (food_setting[i].id === \"burrito\") {\n",
       "    selectedFood = \"🌯\";\n",
       "    selectedColor = \"PaleTurquoise\";\n",
       "} else if (food_setting[i].id === \"soup\") {\n",
       "    selectedFood = \"🥫\";  \n",
       "    selectedColor = \"LightSlateGrey\";   \n",
       "}\n",
       "</script>\n"
      ],
      "text/plain": [
       "<IPython.core.display.HTML object>"
      ]
     },
     "metadata": {},
     "output_type": "display_data"
    }
   ],
   "source": [
    "%%html\n",
    "\n",
    "<script>\n",
    "// If you were coding Snake and wanted to change the food the snake was eating and the background color of the game,\n",
    "// you could do so by setting those values as a variable rather than a single stagnant value\n",
    "\n",
    "\n",
    "// set a default\n",
    "let selectedFood = \"🍓\";\n",
    "let selectedColor = \"PaleGoldenRod\";\n",
    "\n",
    "// Draw the food. Pay attention to selectedFood\n",
    "let activeDot = function(x, y, isFood = false){\n",
    "    if (isFood) {\n",
    "        const foodSize = BLOCK;\n",
    "        const foodX = x * BLOCK;\n",
    "        const foodY = y * BLOCK;\n",
    "        ctx.font = `${foodSize}px sans-serif`;\n",
    "        ctx.fillText(selectedFood, foodX, foodY + foodSize);\n",
    "    }}\n",
    "\n",
    "//[...]\n",
    "\n",
    "// Paint the canvas. Pay attention to selectedColor\n",
    "ctx.beginPath();\n",
    "            //background color\n",
    "            ctx.fillStyle = selectedColor\n",
    "\n",
    "//[...]\n",
    "\n",
    "// Use previous variables to change the food and background color. \n",
    "// Dont worry about the other code (for loop, iteration, if/elseif statements), just look at the use of variables\n",
    "if (food_setting[i].id === \"strawberry\") {\n",
    "    selectedFood = \"🍓\";\n",
    "    selectedColor = \"PaleGoldenRod\";\n",
    "} else if (food_setting[i].id === \"croissant\") {\n",
    "    selectedFood = \"🥐\";\n",
    "    selectedColor = \"Plum\";\n",
    "} else if (food_setting[i].id === \"cheese\") {\n",
    "    selectedFood = \"🧀\";    \n",
    "    selectedColor = \"Orchid\";\n",
    "} else if (food_setting[i].id === \"burrito\") {\n",
    "    selectedFood = \"🌯\";\n",
    "    selectedColor = \"PaleTurquoise\";\n",
    "} else if (food_setting[i].id === \"soup\") {\n",
    "    selectedFood = \"🥫\";  \n",
    "    selectedColor = \"LightSlateGrey\";   \n",
    "}\n",
    "</script>"
   ]
  },
  {
   "cell_type": "markdown",
   "metadata": {},
   "source": [
    "### <span style=\"font-family: Monospace; color: #6888fc\">Declaration</span>\n",
    "\n",
    "Variables in JS can be declared in 4 different ways:\n",
    "- automatically\n",
    "- `var`\n",
    "- `let`\n",
    "- `const`\n",
    "\n",
    "ALWAYS declare your variables before using them to optimize your code and prevent errors. If you were reading a book and came across an unfamiliar word, you would want to find its definition before that page and not after. Computers are the same way and prefer to find your variables before needing to call them."
   ]
  },
  {
   "cell_type": "markdown",
   "metadata": {},
   "source": [
    "## <span style=\"font-family: Monospace; color: #3634c7\">IMPORTANT NOTE</span>\n",
    "\n",
    "Printing variables is different in JS than in Python. Python can print statements using `print(variable_name)`, but JS is different, especially for those using KASM on Chromebooks.\n",
    "\n",
    "Print statements in JS using `console.log(variableName)`. HOWEVER, these printed statements will NOT show up in VSCode. You will have to go to your Console to view these printed statements.\n",
    "\n",
    "Access the console by going to any web page (preferrably a page that you have code on) and doing right-click > inspect OR using `Ctrl+Shift+I` or `Command+Option+I` on Mac and then clicking on Console at the top.\n",
    "\n",
    "If this doesn't work or the inspect box is grayed out, then you might be logged into your school account, which blocks inspect. Switch accounts to leave your school account and try it again. IF YOU ARE ON A CHROMEBOOK, YOU WILL NEED TO LOG INTO YOUR COMPUTER AS GUEST TO BYPASS THIS BLOCK."
   ]
  },
  {
   "cell_type": "markdown",
   "metadata": {},
   "source": [
    "### <span style=\"font-family: Monospace; color: #6888fc\">Automatically</span>\n",
    "\n",
    "\n",
    "\n",
    "Automatically declaring a variable is the easiest way to do so; simply name and then define a variable"
   ]
  },
  {
   "cell_type": "code",
   "execution_count": 17,
   "metadata": {
    "vscode": {
     "languageId": "html"
    }
   },
   "outputs": [
    {
     "data": {
      "text/html": [
       "<script>\n",
       "studentName = \"Maryam\";\n",
       "studentAge = 17;\n",
       "studentBlonde = false;\n",
       "\n",
       "console.log(studentName, \",\", studentAge, \",\", studentBlonde)\n",
       "\n",
       "numberOne = 12;\n",
       "numberTwo = 26;\n",
       "numberThree = numberOne + numberTwo;\n",
       "\n",
       "console.log()\n",
       "console.log(numberOne)\n",
       "console.log(numberTwo)\n",
       "\n",
       "console.log()\n",
       "console.log(numberThree)\n",
       "console.log(numberOne + numberTwo) //see 3.1.4 for more on addition and concatenation in JS\n",
       "</script>\n"
      ],
      "text/plain": [
       "<IPython.core.display.HTML object>"
      ]
     },
     "metadata": {},
     "output_type": "display_data"
    }
   ],
   "source": [
    "%%html \n",
    "<script>\n",
    "studentName = \"Maryam\";\n",
    "studentAge = 17;\n",
    "studentBlonde = false;\n",
    "\n",
    "console.log(studentName, \",\", studentAge, \",\", studentBlonde)\n",
    "\n",
    "numberOne = 12;\n",
    "numberTwo = 26;\n",
    "numberThree = numberOne + numberTwo;\n",
    "\n",
    "console.log()\n",
    "console.log(numberOne)\n",
    "console.log(numberTwo)\n",
    "\n",
    "console.log()\n",
    "console.log(numberThree)\n",
    "console.log(numberOne + numberTwo) //see 3.1.4 for more on addition and concatenation in JS\n",
    "</script>\n"
   ]
  },
  {
   "cell_type": "markdown",
   "metadata": {},
   "source": [
    "### <span style=\"font-family: Monospace; color: #6888fc\">Var</span>\n",
    "\n",
    "\n",
    "`Var` is a depreceated, or no longer/rarely used, way to declare variables. Var will put a variable at the top-most, or global, scope and will overwrite other variables above it. Avoid using var when possible.\n",
    "\n",
    "\n",
    "If you use `var` outside a function in the general \"body\" of your code, it can be used anywhere within your code. If you use `var` within a function, it can be used freely within that function."
   ]
  },
  {
   "cell_type": "code",
   "execution_count": 18,
   "metadata": {
    "vscode": {
     "languageId": "html"
    }
   },
   "outputs": [
    {
     "data": {
      "text/html": [
       "\n",
       "<script>\n",
       "var studentName\n",
       "var favoriteColor = \"blue\";\n",
       "var favoriteNumber = 25;\n",
       "var isAlive = true;\n",
       "\n",
       "console.log(favoriteColor)\n",
       "console.log(favoriteNumber)\n",
       "console.log(isAlive)\n",
       "\n",
       "\n",
       "function exampleFunction() {\n",
       "    var flowerName = \"peony\";\n",
       "    var petalNumber = 300;\n",
       "    console.log(studentName, \"'s favorite flower is\", flowerName, \", which has\", petalNumber, \"petals.\");\n",
       "\n",
       "    console.log(studentName, \"'s favorite color is\", favoriteColor, \"and also likes the number\", favoriteNumber);\n",
       "    console.log(studentName, \"is alive, because when I return the variable isAlive, I get the result\", isAlive);\n",
       "}\n",
       "\n",
       "exampleFunction();\n",
       "\n",
       "// note the function syntax. \n",
       "// start with function, then write the functionName() with parenthesis and a curly bracket after.\n",
       "</script>\n"
      ],
      "text/plain": [
       "<IPython.core.display.HTML object>"
      ]
     },
     "metadata": {},
     "output_type": "display_data"
    }
   ],
   "source": [
    "%%html\n",
    "\n",
    "<script>\n",
    "var studentName\n",
    "var favoriteColor = \"blue\";\n",
    "var favoriteNumber = 25;\n",
    "var isAlive = true;\n",
    "\n",
    "console.log(favoriteColor)\n",
    "console.log(favoriteNumber)\n",
    "console.log(isAlive)\n",
    "\n",
    "\n",
    "function exampleFunction() {\n",
    "    var flowerName = \"peony\";\n",
    "    var petalNumber = 300;\n",
    "    console.log(studentName, \"'s favorite flower is\", flowerName, \", which has\", petalNumber, \"petals.\");\n",
    "\n",
    "    console.log(studentName, \"'s favorite color is\", favoriteColor, \"and also likes the number\", favoriteNumber);\n",
    "    console.log(studentName, \"is alive, because when I return the variable isAlive, I get the result\", isAlive);\n",
    "}\n",
    "\n",
    "exampleFunction();\n",
    "\n",
    "// note the function syntax. \n",
    "// start with function, then write the functionName() with parenthesis and a curly bracket after.\n",
    "</script>\n"
   ]
  },
  {
   "cell_type": "markdown",
   "metadata": {},
   "source": [
    "### <span style=\"font-family: Monospace; color: #6888fc\">Let</span>\n",
    "\n",
    "`Let` is used when a variable could possibly change. It's the preferred way to declare variables in JS.\n",
    "\n",
    "Let is block-scoped, meaning it can only be used within the block it is defined in (curly brackets `{}`, square brackets `[]`, etc)"
   ]
  },
  {
   "cell_type": "code",
   "execution_count": 19,
   "metadata": {
    "vscode": {
     "languageId": "html"
    }
   },
   "outputs": [
    {
     "data": {
      "text/html": [
       "\n",
       "<script>\n",
       "let fingers = 10;\n",
       "\n",
       "if (fingers == 10) {\n",
       "    let reliefStatement = \"Thank God!\"\n",
       "    console.log(reliefStatement)\n",
       "}\n",
       "</script>\n"
      ],
      "text/plain": [
       "<IPython.core.display.HTML object>"
      ]
     },
     "metadata": {},
     "output_type": "display_data"
    }
   ],
   "source": [
    "%%html\n",
    "\n",
    "<script>\n",
    "let fingers = 10;\n",
    "\n",
    "if (fingers == 10) {\n",
    "    let reliefStatement = \"Thank God!\"\n",
    "    console.log(reliefStatement)\n",
    "}\n",
    "</script>"
   ]
  },
  {
   "cell_type": "markdown",
   "metadata": {},
   "source": [
    "If we try it again..."
   ]
  },
  {
   "cell_type": "code",
   "execution_count": 20,
   "metadata": {
    "vscode": {
     "languageId": "html"
    }
   },
   "outputs": [
    {
     "data": {
      "text/html": [
       "\n",
       "<script>\n",
       "let fingers = 10;\n",
       "\n",
       "if (fingers == 10) {\n",
       "    let reliefStatement = \"Thank God!\"\n",
       "    console.log(reliefStatement)\n",
       "}\n",
       "\n",
       "// Lets try printing this variable outside of the block\n",
       "console.log(reliefStatement)\n",
       "\n",
       "// Notice how it only worked the first time.\n",
       "</script>\n"
      ],
      "text/plain": [
       "<IPython.core.display.HTML object>"
      ]
     },
     "metadata": {},
     "output_type": "display_data"
    }
   ],
   "source": [
    "%%html\n",
    "\n",
    "<script>\n",
    "let fingers = 10;\n",
    "\n",
    "if (fingers == 10) {\n",
    "    let reliefStatement = \"Thank God!\"\n",
    "    console.log(reliefStatement)\n",
    "}\n",
    "\n",
    "// Lets try printing this variable outside of the block\n",
    "console.log(reliefStatement)\n",
    "\n",
    "// Notice how it only worked the first time.\n",
    "</script>"
   ]
  },
  {
   "cell_type": "markdown",
   "metadata": {},
   "source": [
    "Let can be updated but not redeclared."
   ]
  },
  {
   "cell_type": "code",
   "execution_count": 21,
   "metadata": {
    "vscode": {
     "languageId": "html"
    }
   },
   "outputs": [
    {
     "data": {
      "text/html": [
       "\n",
       "<script>\n",
       "// this works\n",
       "let fooBar = 21;\n",
       "fooBar = 27\n",
       "\n",
       "// this does not\n",
       "\n",
       "let bazQux = \"Me\";\n",
       "let bazQux = \"You\";\n",
       "</script>\n"
      ],
      "text/plain": [
       "<IPython.core.display.HTML object>"
      ]
     },
     "metadata": {},
     "output_type": "display_data"
    }
   ],
   "source": [
    "%%html\n",
    "\n",
    "<script>\n",
    "// this works\n",
    "let fooBar = 21;\n",
    "fooBar = 27\n",
    "\n",
    "// this does not\n",
    "\n",
    "let bazQux = \"Me\";\n",
    "let bazQux = \"You\";\n",
    "</script>"
   ]
  },
  {
   "cell_type": "markdown",
   "metadata": {},
   "source": [
    "*Side note: Names like \"foo\", \"bar\", \"baz,\" and \"qux\" are placeholder names often used in tutorials. Full list [here](https://en.wikipedia.org/wiki/Metasyntactic_variable#General_usage)*"
   ]
  },
  {
   "cell_type": "markdown",
   "metadata": {},
   "source": [
    "### <span style=\"font-family: Monospace; color: #6888fc\">Const</span>\n",
    "\n",
    "`Const` is short for constant and is used when a variable doesn't or shouldn't change. This is also acceptable to use in JS. Const is also a block-scope variable.\n",
    "\n",
    "Const cannot be updated or redeclared, so make sure to pick unique variable names when using this prefix. This does not apply when const is used as a way to declare an object (explained in 3.1.4), as you can update properties of an object after the fact."
   ]
  },
  {
   "cell_type": "code",
   "execution_count": 22,
   "metadata": {
    "vscode": {
     "languageId": "html"
    }
   },
   "outputs": [
    {
     "data": {
      "text/html": [
       "\n",
       "<script>\n",
       "// these variables will never change\n",
       "const windowHeight = 580;\n",
       "const greetingText = \"Hey there, stranger!\";\n",
       "\n",
       "// object example\n",
       "\n",
       "const strawberryProperties = {\n",
       "    berryColor: \"red\", // seperate variables within an object using commas\n",
       "    hasSeeds: true,\n",
       "    berryCount: 20,\n",
       "}\n",
       "\n",
       "// update your object\n",
       "\n",
       "strawberryProperties.berryCount = 40;\n",
       "</script>\n"
      ],
      "text/plain": [
       "<IPython.core.display.HTML object>"
      ]
     },
     "metadata": {},
     "output_type": "display_data"
    }
   ],
   "source": [
    "%%html\n",
    "\n",
    "<script>\n",
    "// these variables will never change\n",
    "const windowHeight = 580;\n",
    "const greetingText = \"Hey there, stranger!\";\n",
    "\n",
    "// object example\n",
    "\n",
    "const strawberryProperties = {\n",
    "    berryColor: \"red\", // seperate variables within an object using commas\n",
    "    hasSeeds: true,\n",
    "    berryCount: 20,\n",
    "}\n",
    "\n",
    "// update your object\n",
    "\n",
    "strawberryProperties.berryCount = 40;\n",
    "</script>"
   ]
  },
  {
   "cell_type": "markdown",
   "metadata": {},
   "source": [
    "Here's a bad example:"
   ]
  },
  {
   "cell_type": "code",
   "execution_count": 23,
   "metadata": {
    "vscode": {
     "languageId": "html"
    }
   },
   "outputs": [
    {
     "data": {
      "text/html": [
       "\n",
       "<script>\n",
       "const strawberryProperties = {\n",
       "    berryColor: \"red\",\n",
       "    hasSeeds: true,\n",
       "    berryCount: 20,\n",
       "}\n",
       "\n",
       "// you cannot do this\n",
       "strawberryProperties = {\n",
       "    hasStem: true,\n",
       "    statement: \"Mmm, yummy!\"\n",
       "}\n",
       "</script>\n"
      ],
      "text/plain": [
       "<IPython.core.display.HTML object>"
      ]
     },
     "metadata": {},
     "output_type": "display_data"
    }
   ],
   "source": [
    "%%html\n",
    "\n",
    "<script>\n",
    "const strawberryProperties = {\n",
    "    berryColor: \"red\",\n",
    "    hasSeeds: true,\n",
    "    berryCount: 20,\n",
    "}\n",
    "\n",
    "// you cannot do this\n",
    "strawberryProperties = {\n",
    "    hasStem: true,\n",
    "    statement: \"Mmm, yummy!\"\n",
    "}\n",
    "</script>"
   ]
  },
  {
   "cell_type": "markdown",
   "metadata": {},
   "source": [
    "<span style=\"font-family: Monospace; color: #a2c6e0\">`Popcorn Hack:` Update an object declared using const correctly </span>"
   ]
  },
  {
   "cell_type": "markdown",
   "metadata": {},
   "source": [
    "<style>\n",
    "    .glow {\n",
    "        color: #3634c7; /* Text color */\n",
    "        text-shadow: 0 0 10px #3d238c, 0 0 20px #3d238c, 0 0 30px #3d238c; /* Glowing effect on text */\n",
    "        transition: all 0.3s ease-in-out;\n",
    "    }\n",
    "</style>\n",
    "\n",
    "## <span class=\"glow\" style=\"font-family: Monospace;\">Hack #1</span>\n",
    "\n",
    "\n",
    "1. Define variables automatically using let and const.\n",
    "2. Write console.log() statements and demonstrate knowledge of accessing the console correctly\n",
    "3. Short function that correctly calls each variable and string them together to make a sentence.\n",
    "\n",
    "- *Make sure to follow camelCase*\n",
    "- *Create code cells to declare, or define, your variables and variable types*\n",
    "- *Use comments to explain your code*\n",
    "- *Use console.log statements to view the values of your variables*"
   ]
  }
 ],
 "metadata": {
  "kernelspec": {
   "display_name": "venv",
   "language": "python",
   "name": "python3"
  },
  "language_info": {
   "codemirror_mode": {
    "name": "ipython",
    "version": 3
   },
   "file_extension": ".py",
   "mimetype": "text/x-python",
   "name": "python",
   "nbconvert_exporter": "python",
   "pygments_lexer": "ipython3",
   "version": "3.12.5"
  }
 },
 "nbformat": 4,
 "nbformat_minor": 2
}
