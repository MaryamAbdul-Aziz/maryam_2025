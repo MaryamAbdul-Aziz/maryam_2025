{
 "cells": [
  {
   "cell_type": "markdown",
   "metadata": {},
   "source": [
    "---\n",
    "layout: post\n",
    "title: Lesson 3.1.4 JavaScript Data Types\n",
    "permalink: /csp/big-idea/p4/3-1-4\n",
    "author: Nora Ahadian, Kushi Gade\n",
    "type: tangibles\n",
    "courses: { compsci: {week: 5} }\n",
    "comments: true\n",
    "---"
   ]
  },
  {
   "cell_type": "markdown",
   "metadata": {
    "vscode": {
     "languageId": "html"
    }
   },
   "source": [
    "<style>\n",
    "    .glow {\n",
    "        color: #3634c7; /* Text color */\n",
    "        text-shadow: 0 0 10px #3d238c, 0 0 20px #3d238c, 0 0 30px #3d238c; /* Glowing effect on text */\n",
    "        transition: all 0.3s ease-in-out;\n",
    "    }\n",
    "</style>\n",
    "\n",
    "## <span class=\"glow\" style=\"font-family: Monospace;\">JavaScript Data Types! :]</span>"
   ]
  },
  {
   "cell_type": "markdown",
   "metadata": {},
   "source": [
    "In this lesson we will be reviewing how diffrent data types are used in JS!\n",
    "\n",
    "##### <span style=\"font-family: Monospace; color: #a2c6e0\">We will be reviewing: Integers/floats, strings, booleans, and arrays</span>"
   ]
  },
  {
   "cell_type": "markdown",
   "metadata": {},
   "source": [
    "### <span style=\"font-family: Monospace; color: #6888fc\">Integers and Floats</span>\n",
    "\n",
    "In javascript vs python you do not have to define integers vs floats"
   ]
  },
  {
   "cell_type": "code",
   "execution_count": 4,
   "metadata": {
    "vscode": {
     "languageId": "html"
    }
   },
   "outputs": [
    {
     "data": {
      "text/html": [
       "\n",
       "<script>\n",
       "//here we define the number (temperature) and log it into the console!\n",
       "let temperature = 76;\n",
       "console.log(\"number: \", temperature);\n",
       "element.append(\"number: \" + temperature);\n",
       "</script>\n"
      ],
      "text/plain": [
       "<IPython.core.display.HTML object>"
      ]
     },
     "metadata": {},
     "output_type": "display_data"
    }
   ],
   "source": [
    "%%html\n",
    "\n",
    "<script>\n",
    "//here we define the number (temperature) and log it into the console!\n",
    "temperature = 76;\n",
    "\n",
    "console.log(\"number: \", temperature);\n",
    "element.append(\"number: \" + temperature);\n",
    "</script>"
   ]
  },
  {
   "cell_type": "markdown",
   "metadata": {},
   "source": [
    "### <span style=\"font-family: Monospace; color: #6888fc\">Strings</span>\n",
    "\n",
    "In JavaScript a string is used to represent text.  Strings are defined by closing a set of charecters in quotes (single or double but not both!)"
   ]
  },
  {
   "cell_type": "code",
   "execution_count": 2,
   "metadata": {
    "vscode": {
     "languageId": "html"
    }
   },
   "outputs": [
    {
     "data": {
      "text/html": [
       "\n",
       "<script>\n",
       "//here we define the string (fruit) and log it into the console!\n",
       "let fruit = \"mango\";\n",
       "let test = \"test\";\n",
       "console.log(\"String: \", fruit);\n",
       "element.append(\"String: \" + fruit );\n",
       "</script>\n"
      ],
      "text/plain": [
       "<IPython.core.display.HTML object>"
      ]
     },
     "metadata": {},
     "output_type": "display_data"
    }
   ],
   "source": [
    "%%html\n",
    "\n",
    "<script>\n",
    "//here we define the string (fruit) and log it into the console!\n",
    "let fruit = \"mango\";\n",
    "let test = \"test\";\n",
    "console.log(\"String: \", fruit);\n",
    "element.append(\"String: \" + fruit );\n",
    "</script>"
   ]
  },
  {
   "cell_type": "markdown",
   "metadata": {},
   "source": [
    "### <span style=\"font-family: Monospace; color: #6888fc\">Booleans</span>\n",
    "\n",
    "a boolean represents a true or false value, they are usually used in if then statments. Stating that if something is true/false, then something else will occour!"
   ]
  },
  {
   "cell_type": "code",
   "execution_count": 3,
   "metadata": {
    "vscode": {
     "languageId": "html"
    }
   },
   "outputs": [
    {
     "data": {
      "text/html": [
       "\n",
       "<script>\n",
       "//here we define the boolean (isSkyBlue) and log it into the console!\n",
       "let isSkyBlue = true;\n",
       "console.log(\"Boolean: \", isSkyBlue);\n",
       "element.append(\"Boolean: \" + isSkyBlue);\n",
       "\n",
       "//if the sky is blue it will come up as true in the consle \n",
       "//if not it will say false!\n",
       "</script>\n"
      ],
      "text/plain": [
       "<IPython.core.display.HTML object>"
      ]
     },
     "metadata": {},
     "output_type": "display_data"
    }
   ],
   "source": [
    "%%html\n",
    "\n",
    "<script>\n",
    "//here we define the boolean (isSkyBlue) and log it into the console!\n",
    "let isSkyBlue = true;\n",
    "console.log(\"Boolean: \", isSkyBlue);\n",
    "element.append(\"Boolean: \" + isSkyBlue);\n",
    "\n",
    "//if the sky is blue it will come up as true in the consle \n",
    "//if not it will say false!\n",
    "</script>"
   ]
  },
  {
   "cell_type": "markdown",
   "metadata": {},
   "source": [
    "### <span style=\"font-family: Monospace; color: #6888fc\">Arrays</span>\n",
    "\n",
    "Arrays are used to store multiple values in a single variable!  all the values in an array are called elements,  these elements can be any diffrent data type!"
   ]
  },
  {
   "cell_type": "code",
   "execution_count": 4,
   "metadata": {
    "vscode": {
     "languageId": "html"
    }
   },
   "outputs": [
    {
     "data": {
      "text/html": [
       "\n",
       "<script>\n",
       "//here we create an array of strings (berries) and log it to the console!\n",
       "let berries = [\"strawberry\", \"blueberry\", \"raseberry\", \"blackberry\"];\n",
       "console.log(\"Array: \", berries);\n",
       "element.append(\"Array: \" + berries.join(\", \"));\n",
       "</script>\n"
      ],
      "text/plain": [
       "<IPython.core.display.HTML object>"
      ]
     },
     "metadata": {},
     "output_type": "display_data"
    }
   ],
   "source": [
    "%%html\n",
    "\n",
    "<script>\n",
    "//here we create an array of strings (berries) and log it to the console!\n",
    "let berries = [\"strawberry\", \"blueberry\", \"raseberry\", \"blackberry\"];\n",
    "console.log(\"Array: \", berries);\n",
    "element.append(\"Array: \" + berries.join(\", \"));\n",
    "</script>"
   ]
  },
  {
   "cell_type": "markdown",
   "metadata": {},
   "source": [
    "<span style=\"font-family: Monospace; color: #a2c6e0\">`Popcorn Hack:` create your own array using two or more diffrent data types we throughout the lesson! </span>"
   ]
  },
  {
   "cell_type": "markdown",
   "metadata": {},
   "source": [
    "### <span style=\"font-family: Monospace; color: #6888fc\">Dictionaries (Objects)</span>\n",
    "\n",
    "In Javascript, objects are like dictionaries, where the keys correspond with values. To access the data of an object, we can use dot notation or bracket notation.\n",
    "\n",
    "##### <span style=\"font-family: Monospace; color: #a2c6e0\">Example:</span>\n",
    "\n",
    "For this specific example, we will declare an object and iterate through its key-value pairs.\n"
   ]
  },
  {
   "cell_type": "code",
   "execution_count": 5,
   "metadata": {
    "vscode": {
     "languageId": "html"
    }
   },
   "outputs": [
    {
     "data": {
      "text/html": [
       "\n",
       "<script>\n",
       "// Example of a JavaScript object (dictionary)\n",
       "let studentInfo = {\n",
       "  name: \"Kushi Gade\",\n",
       "  age: 25,\n",
       "  grade: 10,\n",
       "  interests: [\"Sleeping\", \"Reading\", \"Cooking\"]\n",
       "};\n",
       "\n",
       "\n",
       "// Traversing the object using a for...in loop\n",
       "for (let key in studentInfo) {\n",
       "  console.log(key + \": \" + studentInfo[key]); // Logs each key and its associated value\n",
       "  element.append(key + \": \" + studentInfo[key] + \"<br>\");\n",
       "}\n",
       "</script>\n"
      ],
      "text/plain": [
       "<IPython.core.display.HTML object>"
      ]
     },
     "metadata": {},
     "output_type": "display_data"
    }
   ],
   "source": [
    "%%html\n",
    "\n",
    "<script>\n",
    "// Example of a JavaScript object (dictionary)\n",
    "let studentInfo = {\n",
    "  name: \"Kushi Gade\",\n",
    "  age: 25,\n",
    "  grade: 10,\n",
    "  interests: [\"Sleeping\", \"Reading\", \"Cooking\"]\n",
    "};\n",
    "\n",
    "\n",
    "// Traversing the object using a for...in loop\n",
    "for (let key in studentInfo) {\n",
    "  console.log(key + \": \" + studentInfo[key]); // Logs each key and its associated value\n",
    "  element.append(key + \": \" + studentInfo[key] + \"<br>\");\n",
    "}\n",
    "</script>"
   ]
  },
  {
   "cell_type": "markdown",
   "metadata": {},
   "source": [
    "### <span style=\"font-family: Monospace; color: #6888fc\">Addition and Concatenation</span>\n",
    "\n",
    "We can also use addition and concatenation, just like in Python"
   ]
  },
  {
   "cell_type": "code",
   "execution_count": 6,
   "metadata": {
    "vscode": {
     "languageId": "html"
    }
   },
   "outputs": [
    {
     "data": {
      "text/html": [
       "\n",
       "<script>\n",
       "// Addition of two integer variables\n",
       "\n",
       "let int1 = 3;\n",
       "let int2 = 4;\n",
       "// Concatenation between two non-strings in a print statement will EVALUATE them.\n",
       "console.log(int1 + int2); // This will add the two numbers.\n",
       "console.log(\"Notice how they get ADDED together.\");\n",
       "console.log();\n",
       "\n",
       "// Concatenation of two string variables\n",
       "\n",
       "let string1 = \"3\";\n",
       "let string2 = \"4\";\n",
       "// Concatenation between two strings in a print statement will CONNECT them.\n",
       "console.log(string1 + string2); // This will concatenate (connect) the strings.\n",
       "console.log(\"Notice how this CONNECTS the variables\");\n",
       "</script>\n"
      ],
      "text/plain": [
       "<IPython.core.display.HTML object>"
      ]
     },
     "metadata": {},
     "output_type": "display_data"
    }
   ],
   "source": [
    "%%html\n",
    "\n",
    "<script>\n",
    "// Addition of two integer variables\n",
    "\n",
    "let int1 = 3;\n",
    "let int2 = 4;\n",
    "// Concatenation between two non-strings in a print statement will EVALUATE them.\n",
    "console.log(int1 + int2); // This will add the two numbers.\n",
    "console.log(\"Notice how they get ADDED together.\");\n",
    "console.log();\n",
    "\n",
    "// Concatenation of two string variables\n",
    "\n",
    "let string1 = \"3\";\n",
    "let string2 = \"4\";\n",
    "// Concatenation between two strings in a print statement will CONNECT them.\n",
    "console.log(string1 + string2); // This will concatenate (connect) the strings.\n",
    "console.log(\"Notice how this CONNECTS the variables\");\n",
    "</script>\n"
   ]
  },
  {
   "cell_type": "markdown",
   "metadata": {},
   "source": [
    "<style>\n",
    "    .glow {\n",
    "        color: #3634c7; /* Text color */\n",
    "        text-shadow: 0 0 10px #3d238c, 0 0 20px #3d238c, 0 0 30px #3d238c; /* Glowing effect on text */\n",
    "        transition: all 0.3s ease-in-out;\n",
    "    }\n",
    "</style>\n",
    "\n",
    "## <span class=\"glow\" style=\"font-family: Monospace;\">Hack #2</span>\n",
    "\n",
    "Create a average grade calculator using integers and addition.  input scores as variables, add them together, and average them out.  Using that data create an array of student info (ex: name/age) and average grade.\n",
    "\n",
    "\n",
    "- choose either Js (using an array/object) or python (using a list)\n",
    "- Use comments to explain your code and thought process.\n",
    "- log your work/print with consle\n",
    "\n"
   ]
  },
  {
   "cell_type": "markdown",
   "metadata": {},
   "source": [
    "## [Submit homework here.](https://github.com/nighthawkcoders/portfolio_2025/issues/369)"
   ]
  }
 ],
 "metadata": {
  "kernelspec": {
   "display_name": "venv",
   "language": "python",
   "name": "python3"
  },
  "language_info": {
   "codemirror_mode": {
    "name": "ipython",
    "version": 3
   },
   "file_extension": ".py",
   "mimetype": "text/x-python",
   "name": "python",
   "nbconvert_exporter": "python",
   "pygments_lexer": "ipython3",
   "version": "3.12.5"
  }
 },
 "nbformat": 4,
 "nbformat_minor": 2
}
