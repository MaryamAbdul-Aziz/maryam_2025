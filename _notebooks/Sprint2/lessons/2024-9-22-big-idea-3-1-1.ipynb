{
 "cells": [
  {
   "cell_type": "markdown",
   "metadata": {
    "vscode": {
     "languageId": "raw"
    }
   },
   "source": [
    "---\n",
    "layout: post\n",
    "title: Lesson 3.1 Python Variables\n",
    "permalink: /csp/big-idea/p4/3-1-1\n",
    "comments: true\n",
    "author: Maryam Abdul-Aziz\n",
    "type: tangibles\n",
    "courses: { compsci: {week: 5} }\n",
    "---"
   ]
  },
  {
   "cell_type": "markdown",
   "metadata": {},
   "source": [
    "<style>\n",
    "    .glow {\n",
    "        color: #3634c7; /* Text color */\n",
    "        text-shadow: 0 0 10px #3d238c, 0 0 20px #3d238c, 0 0 30px #3d238c; /* Glowing effect on text */\n",
    "        transition: all 0.3s ease-in-out;\n",
    "    }\n",
    "</style>\n",
    "\n",
    "## <span class=\"glow\" style=\"font-family: Monospace;\">3.1 Variables and Assignments</span>"
   ]
  },
  {
   "cell_type": "markdown",
   "metadata": {},
   "source": [
    "### <span style=\"font-family: Monospace; color: #6888fc\">Variables</span>\n",
    "\n",
    "Variables are values that can store data and can change depending on info passed through a program.\n",
    "\n",
    "Variables can be useful when storing different values that change based on user input, for example, changing the avatar, sound effects, and powerups in a video game based on a character selected by the player early on.\n",
    "\n",
    "Variable names can be anything from just a letter, like `n` for number to a descriptive name like `grade`. It's important that variable names can be understood by human readers and not just computers, so make sure to pick something that makes sense."
   ]
  },
  {
   "cell_type": "code",
   "execution_count": 28,
   "metadata": {},
   "outputs": [
    {
     "name": "stdout",
     "output_type": "stream",
     "text": [
      "17\n",
      "Maryam\n",
      "12\n"
     ]
    }
   ],
   "source": [
    "n = 17\n",
    "name = \"Maryam\"\n",
    "student_grade = 12\n",
    "\n",
    "\n",
    "# In Python, you can view the value stored in a variable using print statements, as shown below.\n",
    "# Use the syntax \"print(variable_name)\" for Python\n",
    "\n",
    "print(n)\n",
    "print(name)\n",
    "print(student_grade)"
   ]
  },
  {
   "cell_type": "markdown",
   "metadata": {},
   "source": [
    "Notice how my name is surrounded by quotation marks. Variables with words or phrases are called strings (explained in 3.1.2), and you must put quotes around them"
   ]
  },
  {
   "cell_type": "markdown",
   "metadata": {},
   "source": [
    "Variables can be useful when you want to call information stored previously in code. "
   ]
  },
  {
   "cell_type": "code",
   "execution_count": 29,
   "metadata": {},
   "outputs": [
    {
     "name": "stdout",
     "output_type": "stream",
     "text": [
      "Maryam\n",
      "17\n",
      "False\n"
     ]
    }
   ],
   "source": [
    "player_name = \"Maryam\"\n",
    "player_age = 17\n",
    "player_blonde = False #this variable is a boolean! More info on those in 3.1.2\n",
    "\n",
    "print(player_name)\n",
    "print(player_age)\n",
    "print(player_blonde)"
   ]
  },
  {
   "cell_type": "markdown",
   "metadata": {},
   "source": [
    "Re-declaring a variable will overwrite any previous declaration, so be careful when creating new variables and make sure they have distinct names."
   ]
  },
  {
   "cell_type": "code",
   "execution_count": 21,
   "metadata": {},
   "outputs": [
    {
     "name": "stdout",
     "output_type": "stream",
     "text": [
      "16\n",
      "\n",
      "Redefinding variable\n",
      "\n",
      "17\n"
     ]
    }
   ],
   "source": [
    "student_age = 16\n",
    "print(student_age)\n",
    "print()\n",
    "\n",
    "student_age = 17\n",
    "print(\"Redefinding variable\")\n",
    "print()\n",
    "print(student_age)"
   ]
  },
  {
   "cell_type": "markdown",
   "metadata": {},
   "source": [
    "### <span style=\"font-family: Monospace; color: #6888fc\">Variable Naming</span>\n",
    "\n",
    "Remember, it's important that your variable names can easily be understood by others, both in your group and in the class. When naming a variable, you cannot use any spaces, so you must use another way to call multi-word variables. \n",
    "\n",
    "There are three common formats used when formatting the name for your variable that you can use to break up the text. <span style=\"font-family: Monospace; color: #a2c6e0\">**In Python, variable names are CASE SENSITIVE.**</span>\n",
    " Make sure you remember which letters are capital in your variable names."
   ]
  },
  {
   "cell_type": "markdown",
   "metadata": {},
   "source": [
    "### <span style=\"font-family: Monospace; color: #6888fc\">SnakeCase</span>\n",
    "\n",
    "Replace all spaces with underscores. This is the standard naming convention in Python for variables."
   ]
  },
  {
   "cell_type": "code",
   "execution_count": 88,
   "metadata": {},
   "outputs": [],
   "source": [
    "player_one = \"Joanna\""
   ]
  },
  {
   "cell_type": "markdown",
   "metadata": {},
   "source": [
    "### <span style=\"font-family: Monospace; color: #6888fc\">PascalCase</span>\n",
    "\n",
    "Capitalize every new word in variable name, but include no spaces. This example is for learning purposes only, but stay away from this naming convention for variables in Python, as PascalCase is reserved for class names."
   ]
  },
  {
   "cell_type": "code",
   "execution_count": 89,
   "metadata": {},
   "outputs": [],
   "source": [
    "PlayerOne = \"Nora\""
   ]
  },
  {
   "cell_type": "markdown",
   "metadata": {},
   "source": [
    "### <span style=\"font-family: Monospace; color: #6888fc\">CamelCase</span>\n",
    "\n",
    "Capitalize every word after the first in the variable name. Not typically used in Python, but is standard for variables in JavaScript."
   ]
  },
  {
   "cell_type": "code",
   "execution_count": 90,
   "metadata": {},
   "outputs": [],
   "source": [
    "playerOne = \"Kushi\""
   ]
  },
  {
   "cell_type": "code",
   "execution_count": 91,
   "metadata": {},
   "outputs": [
    {
     "name": "stdout",
     "output_type": "stream",
     "text": [
      "Joanna Nora Kushi\n"
     ]
    }
   ],
   "source": [
    "# Popcorn Hack Cell\n",
    "player_one = \"Joanna\"\n",
    "PlayerOne = \"Nora\"\n",
    "playerOne = \"Kushi\"\n",
    "\n",
    "# All three variables are different.  Programming languages are sensitive to snake case, upper case, etc.\n",
    "print(player_one, PlayerOne, playerOne)"
   ]
  },
  {
   "cell_type": "markdown",
   "metadata": {},
   "source": [
    "<span style=\"font-family: Monospace; color: #a2c6e0\">`Popcorn Hack:` Make your own variables for members of your team, but follow naming convention for Python</span>"
   ]
  }
 ],
 "metadata": {
  "kernelspec": {
   "display_name": "venv",
   "language": "python",
   "name": "python3"
  },
  "language_info": {
   "codemirror_mode": {
    "name": "ipython",
    "version": 3
   },
   "file_extension": ".py",
   "mimetype": "text/x-python",
   "name": "python",
   "nbconvert_exporter": "python",
   "pygments_lexer": "ipython3",
   "version": "3.12.5"
  }
 },
 "nbformat": 4,
 "nbformat_minor": 2
}
