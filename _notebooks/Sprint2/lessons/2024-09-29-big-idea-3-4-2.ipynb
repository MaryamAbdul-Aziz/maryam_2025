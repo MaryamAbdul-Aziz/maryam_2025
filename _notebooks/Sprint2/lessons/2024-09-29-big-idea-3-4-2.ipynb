{
 "cells": [
  {
   "cell_type": "markdown",
   "metadata": {},
   "source": [
    "---\n",
    "layout: post\n",
    "title: Lesson 4.2 Strings and Functions\n",
    "permalink: /csp/big-idea/p4/3-4-2\n",
    "comments: true\n",
    "author: Joanna Hu\n",
    "type: tangibles\n",
    "courses: { compsci: {week: 5} }\n",
    "---"
   ]
  },
  {
   "cell_type": "markdown",
   "metadata": {},
   "source": [
    "<style>\n",
    "    .glow {\n",
    "        color: #fff; /* Text color */\n",
    "        text-shadow: 0 0 10px #8171E5, 0 0 20px #8171E5, 0 0 30px #8171E5; /* Glowing effect on text */\n",
    "        transition: all 0.3s ease-in-out;\n",
    "    }\n",
    "</style>\n",
    "\n",
    "<h2><span class = \"glow\" style=\"font-family: Monospace; color:#ffffff\">String Functions In Python</span></h2>\n",
    "\n",
    "- more functions you can do on strings"
   ]
  },
  {
   "cell_type": "code",
   "execution_count": 9,
   "metadata": {},
   "outputs": [
    {
     "name": "stdout",
     "output_type": "stream",
     "text": [
      "the stripes on a tiger are unique, similar to the human fingerprint\n",
      "THE STRIPES ON A TIGER ARE UNIQUE, SIMILAR TO THE HUMAN FINGERPRINT\n"
     ]
    }
   ],
   "source": [
    "tiger_fact = \"the stripes on a Tiger are unique, similar to the human fingerprint\"\n",
    "\n",
    "\n",
    "#make everything lowercase or uppercase, use .lower() or .upper()\n",
    "print(tiger_fact.lower())\n",
    "print(tiger_fact.upper())"
   ]
  },
  {
   "cell_type": "code",
   "execution_count": 10,
   "metadata": {},
   "outputs": [
    {
     "name": "stdout",
     "output_type": "stream",
     "text": [
      "2\n"
     ]
    }
   ],
   "source": [
    "#count how many times an argument appears\n",
    "#don't forget quotes\n",
    "print(tiger_fact.count(\"the\"))"
   ]
  },
  {
   "cell_type": "code",
   "execution_count": 13,
   "metadata": {},
   "outputs": [
    {
     "name": "stdout",
     "output_type": "stream",
     "text": [
      "27\n"
     ]
    }
   ],
   "source": [
    "#find a specific index\n",
    "#index is the number of a character in a string\n",
    "print(tiger_fact.find(\"unique\"))\n",
    "#27 means the letter \"u\" is the 27th character"
   ]
  },
  {
   "cell_type": "code",
   "execution_count": 14,
   "metadata": {},
   "outputs": [
    {
     "name": "stdout",
     "output_type": "stream",
     "text": [
      "the stripes on a zebra are unique, similar to the human fingerprint\n",
      "the stripes on a zebra are unique, similar to the human fingerprint\n"
     ]
    }
   ],
   "source": [
    "#replace something in a string, there are 2 parts\n",
    "\n",
    "#format: variable.replace('thing you want replaced', 'replacement')\n",
    "tiger_fact.replace('Tiger', 'zebra')\n",
    "#this will not work on it's own. To make it work, there are 2 options:\n",
    "\n",
    "#option1: make new var \n",
    "new_tiger_fact = tiger_fact.replace('Tiger', 'zebra')\n",
    "print(new_tiger_fact)\n",
    "\n",
    "#option2: replace old var with new var\n",
    "tiger_fact = tiger_fact.replace('Tiger', 'zebra')\n",
    "print(tiger_fact)"
   ]
  },
  {
   "cell_type": "markdown",
   "metadata": {},
   "source": [
    "\n",
    "\n",
    "<h4><span style=\"font-family: Monospace; color:#7077D7\">Concat</span></h4>\n",
    "\n",
    "- stands for concatinate\n",
    "- join multiple variables together"
   ]
  },
  {
   "cell_type": "code",
   "execution_count": 26,
   "metadata": {},
   "outputs": [
    {
     "name": "stdout",
     "output_type": "stream",
     "text": [
      "angelfishcatfishpufferfish\n",
      "angelfish, catfish, pufferfish\n"
     ]
    }
   ],
   "source": [
    "fish = \"fish\"\n",
    "fish1 = \"angel\"\n",
    "fish2 = \"cat\"\n",
    "fish3 = \"puffer\"\n",
    "\n",
    "\n",
    "bad_format_species = fish1 + fish + fish2 + fish + fish3 + fish\n",
    "print(bad_format_species)\n",
    "#you can also do this directly under print instead of making a new var\n",
    "\n",
    "#to better format these fishes, add commas and spaces as separate strings in variable\n",
    "good_format_species = fish1 + fish + ', ' + fish2 + fish + ', ' + fish3 + fish\n",
    "print(good_format_species)"
   ]
  },
  {
   "cell_type": "markdown",
   "metadata": {},
   "source": [
    "\n",
    "\n",
    "<h5><span style=\"font-family: Monospace; color:#7077D7\">Formatted string basics</span></h5>\n",
    "\n",
    "- when you are concating a lot of variables, using plus signs and individual strings for spaces gets messy\n",
    "- formatted strings make it easier to read and keep track of everything \n",
    "- use placeholders {} then replace them later on with .format()"
   ]
  },
  {
   "cell_type": "code",
   "execution_count": 27,
   "metadata": {},
   "outputs": [
    {
     "name": "stdout",
     "output_type": "stream",
     "text": [
      "angelfish, catfish, and pufferfish, are my favorite fish!\n"
     ]
    }
   ],
   "source": [
    "better_format_species = '{}{}, {}{}, and {}{} are my favorite fish!' .format(fish1,fish,fish2,fish,fish3,fish)\n",
    "print(better_format_species)"
   ]
  }
 ],
 "metadata": {
  "kernelspec": {
   "display_name": "venv",
   "language": "python",
   "name": "python3"
  },
  "language_info": {
   "codemirror_mode": {
    "name": "ipython",
    "version": 3
   },
   "file_extension": ".py",
   "mimetype": "text/x-python",
   "name": "python",
   "nbconvert_exporter": "python",
   "pygments_lexer": "ipython3",
   "version": "3.10.12"
  }
 },
 "nbformat": 4,
 "nbformat_minor": 2
}
