{
 "cells": [
  {
   "cell_type": "raw",
   "metadata": {
    "vscode": {
     "languageId": "raw"
    }
   },
   "source": [
    "---\n",
    "layout: post\n",
    "title: Lesson 4.1 Strings\n",
    "permalink: /csp/big-idea/p4/3-4-1\n",
    "comments: true\n",
    "author: Joanna Hu\n",
    "menu: /nav/csp_unit3_p4_fundamentals.html\n",
    "---"
   ]
  },
  {
   "cell_type": "markdown",
   "metadata": {},
   "source": [
    "<style>\n",
    "    .glow {\n",
    "        color: #fff; /* Text color */\n",
    "        text-shadow: 0 0 10px #8171E5, 0 0 20px #8171E5, 0 0 30px #8171E5; /* Glowing effect on text */\n",
    "        transition: all 0.3s ease-in-out;\n",
    "    }\n",
    "</style>\n",
    "\n",
    "<h3><span class = \"glow\" style=\"font-family: Monospace; color:#ffffff\">Strings in Python:</span></h3>\n",
    "<h5><span style=\"font-family: Monospace; color:#7077D7\">Printing</span></h5>\n",
    "\n",
    "- you can print the string directly or use variables to store it\n",
    "\n",
    "<br>"
   ]
  },
  {
   "cell_type": "code",
   "execution_count": 19,
   "metadata": {},
   "outputs": [
    {
     "name": "stdout",
     "output_type": "stream",
     "text": [
      "panda\n",
      "rabbit\n",
      "otter\n"
     ]
    }
   ],
   "source": [
    "#printing directly, use single or double qutoes:\n",
    "print(\"panda\")\n",
    "\n",
    "\n",
    "#variable = \"string\"\n",
    "animal = \"rabbit\"\n",
    "#keep variable descriptive of what value it holds to make code easier to read\n",
    "#single or double quotes both work\n",
    "\n",
    "#variables with multiple words, use underscore not space\n",
    "favorite_animal = \"otter\"\n",
    "\n",
    "#don't use quotes when using variables\n",
    "print(animal)\n",
    "print(favorite_animal)"
   ]
  },
  {
   "cell_type": "markdown",
   "metadata": {},
   "source": [
    "\n",
    "\n",
    "<h5><span style=\"font-family: Monospace; color:#7077D7\">Quotes:</span></h5>\n",
    "\n",
    "- if using single quotes and string has a single quote, python will read it as the end of a string\n",
    "- to combat this, use a backslash or double quotes\n",
    "- vice versa for double quotes\n"
   ]
  },
  {
   "cell_type": "code",
   "execution_count": 12,
   "metadata": {},
   "outputs": [
    {
     "name": "stdout",
     "output_type": "stream",
     "text": [
      "I'm feeling happy\n",
      "I'm feeling sad\n"
     ]
    }
   ],
   "source": [
    "# example:  mood1 = 'I'm feeling tired'\n",
    "#apostrophe in \"I'm\" interrupts string and will cause error\n",
    "\n",
    "#use backslash in front or double quotes\n",
    "mood2 = 'I\\'m feeling happy'\n",
    "mood3 = \"I'm feeling sad\"\n",
    "\n",
    "print(mood2)\n",
    "print(mood3)"
   ]
  },
  {
   "cell_type": "markdown",
   "metadata": {},
   "source": [
    "\n",
    "\n",
    "<h5><span style=\"font-family: Monospace; color:#7077D7\">Strings with multiple lines</span></h5>\n",
    "\n",
    "- instead of printing 3 separate strings, use 3 quotes \n",
    "    - both single and double work "
   ]
  },
  {
   "cell_type": "code",
   "execution_count": 26,
   "metadata": {},
   "outputs": [
    {
     "name": "stdout",
     "output_type": "stream",
     "text": [
      "my favorite animal\n",
      "hiberates during the winter\n",
      "in a cave\n"
     ]
    }
   ],
   "source": [
    "riddle = \"\"\"my favorite animal\n",
    "hiberates during the winter\n",
    "in a cave\"\"\"\n",
    "\n",
    "print(riddle)"
   ]
  },
  {
   "cell_type": "markdown",
   "metadata": {},
   "source": [
    "\n",
    "\n",
    "<h4><span style=\"font-family: Monospace; color:#7077D7\">len function</span></h4>\n",
    "\n",
    " - stands for length\n",
    " - returns length of a string\n"
   ]
  },
  {
   "cell_type": "code",
   "execution_count": 28,
   "metadata": {},
   "outputs": [
    {
     "name": "stdout",
     "output_type": "stream",
     "text": [
      "11\n"
     ]
    }
   ],
   "source": [
    "print(len (\"hummingbird\"))"
   ]
  },
  {
   "cell_type": "markdown",
   "metadata": {},
   "source": [
    "\n",
    "\n",
    "<h4><span style=\"font-family: Monospace; color:#7077D7\">Printing specific parts of a string</span></h4>\n",
    "\n",
    "- for a specific character: use []\n",
    "- for a range: use [ : ]\n",
    "    - starts counting at 0\n",
    "    - first value is inclusive, second is not\n",
    "- slicing:\n",
    "    - leaving first value empty: will start at 0\n",
    "    - leaving second value empty: will end with last character"
   ]
  },
  {
   "cell_type": "code",
   "execution_count": 38,
   "metadata": {},
   "outputs": [
    {
     "name": "stdout",
     "output_type": "stream",
     "text": [
      "t\n",
      "stripes\n",
      "the stripes on a tiger \n",
      "similar to human fingerprints\n"
     ]
    }
   ],
   "source": [
    "tiger_fact = \"the stripes on a tiger are unique, similar to human fingerprints\"\n",
    "\n",
    "#specific character: \n",
    "print(tiger_fact[5])\n",
    "\n",
    "#range:\n",
    "print(tiger_fact[4:11])\n",
    "\n",
    "#slicing:\n",
    "print(tiger_fact[:23])\n",
    "print(tiger_fact[35:])"
   ]
  },
  {
   "cell_type": "markdown",
   "metadata": {},
   "source": [
    "\n",
    "\n",
    "<h3><span style=\"font-family: Monospace; color:#7077D7\">Palindromes</span></h3>\n",
    "A palindrome is a string that reads the same from right to left as left to right.\n",
    "<li>Ex: 2112, mom, taco cat</li>"
   ]
  },
  {
   "cell_type": "code",
   "execution_count": 17,
   "metadata": {},
   "outputs": [
    {
     "name": "stdout",
     "output_type": "stream",
     "text": [
      "True\n",
      "False\n"
     ]
    }
   ],
   "source": [
    "def palindrome(input_str):\n",
    "    # Remove spaces and convert the string to lowercase\n",
    "    clean_str = input_str.replace(\" \", \"\").lower()\n",
    "    # Check if the cleaned string is equal to its reverse\n",
    "    return clean_str == clean_str[::-1]\n",
    "\n",
    "\n",
    "print(palindrome(\"go hang a salami im a lasagna hog\")) # True\n",
    "print(palindrome(\"hi\")) # False\n"
   ]
  }
 ],
 "metadata": {
  "kernelspec": {
   "display_name": "venv",
   "language": "python",
   "name": "python3"
  },
  "language_info": {
   "codemirror_mode": {
    "name": "ipython",
    "version": 3
   },
   "file_extension": ".py",
   "mimetype": "text/x-python",
   "name": "python",
   "nbconvert_exporter": "python",
   "pygments_lexer": "ipython3",
   "version": "3.10.12"
  }
 },
 "nbformat": 4,
 "nbformat_minor": 2
}
