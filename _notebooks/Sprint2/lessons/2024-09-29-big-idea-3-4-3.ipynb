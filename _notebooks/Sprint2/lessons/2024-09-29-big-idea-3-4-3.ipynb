{
 "cells": [
  {
   "cell_type": "markdown",
   "metadata": {},
   "source": [
    "---\n",
    "layout: post\n",
    "title: Lesson 4.3 JavaScript Strings\n",
    "permalink: /csp/big-idea/p4/3-4-3\n",
    "comments: true\n",
    "author: Joanna Hu\n",
    "type: tangibles\n",
    "courses: { compsci: {week: 5} }\n",
    "---"
   ]
  },
  {
   "cell_type": "markdown",
   "metadata": {},
   "source": [
    "<style>\n",
    "    .glow {\n",
    "        color: #fff; /* Text color */\n",
    "        text-shadow: 0 0 10px #8171E5, 0 0 20px #8171E5, 0 0 30px #8171E5; /* Glowing effect on text */\n",
    "        transition: all 0.3s ease-in-out;\n",
    "    }\n",
    "</style>\n",
    "\n",
    "<h2><span class = \"glow\" style=\"font-family: Monospace; color:#ffffff\">Strings in Javascript</span></h2>\n",
    "\n",
    "- Strings are primitive data types/ immutable\n",
    "    - parsed: data is stored directly in a variable (for basic storage)\n",
    "    - this means they are unchanging\n",
    "    - don't have properties and types\n",
    "- formatted similar to python, using quotes (both single and double) and starting at 0"
   ]
  },
  {
   "cell_type": "code",
   "execution_count": 6,
   "metadata": {
    "vscode": {
     "languageId": "javascript"
    }
   },
   "outputs": [
    {
     "data": {
      "application/javascript": "\nconsole.log(\"simple way to display strings\");\n//console.log prints in console\n//js lingo: what's inside source code is called string literal. What appears in the console is called String value.\n\n\n\n//use variable to assign values of string \n//variables are better bc you can have spaces without a plus sign\nconst stringExample = \"another example of printing a string\";\nconsole.log(stringExample);\n\n//if string has an apostrophe and you're using single quotes, use backslash to negate apostrophe (same as python)\n//you can also switch to double quotes\nconsole.log(\"the dog said \\\"where is my food\\\" as the owner left\");\n\n\n\n//concat\nconst mascot = \"night\" + \"hawk\";\nconsole.log(mascot);\n\n//you can concat multiple variables together under a separate variable similar to in python\nconst fish1 = \"pufferfish\";\nconst fish2 = \"marlin\";\nconst fish3 = \"salmon\";\nconst favFish = \"My favorite fish species are\" + fish1 + \", \" + fish2 + \", and\" + fish3 \".\";\nconsole.log(favFish);\n\n\n\n//template literal, uses backticks instead of quotes\n//more convienent way to concat with diff syntax, not as messy\nconst favFishMethodTwo`My favorite fish species are ${fish1}, ${fish2}, and ${fish3}.`;\nconsole.log(favFishMethodTwo);\n//can also be used to define strings without the worry of overlapping quotes\nconsole.log(`I'm sure this is \"correct\"`);\n\n\n\n//new lines with \\n\nconst riddle = \"my favorite animal\\nhiberates during the winter\\nin a cave\";\nconsole.log(riddle);\n\n//for template literal, enter string in new line\nconst threeLines = `this is line one\nthis is line 2\nthis is line 3`;\nconsole.log(threeLines);\n",
      "text/plain": [
       "<IPython.core.display.Javascript object>"
      ]
     },
     "metadata": {},
     "output_type": "display_data"
    }
   ],
   "source": [
    "%%js\n",
    "\n",
    "console.log(\"simple way to display strings\");\n",
    "//console.log prints in console\n",
    "//js lingo: what's inside source code is called string literal. What appears in the console is called String value.\n",
    "\n",
    "\n",
    "\n",
    "//use variable to assign values of string \n",
    "//variables are better bc you can have spaces without a plus sign\n",
    "const stringExample = \"another example of printing a string\";\n",
    "console.log(stringExample);\n",
    "\n",
    "//if string has an apostrophe and you're using single quotes, use backslash to negate apostrophe (same as python)\n",
    "//you can also switch to double quotes\n",
    "console.log(\"the dog said \\\"where is my food\\\" as the owner left\");\n",
    "\n",
    "\n",
    "\n",
    "//concat\n",
    "const mascot = \"night\" + \"hawk\";\n",
    "console.log(mascot);\n",
    "\n",
    "//you can concat multiple variables together under a separate variable similar to in python\n",
    "const fish1 = \"pufferfish\";\n",
    "const fish2 = \"marlin\";\n",
    "const fish3 = \"salmon\";\n",
    "const favFish = \"My favorite fish species are\" + fish1 + \", \" + fish2 + \", and\" + fish3 \".\";\n",
    "console.log(favFish);\n",
    "\n",
    "\n",
    "//template literal, uses backticks instead of quotes\n",
    "//more convienent way to concat with diff syntax, not as messy\n",
    "const favFishMethodTwo = `My favorite fish species are ${fish1}, ${fish2}, and ${fish3}.`;\n",
    "console.log(favFishMethodTwo);\n",
    "//can also be used to define strings without the worry of overlapping quotes\n",
    "console.log(`I'm sure this is \"correct\"`);\n",
    "\n",
    "\n",
    "\n",
    "//new lines with \\n\n",
    "const riddle = \"my favorite animal\\nhiberates during the winter\\nin a cave\";\n",
    "console.log(riddle);\n",
    "\n",
    "//for template literal, enter string in new line\n",
    "const threeLines = `this is line one\n",
    "this is line 2\n",
    "this is line 3`;\n",
    "console.log(threeLines);\n"
   ]
  },
  {
   "cell_type": "markdown",
   "metadata": {},
   "source": [
    "<style>\n",
    "    .glow {\n",
    "        color: #fff; /* Text color */\n",
    "        text-shadow: 0 0 10px #8171E5, 0 0 20px #8171E5, 0 0 30px #8171E5; /* Glowing effect on text */\n",
    "        transition: all 0.3s ease-in-out;\n",
    "    }\n",
    "</style>\n",
    "\n",
    "<h4>Since strings can be treated as objects in JS, refer to <a href = \"https://developer.mozilla.org/en-US/docs/Web/JavaScript/Reference/Global_Objects/String\"><span class = \"glow\">this website</span></a> for a list of js methods</h4>\n",
    "\n",
    "<br>\n"
   ]
  }
 ],
 "metadata": {
  "kernelspec": {
   "display_name": "venv",
   "language": "python",
   "name": "python3"
  },
  "language_info": {
   "codemirror_mode": {
    "name": "ipython",
    "version": 3
   },
   "file_extension": ".py",
   "mimetype": "text/x-python",
   "name": "python",
   "nbconvert_exporter": "python",
   "pygments_lexer": "ipython3",
   "version": "3.10.12"
  }
 },
 "nbformat": 4,
 "nbformat_minor": 2
}
