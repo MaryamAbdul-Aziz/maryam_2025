{
 "cells": [
  {
   "cell_type": "markdown",
   "metadata": {},
   "source": [
    "---\n",
    "layout: post\n",
    "title: Lesson 3.4 Strings Hack\n",
    "permalink: /csp/big-idea/p4/3-4-4\n",
    "comments: true\n",
    "author: Joanna Hu\n",
    "type: tangibles\n",
    "courses: { compsci: {week: 5} }\n",
    "---"
   ]
  },
  {
   "cell_type": "markdown",
   "metadata": {},
   "source": [
    "<style>\n",
    "    .glow {\n",
    "        color: #fff; /* Text color */\n",
    "        text-shadow: 0 0 10px #8171E5, 0 0 20px #8171E5, 0 0 30px #8171E5; /* Glowing effect on text */\n",
    "        transition: all 0.3s ease-in-out;\n",
    "    }\n",
    "</style>\n",
    "\n",
    "<h3><span class = \"glow\">Popcorn Hack #7 (5%) </span></h3>\n",
    "\n",
    "<br>\n",
    "\n",
    "Get the lyrics of a clean song to:\n",
    "- find how many times the title of the song appears in the lyrics\n",
    "- find the index of the 50th word\n",
    "- replace the first verse with the last verse\n",
    "- concat two verses together to make your own song\n",
    "\n",
    "<br>\n",
    "<br>\n",
    "\n",
    "<h3><span class = \"glow\">Popcorn hack #8 (5%)</span></h3>\n",
    "\n",
    "- Using JS:\n",
    "    - concat a flower with an animal to make a new creature\n",
    "        - use both quotes and backtick/ template literal to display this\n",
    "    - set the new creature as a variable\n",
    "    - write a short story about your creature using variables, multiple lines, dialog, and apostrophes. You can use either quotes or backtick"
   ]
  },
  {
   "cell_type": "markdown",
   "metadata": {},
   "source": [
    "<style>\n",
    "    .glow {\n",
    "        color: #fff; /* Text color */\n",
    "        text-shadow: 0 0 10px #8171E5, 0 0 20px #8171E5, 0 0 30px #8171E5; /* Glowing effect on text */\n",
    "        transition: all 0.3s ease-in-out;\n",
    "    }\n",
    "</style>\n",
    "\n",
    "## <span class =\"glow\">Main strings hack (20%)</span>\n",
    "Using sections above...\n",
    "1. Make a text analyzer with strings that accepts input from the user\n",
    "    - Takes multiple words/ sentences\n",
    "    - Displays original string\n",
    "    - Counts total characters (includes spaces)\n",
    "    - Displays longest word with how many characters it has\n",
    "    - Displays the string reversed\n",
    "    - Find middle word/ character (excludes spaces or special characters)\n",
    "    - Correctly displays everything!\n",
    "2. Other criteria:\n",
    "    - make sure program can process upper/lowercase letters, numbers, and symbols\n",
    "    - Customize and add your own unique function\n",
    "    - Try to use both python and js, either making two separate analyzers or using both at the same time\n",
    "\n",
    "3. Extra/ Bonus: make two additional input systems where user can replace words of the original input. \n",
    "    - The first input is which word they want to replace, the second is what to replace it with\n",
    "    - For example, if they inputed a song verse, through the second input they can replace a specific word that repeats in the song with another\n",
    "    - Make sure input can handle requests to change things that aren't in original string.\n"
   ]
  },
  {
   "cell_type": "markdown",
   "metadata": {},
   "source": [
    "## [Submit homework here.](https://github.com/nighthawkcoders/portfolio_2025/issues/369)"
   ]
  }
 ],
 "metadata": {
  "language_info": {
   "name": "python"
  }
 },
 "nbformat": 4,
 "nbformat_minor": 2
}
