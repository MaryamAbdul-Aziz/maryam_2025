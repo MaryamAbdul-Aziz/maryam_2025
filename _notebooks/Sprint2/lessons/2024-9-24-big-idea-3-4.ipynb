{
 "cells": [
  {
   "cell_type": "raw",
   "metadata": {
    "vscode": {
     "languageId": "raw"
    }
   },
   "source": [
    "---\n",
    "layout: post\n",
    "title: Lesson 3.4 Strings\n",
    "categories: [Collaboration]\n",
    "permalink: /csp/big-idea/p4/3-4\n",
    "comments: true\n",
    "author: Joanna Hu\n",
    "menu: /nav/csp_unit3_p4_fundamentals.html\n",
    "---"
   ]
  },
  {
   "cell_type": "markdown",
   "metadata": {},
   "source": [
    "<style>\n",
    "    .glow {\n",
    "        color: #fff; /* Text color */\n",
    "        text-shadow: 0 0 10px #8171E5, 0 0 20px #8171E5, 0 0 30px #8171E5; /* Glowing effect on text */\n",
    "        transition: all 0.3s ease-in-out;\n",
    "    }\n",
    "</style>\n",
    "\n",
    "\n",
    "<br>\n",
    "<h2><span class=\"glow\" style=\"font-family: Monospace; color:#ffffff\"> 3.4 Strings</span></h2>\n",
    "<ul>\n",
    "    <li>Strings store sequences of characters (characters can be numbers, letters, punctuation, symbols, spaces)</li>\n",
    "    <li>Substring is part of an existing string</li>\n",
    "    <li>Will learn about basic uses of strings and how different languages use specific functions to complete similar tasks on strings</li>\n",
    "</ul>\n",
    "<br>\n",
    "<br>\n",
    "\n",
    "<h4><span class=\"glow\" style=\"font-family: Monospace; color:#ffffff\"> Overview of each part:</span></h4>\n",
    "\n",
    "- 3.4.1: strings in Python basics\n",
    "    - variables, printing, quotes, multiple lines, lens, specific ranges, and palindromes\n",
    "- 3.4.2: More strings in Python methods and functions\n",
    "    - upper/lowercase, finding an index, replacements\n",
    "    - concat with plus signs and placeholders\n",
    "    - popcorn hack #7 (5%)\n",
    "- 3.4.3: Strings in Javascript\n",
    "    - basic strings, variables, concat, template literal, new lines, list of methods\n",
    "    - popcorn hack #8 (5%)\n",
    "- 3.4.4: Hack #4 (50%)\n"
   ]
  }
 ],
 "metadata": {
  "kernelspec": {
   "display_name": "venv",
   "language": "python",
   "name": "python3"
  },
  "language_info": {
   "codemirror_mode": {
    "name": "ipython",
    "version": 3
   },
   "file_extension": ".py",
   "mimetype": "text/x-python",
   "name": "python",
   "nbconvert_exporter": "python",
   "pygments_lexer": "ipython3",
   "version": "3.10.12"
  }
 },
 "nbformat": 4,
 "nbformat_minor": 2
}
