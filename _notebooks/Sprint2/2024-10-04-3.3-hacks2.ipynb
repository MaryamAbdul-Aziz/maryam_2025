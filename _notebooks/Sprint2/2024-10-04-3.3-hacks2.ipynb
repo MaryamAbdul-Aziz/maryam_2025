{
 "cells": [
  {
   "cell_type": "markdown",
   "metadata": {},
   "source": [
    "---\n",
    "toc: true\n",
    "layout: post\n",
    "title: Lessons 3.3 Hacks\n",
    "type: hacks\n",
    "courses: { compsci: {week: 5} }\n",
    "---"
   ]
  },
  {
   "cell_type": "markdown",
   "metadata": {},
   "source": [
    "# 3.3\n",
    "\n",
    "## Popcorn Hacks\n",
    "\n",
    "### 3.3.3 Python Mathematical Hacks\n",
    "\n",
    "#### Hack 3\n",
    "\n",
    "\n",
    "1. Prompt the user to enter a number n.\n",
    "2. Initialize total_sum to 0.\n",
    "3. Use a loop to iterate from 1 to n.\n",
    "4. Add each number to total_sum.\n",
    "5. Print the total_sum."
   ]
  },
  {
   "cell_type": "code",
   "execution_count": 1,
   "metadata": {},
   "outputs": [
    {
     "name": "stdout",
     "output_type": "stream",
     "text": [
      "Please input a whole number\n",
      "The sum of 3 and every integer before it is 6\n"
     ]
    }
   ],
   "source": [
    "# ask user for int input\n",
    "print(\"Please input a whole number\")\n",
    "n = int(input())\n",
    "\n",
    "total_sum = 0\n",
    "\n",
    "# iterate through values\n",
    "for i in range (1, n +1):\n",
    "        total_sum += i\n",
    "print(\"The sum of\", n, \"and every integer before it is\", total_sum)"
   ]
  },
  {
   "cell_type": "markdown",
   "metadata": {},
   "source": [
    "### 3.3.4 Javascript Mathematical Hacks\n",
    "\n",
    "#### Hack 1: Easy\n",
    "\n",
    "\n",
    "Create a function that uses 4 of the 5 basic arithmetic operations and returns the number 32 as the answer."
   ]
  },
  {
   "cell_type": "code",
   "execution_count": 2,
   "metadata": {
    "vscode": {
     "languageId": "html"
    }
   },
   "outputs": [
    {
     "data": {
      "text/html": [
       "\n",
       "<script>\n",
       "let a = 5\n",
       "let b = 10\n",
       "\n",
       "let c = ((((a + b) * 20) / 10) + 10) - 8;\n",
       "console.log(\"c =\", c);\n",
       "console.log(c, \"is equal to 32\");\n",
       "</script>\n"
      ],
      "text/plain": [
       "<IPython.core.display.HTML object>"
      ]
     },
     "metadata": {},
     "output_type": "display_data"
    }
   ],
   "source": [
    "%%html\n",
    "\n",
    "<script>\n",
    "let a = 5\n",
    "let b = 10\n",
    "\n",
    "let c = ((((a + b) * 20) / 10) + 10) - 8;\n",
    "console.log(\"c =\", c);\n",
    "console.log(c, \"is equal to 32\");\n",
    "</script>"
   ]
  },
  {
   "cell_type": "markdown",
   "metadata": {},
   "source": [
    "## Hacks\n",
    "\n",
    "### [3.3.3 Python Mathematical Hacks](https://nighthawkcoders.github.io/portfolio_2025/csp/big-idea/p4/3-3-3)\n",
    "\n",
    "#### Hack 1\n",
    "\n",
    "Compute the arithmetic mean and median and print both results."
   ]
  },
  {
   "cell_type": "code",
   "execution_count": 3,
   "metadata": {},
   "outputs": [
    {
     "name": "stdout",
     "output_type": "stream",
     "text": [
      "The initial values are [12, 17, 14, 12, 15, 18, 9]\n",
      "\n",
      "The arithmetic mean is approximately 13.86\n",
      "\n",
      "The median is 14\n"
     ]
    }
   ],
   "source": [
    "list = [12, 17, 14, 12, 15, 18, 9]\n",
    "\n",
    "def findMean():\n",
    "    list_sum = sum(list)\n",
    "    global list_num1\n",
    "    list_num1 = len(list)\n",
    "    mean = list_sum/list_num1\n",
    "    mean = round(mean, 2) # round to 2 decimal places\n",
    "    print()\n",
    "    print(\"The arithmetic mean is approximately\", mean)\n",
    "   \n",
    "   \n",
    "def findMedian():\n",
    "    list.sort()\n",
    "    if list_num1 % 2==0:\n",
    "        median = (list[list_num1//2 - 1] + list[list_num1//2]) / 2\n",
    "    else:\n",
    "        median = list[list_num1//2]\n",
    "    print()\n",
    "    print(\"The median is\", median)\n",
    "     \n",
    "print(\"The initial values are\", list)     \n",
    "findMean()\n",
    "findMedian()"
   ]
  },
  {
   "cell_type": "markdown",
   "metadata": {},
   "source": [
    "Alternate hack: Compute the arithmetic mean and median from a user-inputted list"
   ]
  },
  {
   "cell_type": "code",
   "execution_count": 4,
   "metadata": {},
   "outputs": [
    {
     "name": "stdout",
     "output_type": "stream",
     "text": [
      "You have inputted [1, 3, 4, 5, 6, 7]\n",
      "\n",
      "The arithmetic mean is approximately 4.33\n",
      "\n",
      "The median is 4.5\n"
     ]
    }
   ],
   "source": [
    "def getList():\n",
    "    global num_list\n",
    "    num_list = input(\"Please input a list of whole numbers seperated with commas:\")\n",
    "    num_list = num_list.split(',') # splits the input into a list\n",
    "    num_list = [int(num) for num in num_list] # turns string into integers\n",
    "    print(\"You have inputted\", num_list)\n",
    "\n",
    "getList()\n",
    "\n",
    "def findMean():\n",
    "    list_sum = sum(num_list)\n",
    "    global list_num2\n",
    "    list_num2 = len(num_list)\n",
    "    mean = list_sum/list_num2\n",
    "    mean = round(mean, 2) # round to 2 decimal points\n",
    "    print()\n",
    "    print(\"The arithmetic mean is approximately\", mean)\n",
    "    \n",
    "def findMedian():\n",
    "    num_list.sort()\n",
    "    if list_num2 % 2==0:\n",
    "        median = (num_list[list_num2//2 - 1] + num_list[list_num2//2]) / 2\n",
    "    else:\n",
    "        median = num_list[list_num2//2]\n",
    "    print()\n",
    "    print(\"The median is\", median)\n",
    "\n",
    "    \n",
    "findMean()\n",
    "findMedian()"
   ]
  },
  {
   "cell_type": "markdown",
   "metadata": {},
   "source": [
    "#### Hack 2\n",
    "\n",
    "Make a function that lists numbers in the Collatz Problem."
   ]
  },
  {
   "cell_type": "code",
   "execution_count": 5,
   "metadata": {},
   "outputs": [
    {
     "name": "stdout",
     "output_type": "stream",
     "text": [
      "Welcome to the Collatz Problem. Let's begin with an integer to start us off.\n",
      "You have inputted 5\n",
      "16\n",
      "8\n",
      "4\n",
      "2\n",
      "1\n",
      "The Collatz sequence starting from the inputted value 5 is [5, 16, 8, 4, 2, 1]\n"
     ]
    }
   ],
   "source": [
    "print(\"Welcome to the Collatz Problem. Let's begin with an integer to start us off.\")\n",
    "\n",
    "global a\n",
    "a = int(input(\"Please input an integer:\"))\n",
    "print(\"You have inputted\", a)\n",
    "\n",
    "collatz_list = [a]\n",
    "\n",
    "def collatz(a):\n",
    "    if a % 2 == 0:\n",
    "        global b\n",
    "        b = a//2\n",
    "    else:\n",
    "        b = (3*a)+1\n",
    "    print(b)\n",
    "    return(b)\n",
    "    \n",
    "def collatz_sequence(a):\n",
    "    while a!=1:\n",
    "        a=collatz(a)\n",
    "        collatz_list.append(a)\n",
    "    return collatz_list\n",
    "        \n",
    "print(\"The Collatz sequence starting from the inputted value\", a, \"is\", collatz_sequence(a))"
   ]
  },
  {
   "cell_type": "markdown",
   "metadata": {},
   "source": [
    "### [3.3.4 Javascript Mathematical Hacks](https://nighthawkcoders.github.io/portfolio_2025/csp/big-idea/p4/3-3-4)\n",
    "\n",
    "#### Hack 1\n",
    "\n",
    "Compute the GCD and LCM and return both results as an object"
   ]
  },
  {
   "cell_type": "code",
   "execution_count": 6,
   "metadata": {
    "vscode": {
     "languageId": "html"
    }
   },
   "outputs": [
    {
     "data": {
      "text/html": [
       "<script>\n",
       "let a = 6\n",
       "let b = 8\n",
       "\n",
       "function findLCM(a,b){\n",
       "    let large = Math.max(a,b);\n",
       "    let small = Math.min(a,b);\n",
       "    for (i = large; ; i+=large){\n",
       "        if (i % small == 0) \n",
       "            return i; \n",
       "    }\n",
       "}\n",
       "\n",
       "function findGCD(a,b){\n",
       "    if (b === 0) {\n",
       "        return a;\n",
       "    }\n",
       "    return findGCD(b, a % b);\n",
       "}\n",
       "\n",
       "console.log(\"The GCD of \" + a + \" and \" +  b + \" is \" + findGCD(a, b) + \"\\n\");\n",
       "console.log(\"The LCM of \" + a + \" and \" +  b + \" is \" + findLCM(a, b) + \"\\n\");\n",
       "console.log(findGCD(a, b), \",\", findLCM(a, b))\n",
       "</script>\n"
      ],
      "text/plain": [
       "<IPython.core.display.HTML object>"
      ]
     },
     "metadata": {},
     "output_type": "display_data"
    }
   ],
   "source": [
    "%%html\n",
    "<script>\n",
    "let a = 6\n",
    "let b = 8\n",
    "\n",
    "function findLCM(a,b){\n",
    "    let large = Math.max(a,b);\n",
    "    let small = Math.min(a,b);\n",
    "    for (i = large; ; i+=large){\n",
    "        if (i % small == 0) \n",
    "            return i; \n",
    "    }\n",
    "}\n",
    "\n",
    "function findGCD(a,b){\n",
    "    if (b === 0) {\n",
    "        return a;\n",
    "    }\n",
    "    return findGCD(b, a % b);\n",
    "}\n",
    "\n",
    "console.log(\"The GCD of \" + a + \" and \" +  b + \" is \" + findGCD(a, b) + \"\\n\");\n",
    "console.log(\"The LCM of \" + a + \" and \" +  b + \" is \" + findLCM(a, b) + \"\\n\");\n",
    "console.log(findGCD(a, b), \",\", findLCM(a, b))\n",
    "</script>"
   ]
  },
  {
   "cell_type": "markdown",
   "metadata": {},
   "source": [
    "Alternate hack: Compute the GCD and LCM based on user-inputted values and return both results as an object"
   ]
  },
  {
   "cell_type": "code",
   "execution_count": 10,
   "metadata": {
    "vscode": {
     "languageId": "html"
    }
   },
   "outputs": [
    {
     "data": {
      "text/html": [
       "<script>\n",
       "\n",
       "console.log(\"Enter two integers to begin\"+\"\\n\")\n",
       "\n",
       "//get user input\n",
       "function getValues(a,b){\n",
       "    x = prompt(\"Please enter the first number to calculate GCD and LCM\");\n",
       "    y = prompt(\"Please enter the second number\");\n",
       "}\n",
       "\n",
       "getValues()\n",
       "\n",
       "//turn strings to integers\n",
       "a = parseInt(x);\n",
       "b = parseInt(y);\n",
       "\n",
       "function findLCM(a,b){\n",
       "    let large = Math.max(a,b);\n",
       "    let small = Math.min(a,b);\n",
       "    for (i = large; ; i+=large){\n",
       "        if (i % small == 0) \n",
       "            return i; \n",
       "    }\n",
       "}\n",
       "\n",
       "function findGCD(a,b){\n",
       "    if (b === 0) {\n",
       "        return a;\n",
       "    }\n",
       "    return findGCD(b, a % b);\n",
       "}\n",
       "\n",
       "console.log(\"The GCD of \" + a + \" and \" +  b + \" is \" + findGCD(a, b) + \"\\n\");\n",
       "console.log(\"The LCM of \" + a + \" and \" +  b + \" is \" + findLCM(a, b) + \"\\n\");\n",
       "console.log(findGCD(a, b), \",\", findLCM(a, b))\n",
       "</script>\n"
      ],
      "text/plain": [
       "<IPython.core.display.HTML object>"
      ]
     },
     "metadata": {},
     "output_type": "display_data"
    }
   ],
   "source": [
    "%%html\n",
    "<script>\n",
    "\n",
    "console.log(\"Enter two integers to begin\"+\"\\n\")\n",
    "\n",
    "//get user input\n",
    "function getValues(a,b){\n",
    "    x = prompt(\"Please enter the first number to calculate GCD and LCM\");\n",
    "    y = prompt(\"Please enter the second number\");\n",
    "}\n",
    "\n",
    "getValues()\n",
    "\n",
    "//turn strings to integers\n",
    "a = parseInt(x);\n",
    "b = parseInt(y);\n",
    "\n",
    "function findLCM(a,b){\n",
    "    let large = Math.max(a,b);\n",
    "    let small = Math.min(a,b);\n",
    "    for (i = large; ; i+=large){\n",
    "        if (i % small == 0) \n",
    "            return i; \n",
    "    }\n",
    "}\n",
    "\n",
    "function findGCD(a,b){\n",
    "    if (b === 0) {\n",
    "        return a;\n",
    "    }\n",
    "    return findGCD(b, a % b);\n",
    "}\n",
    "\n",
    "console.log(\"The GCD of \" + a + \" and \" +  b + \" is \" + findGCD(a, b) + \"\\n\");\n",
    "console.log(\"The LCM of \" + a + \" and \" +  b + \" is \" + findLCM(a, b) + \"\\n\");\n",
    "console.log(findGCD(a, b), \",\", findLCM(a, b))\n",
    "</script>"
   ]
  },
  {
   "cell_type": "markdown",
   "metadata": {},
   "source": [
    "#### Hack 2\n",
    "\n",
    "Write a function that returns a number's prime factors"
   ]
  },
  {
   "cell_type": "code",
   "execution_count": 11,
   "metadata": {
    "vscode": {
     "languageId": "html"
    }
   },
   "outputs": [
    {
     "data": {
      "text/html": [
       "<script>\n",
       "\n",
       "var n = 24;\n",
       "const primeFactorization = [];\n",
       "\n",
       "function findFactors(n){\n",
       "    while (n>=2){\n",
       "        if (n % 2 == 0){\n",
       "            primeFactorization.push(2);\n",
       "            n = n/2;\n",
       "        }else{\n",
       "            for (let i = 3; i <= Math.sqrt(n); i += 2) {\n",
       "                while (n % i == 0) {\n",
       "                    primeFactorization.push(i);\n",
       "                    n = n / i;\n",
       "                }\n",
       "            }\n",
       "            if (n > 2) {\n",
       "                primeFactorization.push(n);\n",
       "                break;\n",
       "            }\n",
       "        }\n",
       "    }\n",
       "    return primeFactorization\n",
       "}\n",
       "\n",
       "console.log(\"The prime factorization of\", n, \"is\", findFactors(n))\n",
       "</script>\n"
      ],
      "text/plain": [
       "<IPython.core.display.HTML object>"
      ]
     },
     "metadata": {},
     "output_type": "display_data"
    }
   ],
   "source": [
    "%%html\n",
    "<script>\n",
    "\n",
    "var n = 24;\n",
    "const primeFactorization = [];\n",
    "\n",
    "function findFactors(n){\n",
    "    while (n>=2){\n",
    "        if (n % 2 == 0){\n",
    "            primeFactorization.push(2);\n",
    "            n = n/2;\n",
    "        }else{\n",
    "            for (let i = 3; i <= Math.sqrt(n); i += 2) {\n",
    "                while (n % i == 0) {\n",
    "                    primeFactorization.push(i);\n",
    "                    n = n / i;\n",
    "                }\n",
    "            }\n",
    "            if (n > 2) {\n",
    "                primeFactorization.push(n);\n",
    "                break;\n",
    "            }\n",
    "        }\n",
    "    }\n",
    "    return primeFactorization\n",
    "}\n",
    "\n",
    "console.log(\"The prime factorization of\", n, \"is\", findFactors(n))\n",
    "</script>"
   ]
  },
  {
   "cell_type": "markdown",
   "metadata": {},
   "source": [
    "Alternate hack: Write a function that returns a user-inputted number's prime factors"
   ]
  },
  {
   "cell_type": "code",
   "execution_count": 12,
   "metadata": {
    "vscode": {
     "languageId": "html"
    }
   },
   "outputs": [
    {
     "data": {
      "text/html": [
       "<script>\n",
       "\n",
       "var input = prompt(\"Please enter a number to find the prime factorization for\");\n",
       "n = parseInt(input);\n",
       "const primeFactorization2 = [];\n",
       "\n",
       "function findFactors(n){\n",
       "    while (n>=2){\n",
       "        if (n % 2 == 0){\n",
       "            primeFactorization2.push(2);\n",
       "            n = n/2;\n",
       "        }else{\n",
       "            for (let i = 3; i <= Math.sqrt(n); i += 2) {\n",
       "                while (n % i == 0) {\n",
       "                    primeFactorization2.push(i);\n",
       "                    n = n / i;\n",
       "                }\n",
       "            }\n",
       "            if (n > 2) {\n",
       "                primeFactorization2.push(n);\n",
       "                break;\n",
       "            }\n",
       "        }\n",
       "    }\n",
       "    return primeFactorization2\n",
       "}\n",
       "\n",
       "console.log(\"The prime factorization of\", n, \"is\", findFactors(n))\n",
       "</script>\n"
      ],
      "text/plain": [
       "<IPython.core.display.HTML object>"
      ]
     },
     "metadata": {},
     "output_type": "display_data"
    }
   ],
   "source": [
    "%%html\n",
    "<script>\n",
    "\n",
    "var input = prompt(\"Please enter a number to find the prime factorization for\");\n",
    "n = parseInt(input);\n",
    "const primeFactorization2 = [];\n",
    "\n",
    "function findFactors(n){\n",
    "    while (n>=2){\n",
    "        if (n % 2 == 0){\n",
    "            primeFactorization2.push(2);\n",
    "            n = n/2;\n",
    "        }else{\n",
    "            for (let i = 3; i <= Math.sqrt(n); i += 2) {\n",
    "                while (n % i == 0) {\n",
    "                    primeFactorization2.push(i);\n",
    "                    n = n / i;\n",
    "                }\n",
    "            }\n",
    "            if (n > 2) {\n",
    "                primeFactorization2.push(n);\n",
    "                break;\n",
    "            }\n",
    "        }\n",
    "    }\n",
    "    return primeFactorization2\n",
    "}\n",
    "\n",
    "console.log(\"The prime factorization of\", n, \"is\", findFactors(n))\n",
    "</script>"
   ]
  }
 ],
 "metadata": {
  "kernelspec": {
   "display_name": "venv",
   "language": "python",
   "name": "python3"
  },
  "language_info": {
   "codemirror_mode": {
    "name": "ipython",
    "version": 3
   },
   "file_extension": ".py",
   "mimetype": "text/x-python",
   "name": "python",
   "nbconvert_exporter": "python",
   "pygments_lexer": "ipython3",
   "version": "3.12.5"
  }
 },
 "nbformat": 4,
 "nbformat_minor": 2
}
