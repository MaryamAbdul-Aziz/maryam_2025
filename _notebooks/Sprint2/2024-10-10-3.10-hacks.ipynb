{
 "cells": [
  {
   "cell_type": "markdown",
   "metadata": {},
   "source": [
    "---\n",
    "toc: true\n",
    "layout: post\n",
    "title: Lessons 3.10 Hacks\n",
    "type: hacks\n",
    "courses: { compsci: {week: 7} }\n",
    "---"
   ]
  },
  {
   "cell_type": "markdown",
   "metadata": {},
   "source": [
    "# 3.10\n",
    "\n",
    "## Popcorn Hacks\n",
    "\n",
    "### 3.10.1 List Operations and Append\n",
    "\n",
    "#### Hack 1\n",
    "\n",
    "\n",
    "Use a_list.append(user_input) to append each item. Use a for loop to print out each item in the list at the end.\t\n",
    "\n",
    "Build a Shopping List with JavaScript.\n",
    "In this exercise, you will create a simple shopping list application that allows users to add items to a list and display them at the end."
   ]
  },
  {
   "cell_type": "code",
   "execution_count": null,
   "metadata": {
    "vscode": {
     "languageId": "html"
    }
   },
   "outputs": [],
   "source": [
    "%%html\n",
    "<script>\n",
    "let shopping_list = [\"eggs\", \"flour\", \"milk\"]\n",
    "\n",
    "shopping_list.append(user_input)\n",
    "\n",
    "</script>"
   ]
  },
  {
   "cell_type": "markdown",
   "metadata": {},
   "source": [
    "### 3.10.2 Accessing and Deleting Elements\n",
    "\n",
    "#### Hack 1\n",
    "\n",
    "- Create a list/array named aList.\n",
    "- Input items into the list/array. After the user is done adding items, display the second element (if it exists) in the list/array.\n",
    "- After adding items to the list/array, delete the second element (if it exists) and display the updated list/array."
   ]
  },
  {
   "cell_type": "code",
   "execution_count": 1,
   "metadata": {
    "vscode": {
     "languageId": "html"
    }
   },
   "outputs": [
    {
     "data": {
      "text/html": [
       "<script>\n",
       "let aList = [];\n",
       "\n",
       "while (true) {\n",
       "    input = prompt(\"Enter an item (quit to finish):\");\n",
       "    if (input.toLowerCase() === 'quit') break;\n",
       "    aList.push(input);\n",
       "}\n",
       "\n",
       "if (aList.length >= 2) {\n",
       "    console.log(\"Element 2:\", aList[1]);\n",
       "    console.log(\"Removing\", aList[1]);\n",
       "    aList.splice(1, 1);\n",
       "}\n",
       "\n",
       "console.log(\"Updated list:\", aList);\n",
       "\n",
       "\n",
       "</script>\n"
      ],
      "text/plain": [
       "<IPython.core.display.HTML object>"
      ]
     },
     "metadata": {},
     "output_type": "display_data"
    }
   ],
   "source": [
    "%%html\n",
    "<script>\n",
    "let aList = [];\n",
    "\n",
    "while (true) {\n",
    "    input = prompt(\"Enter an item (quit to finish):\");\n",
    "    if (input.toLowerCase() === 'quit') break;\n",
    "    aList.push(input);\n",
    "}\n",
    "\n",
    "if (aList.length >= 2) {\n",
    "    console.log(\"Element 2:\", aList[1]);\n",
    "    console.log(\"Removing\", aList[1]);\n",
    "    aList.splice(1, 1);\n",
    "}\n",
    "\n",
    "console.log(\"Updated list:\", aList);\n",
    "\n",
    "\n",
    "</script>"
   ]
  },
  {
   "cell_type": "markdown",
   "metadata": {},
   "source": [
    "### 3.10.3 Assigning a Value & Length of A List\n",
    "\n",
    "#### Hack 1\n",
    "\n",
    "- Create a list of your five favorite foods.\n",
    "- Add two more items to your list using the .push() method.\n",
    "- Find and print the total number of items in the list using .length"
   ]
  },
  {
   "cell_type": "code",
   "execution_count": 4,
   "metadata": {},
   "outputs": [
    {
     "name": "stdout",
     "output_type": "stream",
     "text": [
      "['pasta', 'nihari', 'scrambled eggs', 'ice cream', 'pasanday']\n",
      "Length:  7 ['pasta', 'nihari', 'scrambled eggs', 'ice cream', 'pasanday', 'arsenic', 'lava']\n"
     ]
    }
   ],
   "source": [
    "favorite_foods = [\"pasta\", \"nihari\", \"scrambled eggs\", \"ice cream\", \"pasanday\"]\n",
    "print(favorite_foods)\n",
    "\n",
    "favorite_foods.append(\"arsenic\")\n",
    "favorite_foods.append(\"lava\")\n",
    "\n",
    "\n",
    "print(\"Length: \", len(favorite_foods), favorite_foods)\n"
   ]
  },
  {
   "cell_type": "markdown",
   "metadata": {},
   "source": [
    "### 3.10.4 Minimum Value and Finding an Element\n",
    "\n",
    "#### Hack 1\n",
    "\n",
    "Find the sum of all the even numbers of a list called nums with integers using the previous list opperations. Define your list and define a variable to represent a potential value.\n"
   ]
  },
  {
   "cell_type": "code",
   "execution_count": 7,
   "metadata": {},
   "outputs": [
    {
     "name": "stdout",
     "output_type": "stream",
     "text": [
      "2\n",
      "4\n",
      "10\n",
      "14\n",
      "94\n",
      "Sum:  124\n"
     ]
    }
   ],
   "source": [
    "nums = [2, 3, 4, 10, 14, 23, 67, 94]\n",
    "\n",
    "even_sum = 0\n",
    "\n",
    "for number in nums:\n",
    "    if number % 2 == 0:\n",
    "        print(number)\n",
    "        even_sum += number\n",
    "\n",
    "print(\"Sum: \", even_sum)\n"
   ]
  },
  {
   "cell_type": "markdown",
   "metadata": {},
   "source": [
    "#### Hack 2\n",
    "\n",
    "Look for the element “banana” in the list “fruits” using If Else Statements"
   ]
  },
  {
   "cell_type": "code",
   "execution_count": 9,
   "metadata": {},
   "outputs": [
    {
     "name": "stdout",
     "output_type": "stream",
     "text": [
      "Banana is in the list.\n"
     ]
    }
   ],
   "source": [
    "fruits = [\"apple\", \"banana\", \"orange\"]\n",
    "\n",
    "if \"banana\" in fruits:\n",
    "    print(\"Banana is in the list.\")\n",
    "else:\n",
    "    print(\"Banana is not in the list.\")"
   ]
  },
  {
   "cell_type": "markdown",
   "metadata": {},
   "source": [
    "## [Hacks](https://nighthawkcoders.github.io/portfolio_2025/csp/big-idea/p4/3-10A-4)\n",
    "\n",
    "#### Hack 1\n",
    "\n",
    "Write a Python program that creates a list of the following numbers: 10, 20, 30, 40, 50. Then, print the second element in the list."
   ]
  },
  {
   "cell_type": "code",
   "execution_count": 10,
   "metadata": {},
   "outputs": [
    {
     "name": "stdout",
     "output_type": "stream",
     "text": [
      "20\n"
     ]
    }
   ],
   "source": [
    "list1 = [10, 20, 30, 40, 50]\n",
    "\n",
    "print(list1[1])"
   ]
  },
  {
   "cell_type": "markdown",
   "metadata": {},
   "source": [
    "#### Hack 2\n",
    "\n",
    "Write a JavaScript program that creates an array of the following numbers: 10, 20, 30, 40, 50. Then, log the second element in the array to the console."
   ]
  },
  {
   "cell_type": "code",
   "execution_count": 5,
   "metadata": {
    "vscode": {
     "languageId": "html"
    }
   },
   "outputs": [
    {
     "data": {
      "text/html": [
       "<script>\n",
       "array = [10, 20, 30, 40, 50]\n",
       "\n",
       "console.log(array[1])\n",
       "</script>\n"
      ],
      "text/plain": [
       "<IPython.core.display.HTML object>"
      ]
     },
     "metadata": {},
     "output_type": "display_data"
    }
   ],
   "source": [
    "%%html\n",
    "<script>\n",
    "array = [10, 20, 30, 40, 50]\n",
    "\n",
    "console.log(array[1])\n",
    "</script>"
   ]
  },
  {
   "cell_type": "markdown",
   "metadata": {},
   "source": [
    "#### Hack 3\n",
    "\n",
    "Python: Create a to-do list in whcih users can add, remove, and view items in their list."
   ]
  },
  {
   "cell_type": "code",
   "execution_count": 4,
   "metadata": {},
   "outputs": [
    {
     "name": "stdout",
     "output_type": "stream",
     "text": [
      "\"buy groceries\" has been added to your to-do list.\n",
      "['laundry', 'cook', 'buy groceries']\n",
      "\"stop\" has been added to your to-do list.\n",
      "['laundry', 'cook', 'buy groceries', 'stop']\n",
      "Exiting the to-do list.\n"
     ]
    }
   ],
   "source": [
    "to_do = [\"laundry\", \"cook\"]\n",
    "\n",
    "def add_item():\n",
    "    item = input(\"\\nAdd a task: \")\n",
    "    to_do.append(item)\n",
    "    print(f'\"{item}\" has been added to your to-do list.')\n",
    "    print(to_do)\n",
    "    \n",
    "while True:\n",
    "    add_item()\n",
    "    choice = input(\"\\nDo you want to add another task? (yes/no): \").lower()\n",
    "    if choice == \"no\":\n",
    "        print(\"Exiting the to-do list.\")\n",
    "        break"
   ]
  },
  {
   "cell_type": "markdown",
   "metadata": {},
   "source": [
    "#### Hack 4\n",
    "\n",
    "JavaScript: Create a workout tracker where users can log their workouts, including type, duration, and calories burned."
   ]
  },
  {
   "cell_type": "code",
   "execution_count": null,
   "metadata": {
    "vscode": {
     "languageId": "html"
    }
   },
   "outputs": [],
   "source": [
    "%%html\n",
    "<script>\n",
    "    let workoutLog = [];\n",
    "\n",
    "    function logWorkout() {\n",
    "        let type = prompt(\"Enter the workout type (e.g., running, swimming, cycling):\");\n",
    "        let duration = prompt(\"Enter the duration (in minutes):\");\n",
    "        let calories = prompt(\"Enter the calories burned:\");\n",
    "    \n",
    "        workoutLog.push({ type, duration, calories });\n",
    "        console.log(`Workout logged: ${type}, ${duration} mins, ${calories} calories`);\n",
    "    }\n",
    "    \n",
    "    logWorkout();\n",
    "</script>    "
   ]
  }
 ],
 "metadata": {
  "kernelspec": {
   "display_name": "venv",
   "language": "python",
   "name": "python3"
  },
  "language_info": {
   "codemirror_mode": {
    "name": "ipython",
    "version": 3
   },
   "file_extension": ".py",
   "mimetype": "text/x-python",
   "name": "python",
   "nbconvert_exporter": "python",
   "pygments_lexer": "ipython3",
   "version": "3.12.5"
  }
 },
 "nbformat": 4,
 "nbformat_minor": 2
}
