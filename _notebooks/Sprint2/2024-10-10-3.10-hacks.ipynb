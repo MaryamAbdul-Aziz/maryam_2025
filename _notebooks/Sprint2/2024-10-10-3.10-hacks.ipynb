{
 "cells": [
  {
   "cell_type": "markdown",
   "metadata": {},
   "source": [
    "---\n",
    "toc: true\n",
    "layout: post\n",
    "title: Lessons 3.10 Hacks\n",
    "type: hacks\n",
    "courses: { compsci: {week: 7} }\n",
    "---"
   ]
  },
  {
   "cell_type": "markdown",
   "metadata": {},
   "source": [
    "# 3.10\n",
    "\n",
    "## Popcorn Hacks\n",
    "\n",
    "### 3.10.1 List Operations and Append\n",
    "\n",
    "#### Hack 1\n",
    "\n",
    "Build a Shopping List with JavaScript.\n",
    "In this exercise, you will create a simple shopping list application that allows users to add items to a list and display them at the end."
   ]
  },
  {
   "cell_type": "code",
   "execution_count": null,
   "metadata": {
    "vscode": {
     "languageId": "html"
    }
   },
   "outputs": [],
   "source": [
    "%%html\n",
    "<script>\n",
    "let shopping_list = [\"eggs\", \"flour\", \"milk\"]\n",
    "\n",
    "shopping_list.append(user_input)\n",
    "\n",
    "</script>"
   ]
  },
  {
   "cell_type": "markdown",
   "metadata": {},
   "source": [
    "### 3.10.2 Accessing and Deleting Elements\n",
    "\n",
    "#### Hack 1\n",
    "\n",
    "- Create a list/array named aList.\n",
    "- Input items into the list/array. After the user is done adding items, display the second element (if it exists) in the list/array.\n",
    "- After adding items to the list/array, delete the second element (if it exists) and display the updated list/array."
   ]
  },
  {
   "cell_type": "markdown",
   "metadata": {},
   "source": [
    "### 3.10.3 Assigning a Value & Length of A List\n",
    "\n",
    "#### Hack 1\n",
    "\n",
    "- Create a list of your five favorite foods.\n",
    "- Add two more items to your list using the .push() method.\n",
    "- Find and print the total number of items in the list using .length"
   ]
  },
  {
   "cell_type": "markdown",
   "metadata": {},
   "source": [
    "### 3.10.4 Minimum Value and Finding an Element\n",
    "\n",
    "#### Hack 1\n",
    "\n",
    "Find the sum of all the even numbers of a list called nums with integers using the previous list opperations. Define your list and define a variable to represent a potential value.\n"
   ]
  }
 ],
 "metadata": {
  "language_info": {
   "name": "python"
  }
 },
 "nbformat": 4,
 "nbformat_minor": 2
}
