{
 "cells": [
  {
   "cell_type": "markdown",
   "metadata": {},
   "source": [
    "---\n",
    "toc: true\n",
    "layout: post\n",
    "title: Lessons 3.2 Hacks\n",
    "type: hacks\n",
    "courses: { compsci: {week: 7} }\n",
    "---"
   ]
  },
  {
   "cell_type": "markdown",
   "metadata": {},
   "source": [
    "# 3.2\n",
    "\n",
    "## Popcorn Hacks (Python)\n",
    "\n",
    "### 3.2.7 Sets\n",
    "\n",
    "#### Hack 1"
   ]
  },
  {
   "cell_type": "code",
   "execution_count": 4,
   "metadata": {},
   "outputs": [
    {
     "name": "stdout",
     "output_type": "stream",
     "text": [
      "{1, 2, 3, 4, 5}\n",
      "{1, 2, 3, 4, 5, 6}\n",
      "{1, 3, 4, 5, 6}\n",
      "{1, 3, 4, 5, 6, 7, 8, 9}\n",
      "set()\n",
      "{1, 2, 3, 4}\n",
      "Length 4\n"
     ]
    }
   ],
   "source": [
    "set = {1, 2, 3, 4, 5}\n",
    "print(set)\n",
    "\n",
    "set.add(6)\n",
    "print(set)\n",
    "\n",
    "set.remove(2)\n",
    "print(set)\n",
    "\n",
    "new_set = set.union({7, 8, 9})\n",
    "print(new_set)\n",
    "\n",
    "set.clear()\n",
    "print(set)\n",
    "\n",
    "# bonus\n",
    "\n",
    "other_set = {1, 2, 2, 3, 3, 4}\n",
    "print(other_set)\n",
    "print(\"Length\", len(other_set))"
   ]
  },
  {
   "cell_type": "markdown",
   "metadata": {},
   "source": [
    "### 3.2.3 Strings\n",
    "\n",
    "#### Hack 2"
   ]
  },
  {
   "cell_type": "code",
   "execution_count": 5,
   "metadata": {},
   "outputs": [
    {
     "name": "stdout",
     "output_type": "stream",
     "text": [
      "Learning Python is not fun\n",
      "Length 26\n",
      "Python\n",
      "LEARNING PYTHON IS NOT FUN\n",
      "Learning Python is not good\n",
      "nuf ton si nohtyP gninraeL\n"
     ]
    }
   ],
   "source": [
    "string = \"Learning Python is not fun\"\n",
    "print(string)\n",
    "\n",
    "print(\"Length\", len(string))\n",
    "\n",
    "python_word = string[9:15]\n",
    "print(python_word)\n",
    "\n",
    "upper_string = string.upper()\n",
    "print(upper_string)\n",
    "\n",
    "replaced_string = string.replace(\"fun\", \"good\")\n",
    "print(replaced_string)\n",
    "\n",
    "# bonus\n",
    "\n",
    "reversed_string = string[::-1]\n",
    "print(reversed_string)"
   ]
  },
  {
   "cell_type": "markdown",
   "metadata": {},
   "source": [
    "### 3.2.4 Lists\n",
    "\n",
    "#### Hack 3"
   ]
  },
  {
   "cell_type": "code",
   "execution_count": 7,
   "metadata": {},
   "outputs": [
    {
     "name": "stdout",
     "output_type": "stream",
     "text": [
      "[3, 5, 7, 9, 11]\n",
      "7\n",
      "[3, 6, 7, 9, 11]\n",
      "[3, 6, 7, 9, 11, 13]\n",
      "[3, 6, 7, 11, 13]\n",
      "[13, 11, 7, 6, 3]\n"
     ]
    }
   ],
   "source": [
    "list = [3, 5, 7, 9, 11]\n",
    "print(list)\n",
    "\n",
    "third_element = list[2]\n",
    "print(third_element)\n",
    "\n",
    "list[1] = 6\n",
    "print(list)\n",
    "\n",
    "list.append(13)\n",
    "print(list)\n",
    "\n",
    "list.remove(9)\n",
    "print(list)\n",
    "\n",
    "# bonus \n",
    "\n",
    "list.sort(reverse=True)\n",
    "print(list)"
   ]
  },
  {
   "cell_type": "markdown",
   "metadata": {},
   "source": [
    "### 3.2.6 Dictionaries\n",
    "\n",
    "#### Hack 4"
   ]
  },
  {
   "cell_type": "code",
   "execution_count": 9,
   "metadata": {},
   "outputs": [
    {
     "name": "stdout",
     "output_type": "stream",
     "text": [
      "{'name': 'Maryam', 'email': 'coolkid@gmail.com', 'phone_number': 858555555}\n",
      "My name is Maryam\n",
      "Length 3\n",
      "Type <class 'dict'>\n",
      "Barak Obama\n",
      "46@gmail.com\n",
      "2024561111\n"
     ]
    }
   ],
   "source": [
    "personal_info = {\n",
    "    \"name\": \"Maryam\",\n",
    "    \"email\": \"coolkid@gmail.com\",\n",
    "    \"phone_number\": 858555555\n",
    "}\n",
    "\n",
    "print(personal_info)\n",
    "\n",
    "print(\"My name is\", personal_info[\"name\"])\n",
    "\n",
    "print(\"Length\", len(personal_info))\n",
    "\n",
    "print(\"Type\", type(personal_info))\n",
    "\n",
    "# bonus\n",
    "\n",
    "new_info = {\n",
    "    \"name\": \"Barak Obama\",\n",
    "    \"email\": \"46@gmail.com\",\n",
    "    \"phone_number\": 2024561111\n",
    "}\n",
    "\n",
    "print(new_info[\"name\"])\n",
    "print(new_info[\"email\"])\n",
    "print(new_info[\"phone_number\"])"
   ]
  },
  {
   "cell_type": "markdown",
   "metadata": {},
   "source": [
    "## Hacks [(Python)](https://nighthawkcoders.github.io/portfolio_2025/csp/big-idea/p4/3-2/)\n",
    "\n",
    "### Hack 1: Create Personal Info (dict)\n",
    "\n",
    "Create a dictionary called personal_info that includes the following keys. Assign values to the keys: full_name, years, location, and favorite_food. The full_name should be a string, years an integer, location a string, and favorite_food a string"
   ]
  },
  {
   "cell_type": "code",
   "execution_count": 10,
   "metadata": {},
   "outputs": [
    {
     "name": "stdout",
     "output_type": "stream",
     "text": [
      "{'full_name': 'Maryam Abdul-Aziz', 'years': 7, 'location': 'San Diego', 'favorite_food': 'pasta'}\n"
     ]
    }
   ],
   "source": [
    "personal_info2 = {\n",
    "    \"full_name\": \"Maryam Abdul-Aziz\",\n",
    "    \"years\": 7,\n",
    "    \"location\": \"San Diego\",\n",
    "    \"favorite_food\": \"pasta\",\n",
    "}\n",
    "\n",
    "print(personal_info2)"
   ]
  },
  {
   "cell_type": "markdown",
   "metadata": {},
   "source": [
    "### Hack 2: Create a List of Activities (list)\n",
    "\n",
    "Create a list called activities that includes three of your favorite activities as strings. Print the activities list."
   ]
  },
  {
   "cell_type": "code",
   "execution_count": 11,
   "metadata": {},
   "outputs": [
    {
     "name": "stdout",
     "output_type": "stream",
     "text": [
      "['reading', 'writing', 'listening to music']\n"
     ]
    }
   ],
   "source": [
    "favorite_actitivies = [\"reading\", \"writing\", \"listening to music\"]\n",
    "\n",
    "print(favorite_actitivies)"
   ]
  },
  {
   "cell_type": "markdown",
   "metadata": {},
   "source": [
    "### Hack 3: Add Activities to Personal Info (dict and list)\n",
    "\n",
    "Add the activities list to the personal_info dictionary under the key activities. Print the updated personal_info dictionary.\n"
   ]
  },
  {
   "cell_type": "code",
   "execution_count": 12,
   "metadata": {},
   "outputs": [
    {
     "name": "stdout",
     "output_type": "stream",
     "text": [
      "{'full_name': 'Maryam Abdul-Aziz', 'years': 7, 'location': 'San Diego', 'favorite_food': 'pasta', 'activities': ['reading', 'writing', 'listening to music']}\n"
     ]
    }
   ],
   "source": [
    "personal_info2[\"activities\"] = favorite_actitivies\n",
    "\n",
    "print(personal_info2)\n"
   ]
  },
  {
   "cell_type": "markdown",
   "metadata": {},
   "source": [
    "### Hack 4: Check Availability of an Activity (bool)\n",
    "\n",
    "Choose one of your activities and create a boolean variable called activity_available. Set activity_available to True if your activity is available today, otherwise set it to False. Print a message using activity_available like: “Is «your activity» available today? «True/False»”"
   ]
  },
  {
   "cell_type": "code",
   "execution_count": 13,
   "metadata": {},
   "outputs": [
    {
     "name": "stdout",
     "output_type": "stream",
     "text": [
      "Is reading available today? True\n"
     ]
    }
   ],
   "source": [
    "activity_available = True # i picked reading\n",
    "\n",
    "print(\"Is reading available today?\", activity_available)"
   ]
  },
  {
   "cell_type": "markdown",
   "metadata": {},
   "source": [
    "### Hack 5: Total Number of Activities (int)\n",
    "\n",
    "Create a variable called total_activities and set it to the number of activities in your activities list. Print a message like: “I have «total_activities» activities.”"
   ]
  },
  {
   "cell_type": "code",
   "execution_count": 14,
   "metadata": {},
   "outputs": [
    {
     "name": "stdout",
     "output_type": "stream",
     "text": [
      "I have 3 activities.\n"
     ]
    }
   ],
   "source": [
    "total_activities = len(favorite_actitivies)\n",
    "\n",
    "print(f\"I have {total_activities} activities.\")"
   ]
  },
  {
   "cell_type": "markdown",
   "metadata": {},
   "source": [
    "### Hack 6: Favorite Activities (tuple)\n",
    "\n",
    "Create a tuple called favorite_activities that contains your two most favorite activities. Print the favorite_activities tuple."
   ]
  },
  {
   "cell_type": "code",
   "execution_count": 16,
   "metadata": {},
   "outputs": [
    {
     "name": "stdout",
     "output_type": "stream",
     "text": [
      "('reading', 'writing')\n"
     ]
    }
   ],
   "source": [
    "favorite_activities2 = (\"reading\", \"writing\")\n",
    "print(favorite_activities2)"
   ]
  },
  {
   "cell_type": "markdown",
   "metadata": {},
   "source": [
    "### Hack 7: Add a New Set of Skills (set)\n",
    "\n",
    "Create a set called skills and add three unique skills you have. Print the set of skills."
   ]
  },
  {
   "cell_type": "code",
   "execution_count": 17,
   "metadata": {},
   "outputs": [
    {
     "name": "stdout",
     "output_type": "stream",
     "text": [
      "{'coding', 'baking', 'writing'}\n"
     ]
    }
   ],
   "source": [
    "skills = {\"coding\", \"baking\", \"writing\"}\n",
    "print(skills)"
   ]
  },
  {
   "cell_type": "markdown",
   "metadata": {},
   "source": [
    "### Hack 8: Consider a New Skill (NoneType)\n",
    "\n",
    "You are thinking about learning a new skill. Create a variable called new_skill and set it to None (you haven’t decided yet). Print the value of new_skill."
   ]
  },
  {
   "cell_type": "code",
   "execution_count": 18,
   "metadata": {},
   "outputs": [
    {
     "name": "stdout",
     "output_type": "stream",
     "text": [
      "None\n"
     ]
    }
   ],
   "source": [
    "new_skill = None\n",
    "\n",
    "print(new_skill)"
   ]
  },
  {
   "cell_type": "markdown",
   "metadata": {},
   "source": [
    "### Hack 9: Calculate Total Hobby and Skill Cost (float)\n",
    "\n",
    "Assume each activity costs $5 to pursue and each skill costs $10 to develop. Create a variable called total_cost as a float, and calculate how much it would cost to develop all your activities and skills. Print the total cost."
   ]
  },
  {
   "cell_type": "code",
   "execution_count": 20,
   "metadata": {},
   "outputs": [
    {
     "name": "stdout",
     "output_type": "stream",
     "text": [
      "The total cost is $45\n"
     ]
    }
   ],
   "source": [
    "total_cost = (len(favorite_actitivies) * 5) + (len(skills) * 10) \n",
    "print(f\"The total cost is ${total_cost}\")"
   ]
  },
  {
   "cell_type": "markdown",
   "metadata": {},
   "source": [
    "## Popcorn Hacks [(JavaScript)](https://nighthawkcoders.github.io/portfolio_2025/csp/big-idea/p4/3-2/)\n",
    "\n",
    "### Hack 1 (SETS)\n",
    "\n",
    "- Create a set called [Set1] of 3 numbers (can be any number)\n",
    "\n",
    "- Create a set called [Set2] of different 3 numbers (can be any number) \n",
    "\n",
    "- log both sets separately\n",
    "\n",
    "- Add a number and Remove the 1st number from set1\n",
    "\n",
    "- log the union of both Set1 and Set2."
   ]
  },
  {
   "cell_type": "code",
   "execution_count": 21,
   "metadata": {
    "vscode": {
     "languageId": "html"
    }
   },
   "outputs": [
    {
     "data": {
      "text/html": [
       "<script>\n",
       "let Set1 = new Set([1, 2, 3]);\n",
       "let Set2 = new Set([20, 45, 7]);\n",
       "\n",
       "console.log(\"Set1:\", Set1);\n",
       "console.log(\"Set2:\", Set2);\n",
       "\n",
       "Set1.add(4);\n",
       "Set1.delete(1);\n",
       "\n",
       "let unionSet = new Set([...Set1, ...Set2]);\n",
       "console.log(\"Union of Set1 and Set2:\", unionSet);\n",
       "\n",
       "</script>\n"
      ],
      "text/plain": [
       "<IPython.core.display.HTML object>"
      ]
     },
     "metadata": {},
     "output_type": "display_data"
    }
   ],
   "source": [
    "%%html\n",
    "<script>\n",
    "let Set1 = new Set([1, 2, 3]);\n",
    "let Set2 = new Set([20, 45, 7]);\n",
    "\n",
    "console.log(\"Set1:\", Set1);\n",
    "console.log(\"Set2:\", Set2);\n",
    "\n",
    "Set1.add(4);\n",
    "Set1.delete(1);\n",
    "\n",
    "let unionSet = new Set([...Set1, ...Set2]);\n",
    "console.log(\"Union of Set1 and Set2:\", unionSet);\n",
    "\n",
    "</script>"
   ]
  },
  {
   "cell_type": "markdown",
   "metadata": {},
   "source": [
    "### Hack 2 (Dictionaries):\n",
    "\n",
    "- Create a Dictionary called “application” that has someones “name”, “age”, “experiences”, and “money”.\n",
    "\n",
    "- log the dictionary to make sure it works\n",
    "\n",
    "- log only the dictionarie’s money\n",
    "\n"
   ]
  },
  {
   "cell_type": "code",
   "execution_count": 23,
   "metadata": {
    "vscode": {
     "languageId": "html"
    }
   },
   "outputs": [
    {
     "data": {
      "text/html": [
       "<script>\n",
       "let application = {\n",
       "    name: \"Kushi Gade\",\n",
       "    age: 47,\n",
       "    experiences: [\"coder\", \"history lover\", \"follower\"],\n",
       "    money: 5000\n",
       "};\n",
       "\n",
       "console.log(application);\n",
       "console.log(\"Money:\", application.money);\n",
       "</script>\n"
      ],
      "text/plain": [
       "<IPython.core.display.HTML object>"
      ]
     },
     "metadata": {},
     "output_type": "display_data"
    }
   ],
   "source": [
    "%%html\n",
    "<script>\n",
    "let application = {\n",
    "    name: \"Kushi Gade\",\n",
    "    age: 47,\n",
    "    experiences: [\"coder\", \"history lover\", \"follower\"],\n",
    "    money: 5000\n",
    "};\n",
    "\n",
    "console.log(application);\n",
    "console.log(\"Money:\", application.money);\n",
    "</script>\n"
   ]
  },
  {
   "cell_type": "markdown",
   "metadata": {},
   "source": [
    "## Hack (JavaScript)\n",
    "\n",
    "- Make an application for an applicant, ask them questions about their name, age, and experiences.\n",
    "\n",
    "- Store these inputs into a Dictionary, sorting each of their responses into “name”, “age”, and “experiences”\n",
    "\n",
    "- Log the users input"
   ]
  },
  {
   "cell_type": "code",
   "execution_count": 25,
   "metadata": {
    "vscode": {
     "languageId": "html"
    }
   },
   "outputs": [
    {
     "data": {
      "text/html": [
       "<script>\n",
       "let application = {};\n",
       "\n",
       "application.name = prompt(\"What is your name?\");\n",
       "application.age = prompt(\"How old are you?\");\n",
       "application.experience = prompt(\"Please list your experiences (separated by commas)\").split(\",\");\n",
       "\n",
       "console.log(\"Application summary:\", application);\n",
       "\n",
       "</script>\n"
      ],
      "text/plain": [
       "<IPython.core.display.HTML object>"
      ]
     },
     "metadata": {},
     "output_type": "display_data"
    }
   ],
   "source": [
    "%%html\n",
    "<script>\n",
    "let application = {};\n",
    "\n",
    "application.name = prompt(\"What is your name?\");\n",
    "application.age = prompt(\"How old are you?\");\n",
    "application.experience = prompt(\"Please list your experiences (separated by commas)\").split(\",\");\n",
    "\n",
    "console.log(\"Application summary:\", application);\n",
    "\n",
    "</script>"
   ]
  }
 ],
 "metadata": {
  "kernelspec": {
   "display_name": "venv",
   "language": "python",
   "name": "python3"
  },
  "language_info": {
   "codemirror_mode": {
    "name": "ipython",
    "version": 3
   },
   "file_extension": ".py",
   "mimetype": "text/x-python",
   "name": "python",
   "nbconvert_exporter": "python",
   "pygments_lexer": "ipython3",
   "version": "3.12.5"
  }
 },
 "nbformat": 4,
 "nbformat_minor": 2
}
