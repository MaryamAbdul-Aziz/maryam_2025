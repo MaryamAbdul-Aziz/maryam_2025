{
 "cells": [
  {
   "cell_type": "markdown",
   "metadata": {},
   "source": [
    "---\n",
    "toc: true\n",
    "layout: post\n",
    "title: Big Idea 3 Learning Summary\n",
    "type: tangibles\n",
    "courses: { compsci: {week: 8} }\n",
    "---"
   ]
  },
  {
   "cell_type": "markdown",
   "metadata": {},
   "source": [
    "## Evidence of learning (our lesson):\n",
    "\n",
    "- [Frequent contributions to our lesson](https://github.com/MaryamAbdul-Aziz/lesson/commits/main/?author=MaryamAbdul-Aziz)\n",
    "- [Made several pull requests for my group to implement changes](https://github.com/nighthawkcoders/portfolio_2025/pulls?q=is%3Apr+is%3Aclosed+author%3AMaryamAbdul-Aziz)\n",
    "- Created numerous hacks and popcorn hacks as well as detailed lessons [x](https://nighthawkcoders.github.io/portfolio_2025/csp/big-idea/p4/3-1-1) [x](https://nighthawkcoders.github.io/portfolio_2025/csp/big-idea/p4/3-1-3)"
   ]
  },
  {
   "cell_type": "markdown",
   "metadata": {},
   "source": [
    "## Evidence of learning (other lessons):"
   ]
  },
  {
   "cell_type": "markdown",
   "metadata": {},
   "source": [
    "- Completed all homework hacks to the best of my ability\n",
    "- Kept work organized and detailed to ensure all hacks are present\n",
    "- Completed some hacks twice, including user input as a feature to provide variables or numbers for some functions\n",
    "\n",
    "[Link to notebook containing all work](https://maryamabdul-aziz.github.io/maryam_2025/navigation/compsci.html) (scroll to week 5 and 6 hacks)"
   ]
  }
 ],
 "metadata": {
  "language_info": {
   "name": "python"
  }
 },
 "nbformat": 4,
 "nbformat_minor": 2
}
