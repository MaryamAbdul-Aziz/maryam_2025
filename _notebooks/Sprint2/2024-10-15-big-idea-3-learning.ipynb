{
 "cells": [
  {
   "cell_type": "markdown",
   "metadata": {},
   "source": [
    "---\n",
    "toc: false\n",
    "layout: post\n",
    "title: Big Idea 3 Learning Summary\n",
    "type: tangibles\n",
    "courses: { compsci: {week: 8} }\n",
    "---"
   ]
  },
  {
   "cell_type": "markdown",
   "metadata": {},
   "source": [
    "## Evidence of learning (our lesson):\n",
    "\n",
    "- [Frequent contributions to our lesson](https://github.com/MaryamAbdul-Aziz/lesson/commits/main/?author=MaryamAbdul-Aziz)\n",
    "- [Made several pull requests for my group to implement changes](https://github.com/nighthawkcoders/portfolio_2025/pulls?q=is%3Apr+is%3Aclosed+author%3AMaryamAbdul-Aziz)\n",
    "- Created numerous hacks and popcorn hacks as well as detailed lessons [x](https://nighthawkcoders.github.io/portfolio_2025/csp/big-idea/p4/3-1-1) [x](https://nighthawkcoders.github.io/portfolio_2025/csp/big-idea/p4/3-1-3)"
   ]
  },
  {
   "cell_type": "markdown",
   "metadata": {},
   "source": [
    "## Evidence of learning (other lessons):"
   ]
  },
  {
   "cell_type": "markdown",
   "metadata": {},
   "source": [
    "- Completed all homework hacks to the best of my ability\n",
    "- Kept work organized and detailed to ensure all hacks are present\n",
    "- Completed some hacks twice, including user input as a feature to provide variables or numbers for some functions\n",
    "\n",
    "[Link to notebook containing all work](https://maryamabdul-aziz.github.io/maryam_2025/navigation/compsci.html) (scroll to week 5 and 6 hacks)"
   ]
  },
  {
   "cell_type": "markdown",
   "metadata": {},
   "source": [
    "### Blog - in association with Big Ideas and Teaching, something that shows how you will be prepared for CB and PBL (ie organized accomplishments)\n",
    "\n",
    "Completed all of the hacks proficiently, kept it organized, included instructions for each hack to ensure that I knew all requirements, and learned how to code a lot of different things, which will prepare me for the exam.\n",
    "\n",
    "### Memory - something that will helps Teacher or others recall your individual presentation and contribution (ie a highlight)\n",
    "\n",
    "We went over the console and how to open and use it, which is vital when working with JS and trying to debug and running functions that use the console.\n",
    "\n",
    "### Relevancy - something impactful you learned from another lesson, note source, and try to use relevancy checklist in language (ie a learning)\n",
    "\n",
    "From 3.6 I learned about if, else, and elseif statements, which come up a lot when coding and will help me with my final project and prepare for the exam in general. The Kahoot was also memorable and helped me learn to read code quicker, which is important for the MC portion of the AP exam.\n",
    "\n",
    "### Beyond Perfunctory - something that shows me that this Sprint on Big Ideas is distinctly yours (ie personal growth or accomplishment)\n",
    "\n",
    "I completed many of the popcorn hacks twice, once with pre-determined variables and once with user-inputted variables, which customizes the output of the function, proves that my function will work no matter the input, and demonstrates a higher knowledge of my code."
   ]
  }
 ],
 "metadata": {
  "language_info": {
   "name": "python"
  }
 },
 "nbformat": 4,
 "nbformat_minor": 2
}
