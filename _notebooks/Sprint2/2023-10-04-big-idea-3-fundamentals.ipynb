{
 "cells": [
  {
   "attachments": {},
   "cell_type": "raw",
   "metadata": {
    "vscode": {
     "languageId": "raw"
    }
   },
   "source": [
    "---\n",
    "layout: post\n",
    "title: Programming Fundamentals - P4\n",
    "description: An introduction to College Board's Big Idea 3, part one.  This is a collection of Python lessons to help students understand the fundamental algorithm and programming elementes required by College Board's AP Computer Science Principles curriculum.\n",
    "toc: false\n",
    "comments: false \n",
    "categories: [CSP Big Ideas]\n",
    "permalink: /csp/big-idea/p1/fundamentals\n",
    "courses: { compsci: {week: 5} }\n",
    "type: tangibles\n",
    "menu: /nav/csp_unit3_p4_fundamentals.html\n",
    "---"
   ]
  },
  {
   "cell_type": "markdown",
   "metadata": {},
   "source": [
    "## Algorithms and Programming\n",
    "Welcome to the exciting world of Computer Science!\n",
    "\n",
    "### What you will learn\n",
    "\n",
    "College Board Big Idea 3 is divided into two parts.\n",
    "\n",
    "#### Part 1 - Fundamentals (This unit)\n",
    "In this unit, you will cover the foundational concepts of programming, including:\n",
    "- 3.1 Variables\n",
    "- 3.2 Data Abstraction\n",
    "- 3.3 Mathematical Expressions\n",
    "- 3.4 Strings\n",
    "- 3.5 Booleans\n",
    "- 3.6 Conditionals\n",
    "- 3.7 Nested Conditionals\n",
    "- 3.8 Iteration\n",
    "- 3.10 Lists\n",
    "\n",
    "#### Part 2 - Core Concepts (Next unit)\n",
    "In the next unit, you will delve into more complex topics, such as:\n",
    "- 3.9 Developing Algorithms\n",
    "- 3.11 Search\n",
    "- 3.12 Calling Procedures\n",
    "- 3.13 Developing Procedures and Procedural Abstraction\n",
    "- 3.14 Libraries\n",
    "- 3.15 Random Values\n",
    "- 3.16 Simulations\n",
    "- 3.17 Algorithmic Efficiency\n",
    "- 3.18 Undecidable Problems\n",
    "\n",
    "### Why it matters\n",
    "\n",
    "Understanding algorithms and programming is fundamental to your AP CSP class and your AP Exam Project called the \"Create Performance Task\". \n",
    "\n",
    "These concepts are essential for all types of programming, including full-stack applications and analyzing vast datasets with machine learning.\n",
    "\n",
    "Additionally, coding improves your logical thinking skills. The concepts covered in these two units are indispensable for AP CSP and beyond!"
   ]
  },
  {
   "cell_type": "markdown",
   "metadata": {},
   "source": [
    "## Getting Started\n",
    "To start your journey into algorithms and programming, follow these steps:\n",
    "\n",
    "1. **Familiarize Yourself with Basic Terms**: Look up the terms listed below and others that are unknown as you work through coding exercises.\n",
    "2. **Engage in Hands-On Practice**: Use Jupyter code cells to work through the coding exercises provided in the hacks. Create a Python cell and insert it at any point in the exercise. Don’t hesitate to experiment and explore beyond the curriculum.\n",
    "3. **Consistent Practice**: The key to mastering programming is consistent practice, problem-solving, asking questions, and conducting research.\n",
    "\n",
    "### Basic Terms\n",
    "- **Algorithm**: A step-by-step procedure for solving a problem or performing a task.\n",
    "- **Pseudocode**: A way to describe algorithms using a mixture of natural language and programming language elements.\n",
    "- **College Board Pseudocode**: A language used on the AP exam. It does not run or compile, but it is used to express knowledge of programming fundamentals.\n",
    "- **Debugging**: The process of finding and fixing errors in a program.\n",
    "- **Debugger**: A tool used to debug code. It allows developers to step through lines of code and examine variables.\n",
    "- **Control Structures**: Constructs that control the flow of execution in a program (e.g., loops, conditionals).\n",
    "\n",
    "### Resource\n",
    "For more detailed information and resources, visit the official [College Board AP CSP page](https://apstudents.collegeboard.org/courses/ap-computer-science-principles)."
   ]
  }
 ],
 "metadata": {
  "kernelspec": {
   "display_name": "base",
   "language": "python",
   "name": "python3"
  },
  "language_info": {
   "codemirror_mode": {
    "name": "ipython",
    "version": 3
   },
   "file_extension": ".py",
   "mimetype": "text/x-python",
   "name": "python",
   "nbconvert_exporter": "python",
   "pygments_lexer": "ipython3",
   "version": "3.11.4"
  },
  "orig_nbformat": 4
 },
 "nbformat": 4,
 "nbformat_minor": 2
}
