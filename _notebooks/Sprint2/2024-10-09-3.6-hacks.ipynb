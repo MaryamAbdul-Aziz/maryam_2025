{
 "cells": [
  {
   "cell_type": "markdown",
   "metadata": {},
   "source": [
    "---\n",
    "toc: true\n",
    "layout: post\n",
    "title: Lessons 3.6 Hacks\n",
    "type: hacks\n",
    "courses: { compsci: {week: 7} }\n",
    "---"
   ]
  },
  {
   "cell_type": "markdown",
   "metadata": {},
   "source": [
    "# 3.6\n",
    "\n",
    "## Popcorn Hacks\n",
    "\n",
    "### 3.6.1 Conditionals in Python\n",
    "\n",
    "#### Hack 1\n",
    "\n",
    "What would happen if you added more temperature ranges (like ‘warm’ for temperatures between 60 and 79 degrees)? How would you modify the code to implement this feature?”"
   ]
  },
  {
   "cell_type": "code",
   "execution_count": 3,
   "metadata": {},
   "outputs": [
    {
     "name": "stdout",
     "output_type": "stream",
     "text": [
      "It's a cold day out\n"
     ]
    }
   ],
   "source": [
    "# Step 1: Add a variable that represents temperature\n",
    "temperature = 50  # You can change this value to test different conditions\n",
    "\n",
    "if (72 >= temperature >= 80):\n",
    "    print(\"It's a nice warm day out\")\n",
    "if (65>temperature>72):\n",
    "    print(\"PEAK TEMP!!!!!!!!\")\n",
    "if (55 >= temperature >= 65):\n",
    "    print(\"It's a cool day out\")\n",
    "if (temperature<55):\n",
    "    print(\"It's a cold day out\")\n",
    "else:\n",
    "    print(\"It's a really hot day out\")"
   ]
  },
  {
   "cell_type": "markdown",
   "metadata": {},
   "source": [
    "Instead of just checking for temps above 80, I added ranges for <55, 55-65, 65-72, and 72-80 with different descriptors for all."
   ]
  },
  {
   "cell_type": "markdown",
   "metadata": {},
   "source": [
    "### 3.6.2 Conditionals in JavaScript\n",
    "\n",
    "#### Hack 1\n",
    "\n",
    "How would you change the code to show a message for scores below 60? What would you add?"
   ]
  },
  {
   "cell_type": "code",
   "execution_count": 4,
   "metadata": {
    "vscode": {
     "languageId": "html"
    }
   },
   "outputs": [
    {
     "data": {
      "text/html": [
       "<script>\n",
       "let score = 85;\n",
       "\n",
       "if (score >= 60) {\n",
       "    console.log(\"You passed!\");\n",
       "} else if (0>=score>60){\n",
       "    console.log(\"You failed :(\")\n",
       "} else {\n",
       "    console.log(\"What did you even do dawg.\")\n",
       "}\n",
       "</script>\n"
      ],
      "text/plain": [
       "<IPython.core.display.HTML object>"
      ]
     },
     "metadata": {},
     "output_type": "display_data"
    }
   ],
   "source": [
    "%%html\n",
    "<script>\n",
    "let score = 85;\n",
    "\n",
    "if (score >= 60) {\n",
    "    console.log(\"You passed!\");\n",
    "} else if (0>=score>60){\n",
    "    console.log(\"You failed :(\")\n",
    "} else {\n",
    "    console.log(\"What did you even do dawg.\")\n",
    "}\n",
    "</script>"
   ]
  },
  {
   "cell_type": "markdown",
   "metadata": {},
   "source": [
    "I added a short message for scores under 60 and for negative scores."
   ]
  },
  {
   "cell_type": "markdown",
   "metadata": {},
   "source": [
    "## Hacks\n",
    "\n",
    "### [3.6.3 Conditionals in Python](https://nighthawkcoders.github.io/portfolio_2025/csp/big-idea/p4/3-6-3)\n",
    "\n",
    "#### Hack 1: Odd or Even Checker\n",
    "\n",
    "Check if a given number is odd or even.\n",
    "\n",
    "1. Define a function named check_odd_even that takes one parameter: number.\n",
    "2. Use an if statement to check if the number is divisible by 2.\n",
    "3. Return \"Even\" if true; otherwise, return \"Odd\"."
   ]
  },
  {
   "cell_type": "code",
   "execution_count": 14,
   "metadata": {},
   "outputs": [
    {
     "name": "stdout",
     "output_type": "stream",
     "text": [
      "2 is even\n",
      "7 is odd\n"
     ]
    }
   ],
   "source": [
    "# sample numbers\n",
    "number1 = 2\n",
    "number2 = 7\n",
    "\n",
    "# define odd/even function\n",
    "def check_odd_even(number):\n",
    "    if number % 2 == 0: # checks to see if there is a remainder from division by 2\n",
    "        return \"even\"\n",
    "    else:\n",
    "        return \"odd\"\n",
    "\n",
    "# print results\n",
    "print(f\"{number1} is {check_odd_even(number1)}\")\n",
    "print(f\"{number2} is {check_odd_even(number2)}\")\n"
   ]
  },
  {
   "cell_type": "markdown",
   "metadata": {},
   "source": [
    "Alternate hack: Checks the odd/even status of a user-inputted number"
   ]
  },
  {
   "cell_type": "code",
   "execution_count": 25,
   "metadata": {},
   "outputs": [
    {
     "name": "stdout",
     "output_type": "stream",
     "text": [
      "34290480923482 is even\n"
     ]
    }
   ],
   "source": [
    "# user input\n",
    "def get_integer():\n",
    "    try:\n",
    "        global number3\n",
    "        number3 = int(input(\"Please input an integer to test if it is odd or even:\"))\n",
    "    except ValueError:\n",
    "            print(\"That is not an integer.\")\n",
    "\n",
    "get_integer()\n",
    "\n",
    "# define odd/even function\n",
    "def check_odd_even(number):\n",
    "    if number % 2 == 0: # checks to see if there is a remainder from division by 2\n",
    "        return \"even\"\n",
    "    else:\n",
    "        return \"odd\"\n",
    "\n",
    "# print results\n",
    "print(f\"{number3} is {check_odd_even(number3)}\")"
   ]
  },
  {
   "cell_type": "markdown",
   "metadata": {},
   "source": [
    "#### Hack 2: Leap Year Checker\n",
    "\n",
    "Determine if a given year is a leap year.\n",
    "\n",
    "1. Define a function named is_leap_year that takes one parameter: year.\n",
    "2. Use an if statement to check if the year is divisible by 4 but not by 100, or divisible by 400.\n",
    "3. Return \"Leap Year\" if true; otherwise, return \"Not a Leap Year\"."
   ]
  },
  {
   "cell_type": "code",
   "execution_count": 33,
   "metadata": {},
   "outputs": [
    {
     "name": "stdout",
     "output_type": "stream",
     "text": [
      "2000 is a leap year\n",
      "2004 is a leap year\n"
     ]
    }
   ],
   "source": [
    "# test years\n",
    "year1 = 2000\n",
    "year2 = 2004\n",
    "\n",
    "# function to check if a year is a leap year\n",
    "def is_leap_year(year):\n",
    "    if year % 400 == 0: # check if divisible by 400\n",
    "        return \"leap year\"\n",
    "    elif year % 100 == 0: # not by 100\n",
    "        return \"not a leap year\"\n",
    "    elif year % 4 == 0: # yes by 4\n",
    "        return \"leap year\"\n",
    "    else:\n",
    "        return \"not a leap year\"\n",
    "    \n",
    "# print results\n",
    "print(f\"{year1} is a {is_leap_year(year1)}\")\n",
    "print(f\"{year2} is a {is_leap_year(year2)}\")\n",
    "         "
   ]
  },
  {
   "cell_type": "markdown",
   "metadata": {},
   "source": [
    "Alternate hack: Checks a user-inputted year for leap year status"
   ]
  },
  {
   "cell_type": "code",
   "execution_count": 34,
   "metadata": {},
   "outputs": [
    {
     "name": "stdout",
     "output_type": "stream",
     "text": [
      "2006 is not a leap year\n"
     ]
    }
   ],
   "source": [
    "# user input\n",
    "def get_year():\n",
    "    try:\n",
    "        global year3\n",
    "        year3 = int(input(\"Please input a year to test if it is a leap year:\"))\n",
    "    except ValueError:\n",
    "            print(\"That is not an integer.\")\n",
    "\n",
    "# run above\n",
    "get_year()\n",
    "\n",
    "# function to check if a year is a leap year\n",
    "def is_leap_year(year):\n",
    "    if year % 400 == 0: # check if divisible by 400\n",
    "        return \"leap year\"\n",
    "    elif year % 100 == 0: # not by 100\n",
    "        return \"not a leap year\"\n",
    "    elif year % 4 == 0: # yes by 4\n",
    "        return \"leap year\"\n",
    "    else:\n",
    "        return \"not a leap year\"\n",
    "    \n",
    "# print results\n",
    "print(f\"{year3} is {is_leap_year(year3)}\")"
   ]
  },
  {
   "cell_type": "markdown",
   "metadata": {},
   "source": [
    "#### Hack 3: Temperature Range Checker\n",
    "\n",
    "Check if a given temperature is considered cold, warm, or hot.\n",
    "\n",
    "1. Define a function named temperature_range that takes one parameter: temperature.\n",
    "2. Use if...elif...else statements to categorize the temperature:\n",
    "    - Return \"Cold\" for temperatures below 60°F.\n",
    "    - Return \"Warm\" for temperatures between 60°F and 80°F.\n",
    "    - Return \"Hot\" for temperatures above 85°F."
   ]
  },
  {
   "cell_type": "code",
   "execution_count": 38,
   "metadata": {},
   "outputs": [
    {
     "name": "stdout",
     "output_type": "stream",
     "text": [
      "79 is warm\n",
      "57 is cold\n"
     ]
    }
   ],
   "source": [
    "# test temps\n",
    "temperature1 = 79\n",
    "temperature2 = 57\n",
    "\n",
    "# lay out ranges\n",
    "def temperature_range(temperature):\n",
    "    if 60>temperature:\n",
    "        return \"cold\"\n",
    "    elif 60<=temperature<80:\n",
    "        return \"warm\"\n",
    "    elif 80<=temperature: # YES RISHA/VIBHA/AVA/WHOEVER I KNOW THIS IS NOT WHAT THE INSTRUCTIONS SAY\n",
    "        return \"hot\"    # BUT YOU LEFT A GAP BETWEEN 80 AND 85 AND IT BOTHERED ME SO BE NICE TO ME PLS\n",
    "    else:\n",
    "        return \"freezing\"\n",
    "    \n",
    "# print results\n",
    "print(f\"{temperature1} is {temperature_range(temperature1)}\")\n",
    "print(f\"{temperature2} is {temperature_range(temperature2)}\")\n",
    "\n",
    "        "
   ]
  },
  {
   "cell_type": "markdown",
   "metadata": {},
   "source": [
    "### [3.6.4 Conditionals in JavaScript](https://nighthawkcoders.github.io/portfolio_2025/csp/big-idea/p4/3-6-4)\n",
    "\n",
    "#### Hack 1: Check Voting Eligibility\n",
    "\n",
    "Check if a person is eligible to vote based on their age.\n",
    "1. Define a function named checkVotingEligibility that takes one parameter called age.\n",
    "2. Inside the function, use an if statement to check if the age is 18 or older.\n",
    "    - Return the message \"You are eligible to vote!\" if true; otherwise, return \"You are not eligible to vote yet.\"."
   ]
  },
  {
   "cell_type": "code",
   "execution_count": 42,
   "metadata": {
    "vscode": {
     "languageId": "html"
    }
   },
   "outputs": [
    {
     "data": {
      "text/html": [
       "<script>\n",
       "// test vars\n",
       "age1 = 16\n",
       "age2 = 23\n",
       "    \n",
       "function checkVotingEligibility(age){\n",
       "        if (age>=18){\n",
       "            return \"You are eligible to vote!\"\n",
       "        } else {\n",
       "            return \"You are not eligible to vote yet.\"\n",
       "        }\n",
       "    }\n",
       "\n",
       "// print results\n",
       "console.log(`You are ${age1}.`, checkVotingEligibility(age1))\n",
       "console.log(`You are ${age2}.`, checkVotingEligibility(age2))\n",
       "\n",
       "</script>\n"
      ],
      "text/plain": [
       "<IPython.core.display.HTML object>"
      ]
     },
     "metadata": {},
     "output_type": "display_data"
    }
   ],
   "source": [
    "%%html\n",
    "<script>\n",
    "// test vars\n",
    "age1 = 16\n",
    "age2 = 23\n",
    "    \n",
    "function checkVotingEligibility(age){\n",
    "        if (age>=18){\n",
    "            return \"You are eligible to vote!\"\n",
    "        } else {\n",
    "            return \"You are not eligible to vote yet.\"\n",
    "        }\n",
    "    }\n",
    "\n",
    "// print results\n",
    "console.log(`You are ${age1}.`, checkVotingEligibility(age1))\n",
    "console.log(`You are ${age2}.`, checkVotingEligibility(age2))\n",
    "\n",
    "</script>"
   ]
  },
  {
   "cell_type": "markdown",
   "metadata": {},
   "source": [
    "Alternate hack: Check if a person is eligible to vote based on user-inputted age"
   ]
  },
  {
   "cell_type": "code",
   "execution_count": 43,
   "metadata": {
    "vscode": {
     "languageId": "html"
    }
   },
   "outputs": [
    {
     "data": {
      "text/html": [
       "<script>\n",
       "// ask user for age\n",
       "function getAge(){\n",
       "    age3 = prompt(\"Please enter your age:\", integer)\n",
       "    if (!Number.isInteger(age3) || isNaN(age3)) {\n",
       "        console.log(\"That is not a valid integer. Please enter a valid age.\");\n",
       "    }\n",
       "}\n",
       "\n",
       "getAge()\n",
       "\n",
       "function checkVotingEligibility(age){\n",
       "    if (age>=18){\n",
       "        return \"You are eligible to vote!\"\n",
       "    } else {\n",
       "        return \"You are not eligible to vote yet.\"\n",
       "    }\n",
       "}\n",
       "\n",
       "// print results\n",
       "console.log(`You are ${age3}.`, checkVotingEligibility(age3))\n",
       "\n",
       "</script>\n"
      ],
      "text/plain": [
       "<IPython.core.display.HTML object>"
      ]
     },
     "metadata": {},
     "output_type": "display_data"
    }
   ],
   "source": [
    "%%html\n",
    "<script>\n",
    "// ask user for age\n",
    "function getAge() {\n",
    "    age3 = prompt(\"Please enter your age:\"); // string\n",
    "    age3 = Number(age3);  // Convert to a number\n",
    "    // Check if the input isnt int or valid number\n",
    "    if (!Number.isInteger(age3) || isNaN(age3)) {\n",
    "        console.log(\"That is not a valid age.\");\n",
    "    }\n",
    "}\n",
    "\n",
    "getAge()\n",
    "\n",
    "function checkVotingEligibility(age){\n",
    "    if (age>=18){\n",
    "        return \"You are eligible to vote!\"\n",
    "    } else {\n",
    "        return \"You are not eligible to vote yet.\"\n",
    "    }\n",
    "}\n",
    "\n",
    "// print results\n",
    "console.log(`You are ${age3}.`, checkVotingEligibility(age3))\n",
    "\n",
    "</script>"
   ]
  },
  {
   "cell_type": "markdown",
   "metadata": {},
   "source": [
    "#### Hack 2: Grade Calculator\n",
    "\n",
    "Assign a letter grade based on a numerical score.\n",
    "\n",
    "1. Define a function named getGrade that takes one parameter called score.\n",
    "2. Use if...else if...else statements to determine the letter grade based on the score:\n",
    "    - Return \"Grade: A\" for scores 90 and above.\n",
    "    - Return \"Grade: B\" for scores between 80 and 89.\n",
    "    - Return \"Grade: C\" for scores between 70 and 79.\n",
    "    - Return \"Grade: F\" for scores below 70."
   ]
  },
  {
   "cell_type": "code",
   "execution_count": 44,
   "metadata": {
    "vscode": {
     "languageId": "html"
    }
   },
   "outputs": [
    {
     "data": {
      "text/html": [
       "<script>\n",
       "// test var\n",
       "score1 = 93\n",
       "score2 = 81\n",
       "\n",
       "function getGrade(score) {\n",
       "    // Determine the letter grade using if...else if...else statements\n",
       "    if (score >= 90) {\n",
       "        return \"Grade: A\";\n",
       "    } else if (score >= 80 && score < 90) {\n",
       "        return \"Grade: B\";\n",
       "    } else if (score >= 70 && score < 80) {\n",
       "        return \"Grade: C\";\n",
       "    } else {\n",
       "        return \"Grade: F\";\n",
       "    }\n",
       "}\n",
       "\n",
       "console.log(`Score: ${score1}.`, getGrade(score1))\n",
       "console.log(`Score: ${score2}.`, getGrade(score2))\n"
      ],
      "text/plain": [
       "<IPython.core.display.HTML object>"
      ]
     },
     "metadata": {},
     "output_type": "display_data"
    }
   ],
   "source": [
    "%%html\n",
    "<script>\n",
    "// test var\n",
    "score1 = 93\n",
    "score2 = 81\n",
    "\n",
    "// establish ranges\n",
    "function getGrade(score) {\n",
    "    if (score >= 90) {\n",
    "        return \"Grade: A\";\n",
    "    } else if (score >= 80 && score < 90) {\n",
    "        return \"Grade: B\";\n",
    "    } else if (score >= 70 && score < 80) {\n",
    "        return \"Grade: C\";\n",
    "    } else {\n",
    "        return \"Grade: F\";\n",
    "    }\n",
    "}\n",
    "\n",
    "//print results\n",
    "console.log(`Score: ${score1}.`, getGrade(score1))\n",
    "console.log(`Score: ${score2}.`, getGrade(score2))\n",
    "</script>"
   ]
  },
  {
   "cell_type": "markdown",
   "metadata": {},
   "source": [
    "Alternate hack: Assign a letter grade based on a user-inputted numerical score."
   ]
  },
  {
   "cell_type": "code",
   "execution_count": 45,
   "metadata": {
    "vscode": {
     "languageId": "html"
    }
   },
   "outputs": [
    {
     "data": {
      "text/html": [
       "<script>\n",
       "// ask user for score\n",
       "function getScore() {\n",
       "    let score3 = prompt(\"Please enter your score:\"); // Get input as a string\n",
       "    score3 = Number(score3);  // Convert to a number\n",
       "\n",
       "    // Check if the input is not a valid number or is negative\n",
       "    if (isNaN(score3) || score3 < 0) {\n",
       "        console.log(\"That is not a valid score.\");\n",
       "    }\n",
       "}\n",
       "\n",
       "getScore()\n",
       "\n",
       "function getGrade(score) {\n",
       "    if (score >= 90) {\n",
       "        return \"Grade: A\";\n",
       "    } else if (score >= 80 && score < 90) {\n",
       "        return \"Grade: B\";\n",
       "    } else if (score >= 70 && score < 80) {\n",
       "        return \"Grade: C\";\n",
       "    } else {\n",
       "        return \"Grade: F\";\n",
       "    }\n",
       "}\n",
       "\n",
       "console.log(`Score: ${score3}.`, getGrade(score3))\n",
       "</script>\n"
      ],
      "text/plain": [
       "<IPython.core.display.HTML object>"
      ]
     },
     "metadata": {},
     "output_type": "display_data"
    }
   ],
   "source": [
    "%%html\n",
    "<script>\n",
    "// ask user for score\n",
    "function getScore() {\n",
    "    let score3 = prompt(\"Please enter your score:\"); // Get input as a string\n",
    "    score3 = Number(score3);  // Convert to a number\n",
    "\n",
    "    // Check if the input is not a valid number or is negative\n",
    "    if (isNaN(score3) || score3 < 0) {\n",
    "        console.log(\"That is not a valid score.\");\n",
    "    }\n",
    "}\n",
    "\n",
    "getScore()\n",
    "\n",
    "function getGrade(score) {\n",
    "    if (score >= 90) {\n",
    "        return \"Grade: A\";\n",
    "    } else if (score >= 80 && score < 90) {\n",
    "        return \"Grade: B\";\n",
    "    } else if (score >= 70 && score < 80) {\n",
    "        return \"Grade: C\";\n",
    "    } else {\n",
    "        return \"Grade: F\";\n",
    "    }\n",
    "}\n",
    "\n",
    "console.log(`Score: ${score3}.`, getGrade(score3))\n",
    "</script>"
   ]
  },
  {
   "cell_type": "markdown",
   "metadata": {},
   "source": [
    "#### Hack 3: Temperature Converter\n",
    "\n",
    "Convert temperatures between Celsius and Fahrenheit.\n",
    "\n",
    "1. Define a function named convertTemperature that takes two parameters: value (the temperature) and scale (either “C” or “F”).\n",
    "2. Use an if statement to check the scale:\n",
    "    - If it’s “C”, convert the temperature to Fahrenheit using the formula (value * 9/5) + 32 and return the result with \"°F\".\n",
    "    - If it’s “F”, convert to Celsius using (value - 32) * 5/9 and return the result with \"°C\".\n",
    "    - If the scale is neither, return an error message."
   ]
  },
  {
   "cell_type": "code",
   "execution_count": 47,
   "metadata": {
    "vscode": {
     "languageId": "html"
    }
   },
   "outputs": [
    {
     "data": {
      "text/html": [
       "<script>\n",
       "//test vars\n",
       "value1 = 89\n",
       "scale1 = \"ºF\"\n",
       "value2 = 23\n",
       "scale2 = \"ºC\"\n",
       "\n",
       "\n",
       "function convertTemperature(value, scale){\n",
       "    if (scale === \"ºC\"){\n",
       "        value = ((value * 9/5) + 32) //convert to f\n",
       "        scale = \"ºF\"\n",
       "    } else if (scale === \"ºF\") {\n",
       "        value = ((value - 32) * 5/9) //convert to c\n",
       "        scale = \"ºC\"\n",
       "    } else {\n",
       "        console.log(\"Error. Invalid scale\")\n",
       "        return null;\n",
       "    }\n",
       "    return `${value.toFixed(2)} ${scale}`; // cut off at 2 decimal points\n",
       "}\n",
       "\n",
       "//print statement\n",
       "console.log(`Original temperature: ${value1}${scale1}. Converted:`, convertTemperature(value1.toFixed(2), scale1))\n",
       "console.log(`Original temperature: ${value2}${scale2}. Converted:`, convertTemperature(value2.toFixed(2), scale2))\n",
       "\n",
       "\n",
       "</script>\n"
      ],
      "text/plain": [
       "<IPython.core.display.HTML object>"
      ]
     },
     "metadata": {},
     "output_type": "display_data"
    }
   ],
   "source": [
    "%%html\n",
    "<script>\n",
    "//test vars\n",
    "value1 = 89\n",
    "scale1 = \"ºF\"\n",
    "value2 = 23\n",
    "scale2 = \"ºC\"\n",
    "\n",
    "\n",
    "function convertTemperature(value, scale){\n",
    "    if (scale === \"ºC\"){\n",
    "        value = ((value * 9/5) + 32) //convert to f\n",
    "        scale = \"ºF\"\n",
    "    } else if (scale === \"ºF\") {\n",
    "        value = ((value - 32) * 5/9) //convert to c\n",
    "        scale = \"ºC\"\n",
    "    } else {\n",
    "        console.log(\"Error. Invalid scale\")\n",
    "        return null;\n",
    "    }\n",
    "    return `${value.toFixed(2)} ${scale}`; // cut off at 2 decimal points\n",
    "}\n",
    "\n",
    "//print statement\n",
    "console.log(`Original temperature: ${value1}${scale1}. Converted:`, convertTemperature(value1.toFixed(2), scale1))\n",
    "console.log(`Original temperature: ${value2}${scale2}. Converted:`, convertTemperature(value2.toFixed(2), scale2))\n",
    "\n",
    "\n",
    "</script>"
   ]
  }
 ],
 "metadata": {
  "kernelspec": {
   "display_name": "venv",
   "language": "python",
   "name": "python3"
  },
  "language_info": {
   "codemirror_mode": {
    "name": "ipython",
    "version": 3
   },
   "file_extension": ".py",
   "mimetype": "text/x-python",
   "name": "python",
   "nbconvert_exporter": "python",
   "pygments_lexer": "ipython3",
   "version": "3.12.5"
  }
 },
 "nbformat": 4,
 "nbformat_minor": 2
}
