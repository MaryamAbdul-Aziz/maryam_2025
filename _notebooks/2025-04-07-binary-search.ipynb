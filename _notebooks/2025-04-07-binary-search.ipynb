{
 "cells": [
  {
   "cell_type": "raw",
   "id": "791157de",
   "metadata": {},
   "source": [
    "---\n",
    "comments: true\n",
    "layout: post\n",
    "title: Binary Search Hacks\n",
    "type: hacks\n",
    "courses: { compsci: {week: 28} }\n",
    "---"
   ]
  },
  {
   "cell_type": "markdown",
   "id": "73966db4",
   "metadata": {},
   "source": [
    "## Homework Hacks\n",
    "\n",
    "### Homework Hack 1: Binary Search on a Rotated Array\n",
    "\n",
    "Description: You are given a sorted array that has been rotated at some unknown pivot. Write a function that uses Binary Search to find a target element in this rotated array. If the element is found, return its index. If not, return -1."
   ]
  },
  {
   "cell_type": "code",
   "execution_count": null,
   "id": "c30f647d",
   "metadata": {
    "vscode": {
     "languageId": "html"
    }
   },
   "outputs": [
    {
     "data": {
      "text/html": [
       "<script>\n",
       "    let arr = [4, 5, 6, 7, 0, 1, 2]\n",
       "    let target = 1\n",
       "    console.log(\"Our array is:\" + arr + \", and our target is:\" + target)\n",
       "\n",
       "    arr.sort()\n",
       "\n",
       "function binarySearch(array, target) {\n",
       "  let left = 0;\n",
       "  let right = arr.length - 1;\n",
       "\n",
       "  while (left <= right) {\n",
       "    const mid = Math.floor((left + right) / 2);\n",
       "\n",
       "    if (arr[mid] === target) {\n",
       "      return mid;\n",
       "    } else if (arr[mid] < target) {\n",
       "      left = mid + 1; // search right \n",
       "    } else {\n",
       "      right = mid - 1; // search left \n",
       "    }\n",
       "  }\n",
       "\n",
       "  return -1;\n",
       "}\n",
       "\n",
       "console.log(binarySearch (arr, target))\n",
       "\n",
       "</script>\n"
      ],
      "text/plain": [
       "<IPython.core.display.HTML object>"
      ]
     },
     "metadata": {},
     "output_type": "display_data"
    }
   ],
   "source": [
    "%%html\n",
    "<script>\n",
    "    let arr = [4, 5, 6, 7, 0, 1, 2]\n",
    "    let target = 1\n",
    "    console.log(\"Our array is:\" + arr + \", and our target is:\" + target)\n",
    "\n",
    "    arr.sort()\n",
    "\n",
    "function binarySearch(array, target) {\n",
    "  let left = 0;\n",
    "  let right = arr.length - 1;\n",
    "\n",
    "  while (left <= right) {\n",
    "    const mid = Math.floor((left + right) / 2);\n",
    "\n",
    "    if (arr[mid] === target) {\n",
    "      return mid;\n",
    "    } else if (arr[mid] < target) {\n",
    "      left = mid + 1; // search right \n",
    "    } else {\n",
    "      right = mid - 1; // search left \n",
    "    }\n",
    "  }\n",
    "\n",
    "  return -1;\n",
    "}\n",
    "\n",
    "console.log(binarySearch (arr, target))\n",
    "\n",
    "</script>"
   ]
  },
  {
   "cell_type": "markdown",
   "id": "52092b06",
   "metadata": {},
   "source": [
    "### Homework Hack 2: Find the First and Last Occurrence of an Element\n",
    "\n",
    "Description: Write a function that uses binary search to find the first and last occurrence(find the index of the) of a given target element in a sorted array. If the element is not present, return -1. "
   ]
  },
  {
   "cell_type": "code",
   "execution_count": null,
   "id": "4f47898a",
   "metadata": {
    "vscode": {
     "languageId": "html"
    }
   },
   "outputs": [],
   "source": [
    "%%html\n",
    "<script>\n",
    "arr = [1, 2, 2, 2, 3, 4, 5]\n",
    "target = 2\n",
    "\n",
    "function firstLast(arr, target) {\n",
    "  function findBound(isFirst) {\n",
    "    let left = 0;\n",
    "    let right = arr.length - 1;\n",
    "    let result = -1;\n",
    "\n",
    "    while (left <= right) {\n",
    "      const mid = Math.floor((left + right) / 2);\n",
    "\n",
    "      if (arr[mid] === target) {\n",
    "        result = mid;\n",
    "        if (isFirst) {\n",
    "          right = mid - 1; \n",
    "        } else {\n",
    "          left = mid + 1; \n",
    "        }\n",
    "      } else if (arr[mid] < target) {\n",
    "        left = mid + 1;\n",
    "      } else {\n",
    "        right = mid - 1;\n",
    "      }\n",
    "    }\n",
    "\n",
    "    return result;\n",
    "  }\n",
    "\n",
    "  const first = findBound(true);\n",
    "  const last = findBound(false);\n",
    "\n",
    "  return first === -1 ? -1 : [first, last];\n",
    "}\n",
    "\n",
    "console.log(firstLast(arr, target))\n",
    "</script>"
   ]
  },
  {
   "cell_type": "markdown",
   "id": "b2f913de",
   "metadata": {},
   "source": [
    "### Homework Hack 3: Search for the Smallest Element\n",
    "\n",
    "Description: You are given a sorted array of integers. Write a function that uses Binary Search to find the smallest element that is greater than or equal to the target. If that an element doesnt exist, return -1."
   ]
  },
  {
   "cell_type": "code",
   "execution_count": null,
   "id": "ad63fc6b",
   "metadata": {
    "vscode": {
     "languageId": "html"
    }
   },
   "outputs": [],
   "source": [
    "%%html\n",
    "<script>\n",
    "    arr = [1, 3, 5, 7, 9, 11]\n",
    "    target = 8\n",
    "\n",
    "function lowerBound(arr, target) {\n",
    "  let left = 0;\n",
    "  let right = arr.length - 1;\n",
    "  let result = -1;\n",
    "\n",
    "  while (left <= right) {\n",
    "    const mid = Math.floor((left + right) / 2);\n",
    "\n",
    "    if (arr[mid] >= target) {\n",
    "      result = mid;\n",
    "      right = mid - 1;\n",
    "    } else {\n",
    "      left = mid + 1;\n",
    "    }\n",
    "  }\n",
    "\n",
    "  return result === -1 ? -1 : arr[result];\n",
    "}\n",
    "\n",
    "console.log(lowerBound(arr, target))\n",
    "</script>"
   ]
  }
 ],
 "metadata": {
  "kernelspec": {
   "display_name": "venv",
   "language": "python",
   "name": "python3"
  },
  "language_info": {
   "codemirror_mode": {
    "name": "ipython",
    "version": 3
   },
   "file_extension": ".py",
   "mimetype": "text/x-python",
   "name": "python",
   "nbconvert_exporter": "python",
   "pygments_lexer": "ipython3",
   "version": "3.13.2"
  }
 },
 "nbformat": 4,
 "nbformat_minor": 5
}
