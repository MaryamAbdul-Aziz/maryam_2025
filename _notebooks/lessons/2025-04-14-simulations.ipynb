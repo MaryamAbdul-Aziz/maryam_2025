{
 "cells": [
  {
   "cell_type": "raw",
   "id": "7ae67777",
   "metadata": {
    "vscode": {
     "languageId": "raw"
    }
   },
   "source": [
    "---\n",
    "comments: true\n",
    "layout: post\n",
    "title: Simulations Hacks\n",
    "type: hacks\n",
    "courses: { compsci: {week: 28} }\n",
    "---"
   ]
  },
  {
   "cell_type": "markdown",
   "id": "bb34c1d6",
   "metadata": {},
   "source": [
    "\n",
    "## Popcorn Hacks\n",
    "\n",
    "### Popcorn Hack #1: Dice Roll Simulation (Basic)\n",
    "\n",
    "Objective:\n",
    "Write a function that simulates a 6-sided dice roll using the random module."
   ]
  },
  {
   "cell_type": "code",
   "execution_count": 1,
   "id": "81d7ab7c",
   "metadata": {},
   "outputs": [
    {
     "name": "stdout",
     "output_type": "stream",
     "text": [
      "Dice roll: 4\n"
     ]
    }
   ],
   "source": [
    "import random\n",
    "\n",
    "def roll_dice():\n",
    "    return random.randint(1, 6)\n",
    "\n",
    "print(\"Dice roll:\", roll_dice())"
   ]
  },
  {
   "cell_type": "markdown",
   "id": "4bfd8f12",
   "metadata": {},
   "source": [
    "### Popcorn Hack #2: Biased Color Generator\n",
    "\n",
    "Objective:\n",
    "Modify the function biased_color() so that:\n",
    "\n",
    "- Red appears 50% of the time\n",
    "- Blue appears 30% of the time\n",
    "- All other colors share the remaining 20%\n",
    "\n",
    "Then print 10 random biased colors."
   ]
  },
  {
   "cell_type": "code",
   "execution_count": 2,
   "id": "7eb30cd7",
   "metadata": {},
   "outputs": [
    {
     "name": "stdout",
     "output_type": "stream",
     "text": [
      "Color: red\n",
      "Color: pink\n",
      "Color: red\n",
      "Color: blue\n",
      "Color: blue\n",
      "Color: magenta\n",
      "Color: blue\n",
      "Color: blue\n",
      "Color: black\n",
      "Color: red\n"
     ]
    }
   ],
   "source": [
    "import random\n",
    "\n",
    "def biased_color():\n",
    "    colors = [\"red\", \"blue\", \"purple\", \"green\", \"yellow\", \"black\", \"white\", \"pink\", \"orange\", \"magenta\"]\n",
    "    probabilities = [0.5, 0.3, 0.025, 0.025, 0.025, 0.025, 0.025, 0.025, 0.025, 0.025]\n",
    "\n",
    "    return random.choices(colors, probabilities)[0]\n",
    "                     \n",
    "for _ in range(10):\n",
    "    print(\"Color:\", biased_color())\n"
   ]
  },
  {
   "cell_type": "markdown",
   "id": "deea3a48",
   "metadata": {},
   "source": [
    "## Practice MC\n",
    "\n",
    "1 (Frog question): C\n",
    "\n",
    "2018 Q18: C\n",
    "\n",
    "## Homework Hacks\n",
    "\n",
    "### Homework Hack #1- Coin Flip Win Simulation\n",
    "\n",
    "Objective:\n",
    "Simulate a game where two players flip a coin. First to reach 3 heads wins.\n",
    "\n",
    "Task:\n",
    "1. Use random.choice() to simulate flipping a coin (\"heads\" or \"tails\").\n",
    "2. Each player flips once per round.\n",
    "3. Track how many heads each player has.\n",
    "4. Stop when one player reaches 3 heads.\n",
    "5. Print the winner and how many rounds it took."
   ]
  },
  {
   "cell_type": "code",
   "execution_count": 6,
   "id": "9fc56018",
   "metadata": {},
   "outputs": [
    {
     "name": "stdout",
     "output_type": "stream",
     "text": [
      "\n",
      "Round 1:\n",
      "Player 1 flip: heads\n",
      "Player 2 flip: heads\n",
      "Score -> Player 1: 1 heads, Player 2: 1 heads\n",
      "\n",
      "Round 2:\n",
      "Player 1 flip: heads\n",
      "Player 2 flip: heads\n",
      "Score -> Player 1: 2 heads, Player 2: 2 heads\n",
      "\n",
      "Round 3:\n",
      "Player 1 flip: heads\n",
      "Player 2 flip: heads\n",
      "Score -> Player 1: 3 heads, Player 2: 3 heads\n",
      "\n",
      "Player 1 wins in 3 rounds!\n"
     ]
    }
   ],
   "source": [
    "import random\n",
    "\n",
    "def coin_flip():\n",
    "    return random.choice([\"heads\", \"tails\"])\n",
    "\n",
    "def play_game():\n",
    "    player1_heads = 0\n",
    "    player2_heads = 0\n",
    "    rounds = 0\n",
    "\n",
    "    while player1_heads < 3 and player2_heads < 3:\n",
    "        rounds += 1\n",
    "        print(f\"\\nRound {rounds}:\")\n",
    "\n",
    "        # Player 1 flip\n",
    "        p1_flip = coin_flip()\n",
    "        print(f\"Player 1 flip: {p1_flip}\")\n",
    "        if p1_flip == \"heads\":\n",
    "            player1_heads += 1\n",
    "\n",
    "        p2_flip = coin_flip()\n",
    "        print(f\"Player 2 flip: {p2_flip}\")\n",
    "        if p2_flip == \"heads\":\n",
    "            player2_heads += 1\n",
    "\n",
    "        print(f\"Score -> Player 1: {player1_heads} heads, Player 2: {player2_heads} heads\")\n",
    "\n",
    "    if player1_heads == 3:\n",
    "        print(f\"\\nPlayer 1 wins in {rounds} rounds!\")\n",
    "    else:\n",
    "        print(f\"\\nPlayer 2 wins in {rounds} rounds!\")\n",
    "\n",
    "play_game()\n"
   ]
  }
 ],
 "metadata": {
  "kernelspec": {
   "display_name": "venv",
   "language": "python",
   "name": "python3"
  },
  "language_info": {
   "codemirror_mode": {
    "name": "ipython",
    "version": 3
   },
   "file_extension": ".py",
   "mimetype": "text/x-python",
   "name": "python",
   "nbconvert_exporter": "python",
   "pygments_lexer": "ipython3",
   "version": "3.13.2"
  }
 },
 "nbformat": 4,
 "nbformat_minor": 5
}
