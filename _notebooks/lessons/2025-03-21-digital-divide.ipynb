{
 "cells": [
  {
   "cell_type": "raw",
   "metadata": {
    "vscode": {
     "languageId": "raw"
    }
   },
   "source": [
    "---\n",
    "comments: true\n",
    "layout: post\n",
    "title: Digital Divide Hacks\n",
    "type: hacks\n",
    "courses: { compsci: {week: 25} }\n",
    "---"
   ]
  },
  {
   "cell_type": "markdown",
   "metadata": {},
   "source": [
    "## Code Cells\n",
    "\n",
    "### Interactive Activity: Explore the Data\n",
    "\n",
    "![dd1]({{site.baseurl}}/images/lessons/dd1.png)\n",
    "\n",
    "![dd2]({{site.baseurl}}/images/lessons/dd2.png)\n",
    "\n",
    "![dd3]({{site.baseurl}}/images/lessons/dd3.png)\n",
    "\n",
    "![dd4]({{site.baseurl}}/images/lessons/dd4.png)\n",
    "\n",
    "![dd5]({{site.baseurl}}/images/lessons/dd5.png)\n",
    "\n",
    "### Interactive Solution Explorer\n",
    "\n",
    "![dd6]({{site.baseurl}}/images/lessons/dd6.png)\n",
    "\n",
    "\n",
    "Affordability, rural area, moderate funding\n",
    "\n",
    "![dd7_222]({{site.baseurl}}/images/lessons/dd7_222.png)\n",
    "\n",
    "Accessibility (for people with disabilities), urban area, community partners\n",
    "\n",
    "![dd8_413]({{site.baseurl}}/images/lessons/dd8_413.png)\n",
    "\n",
    "Affordability, senior citizens, technical expertise\n",
    "\n",
    "![dd9_241]({{site.baseurl}}/images/lessons/dd9_241.png)\n"
   ]
  },
  {
   "cell_type": "markdown",
   "metadata": {},
   "source": [
    "## Essay Questions\n",
    "\n",
    "1. Analyze how the COVID-19 pandemic exposed and potentially exacerbated existing digital divides. Include at least three specific examples.\n",
    "\n",
    "The COVID-19 pandemic, which forced school, work, and social gatherings online, revealed a lot of inadequecies in digital equality. Students without fast or reliable internet were left unable to complete work or even join classes. Students without computers at home were disadvantaged compared to their peers with multiple devices. People in the workplace without solid digital literacy were unable to solve tech-related problems, impacting their work.\n",
    "\n",
    "2. Discuss the ethical responsibilities of technology companies and software developers in addressing the digital divide. What specific actions could they take?\n",
    "\n",
    "As trailblazers of our digital age, tech companies have a moral and ethical responsibility in ensuring that their products and reach crosses boundaries of socioeconomic class and geographic region. When it comes to problems with the digital divide, they there are steps they can take. To decrease the digital divide, they can promote the expansion of high-speed internet in areas that lack it, create financing programs to allow lower-class people access to technology, and create software and tech that can work in areas without the same internet speeds."
   ]
  }
 ],
 "metadata": {
  "kernelspec": {
   "display_name": "venv",
   "language": "python",
   "name": "python3"
  },
  "language_info": {
   "codemirror_mode": {
    "name": "ipython",
    "version": 3
   },
   "file_extension": ".py",
   "mimetype": "text/x-python",
   "name": "python",
   "nbconvert_exporter": "python",
   "pygments_lexer": "ipython3",
   "version": "3.13.2"
  }
 },
 "nbformat": 4,
 "nbformat_minor": 2
}
