{
 "cells": [
  {
   "cell_type": "raw",
   "id": "38eb3a7d",
   "metadata": {
    "vscode": {
     "languageId": "raw"
    }
   },
   "source": [
    "---\n",
    "comments: true\n",
    "layout: post\n",
    "title: Big O and Algorithm Efficiency Hacks\n",
    "type: hacks\n",
    "courses: { compsci: {week: 30} }\n",
    "---"
   ]
  },
  {
   "cell_type": "markdown",
   "id": "905d3959",
   "metadata": {},
   "source": [
    "## Homework Hacks\n",
    "\n",
    "Create examples for each of the following time complexities:\n",
    "- O(1) \n",
    "- O(log n)\n",
    "- O(n)\n",
    "- O(n²)\n",
    "\n",
    "### O(1): Constant Time"
   ]
  },
  {
   "cell_type": "code",
   "execution_count": null,
   "id": "87c9ef4e",
   "metadata": {},
   "outputs": [],
   "source": [
    "def print_second_name(arr):\n",
    "    return arr[1]"
   ]
  },
  {
   "cell_type": "markdown",
   "id": "6c0c2607",
   "metadata": {},
   "source": [
    "### O(log n): Logarithmic Time"
   ]
  },
  {
   "cell_type": "code",
   "execution_count": null,
   "id": "8ca4e783",
   "metadata": {},
   "outputs": [],
   "source": [
    "def power(a, b):\n",
    "    result = 1\n",
    "    while b > 0:\n",
    "        if b % 2 == 1:\n",
    "            result *= a\n",
    "        a *= a\n",
    "        b //= 2\n",
    "    return result"
   ]
  },
  {
   "cell_type": "markdown",
   "id": "5f2cd6e9",
   "metadata": {},
   "source": [
    "### O(n): Linear Time"
   ]
  },
  {
   "cell_type": "code",
   "execution_count": null,
   "id": "45ea5230",
   "metadata": {},
   "outputs": [],
   "source": [
    "for color in colorlist:\n",
    "    print(color)"
   ]
  },
  {
   "cell_type": "markdown",
   "id": "57b8c47c",
   "metadata": {},
   "source": [
    "### O(n²): Polynomial Time"
   ]
  },
  {
   "cell_type": "code",
   "execution_count": null,
   "id": "b8fb7641",
   "metadata": {},
   "outputs": [],
   "source": [
    "for x in data:\n",
    "    for y in data:\n",
    "        print(x, y)"
   ]
  }
 ],
 "metadata": {
  "language_info": {
   "name": "python"
  }
 },
 "nbformat": 4,
 "nbformat_minor": 5
}
