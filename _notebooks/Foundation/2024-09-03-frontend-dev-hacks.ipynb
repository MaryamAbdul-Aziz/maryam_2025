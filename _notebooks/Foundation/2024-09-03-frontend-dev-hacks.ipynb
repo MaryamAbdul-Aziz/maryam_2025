{
 "cells": [
  {
   "cell_type": "markdown",
   "metadata": {},
   "source": [
    "---\n",
    "toc: true\n",
    "layout: post\n",
    "title: Frontend Development Hacks NB\n",
    "type: hacks\n",
    "courses: { compsci: {week: 2} }\n",
    "---"
   ]
  },
  {
   "cell_type": "code",
   "execution_count": 1,
   "metadata": {
    "vscode": {
     "languageId": "html"
    }
   },
   "outputs": [
    {
     "data": {
      "text/html": [
       "First div:\n",
       "<p><h3>What Disney Princess are you?</h3></p>\n",
       "<div>\n",
       "    <button><a href=\"https://www.buzzfeed.com/mccarricksean/which-disney-princes-are-you\">Click here to take the quiz!</a></button>\n",
       "</div>\n",
       "\n",
       "<p><h3>What Disney Princess are you?</h3></p>\n",
       "<div>\n",
       "    <button><a href=\"https://www.buzzfeed.com/mccarricksean/which-disney-princes-are-you\">Click here to take the quiz!</a></button>\n",
       "</div>\n",
       "\n",
       "<br>\n",
       "<br>\n",
       "Second div:\n",
       "<br>\n",
       "<br>\n",
       "<a href=\"https://www.wikihow.com/Be-Liked\">WikiHow To Be Liked (with Pictures)</a><br>\n",
       "<a href=\"https://www.betterup.com/blog/how-to-make-people-like-you\">How to get people to like you even if you're shy</a><br>\n",
       "\n",
       "<div>\n",
       "<p>Above are some links to make you more likeable if you want to be more friendly!</p>\n",
       "</div>\n"
      ],
      "text/plain": [
       "<IPython.core.display.HTML object>"
      ]
     },
     "metadata": {},
     "output_type": "display_data"
    }
   ],
   "source": [
    "%%html\n",
    "First div:\n",
    "<p><h3>What Disney Princess are you?</h3></p>\n",
    "<div>\n",
    "    <button><a href=\"https://www.buzzfeed.com/mccarricksean/which-disney-princes-are-you\">Click here to take the quiz!</a></button>\n",
    "</div>\n",
    "\n",
    "<p><h3>What Disney Princess are you?</h3></p>\n",
    "<div>\n",
    "    <button><a href=\"https://www.buzzfeed.com/mccarricksean/which-disney-princes-are-you\">Click here to take the quiz!</a></button>\n",
    "</div>\n",
    "\n",
    "<br>\n",
    "<br>\n",
    "Second div:\n",
    "<br>\n",
    "<br>\n",
    "<a href=\"https://www.wikihow.com/Be-Liked\">WikiHow To Be Liked (with Pictures)</a><br>\n",
    "<a href=\"https://www.betterup.com/blog/how-to-make-people-like-you\">How to get people to like you even if you're shy</a><br>\n",
    "\n",
    "<div>\n",
    "<p>Above are some links to make you more likeable if you want to be more friendly!</p>\n",
    "</div>"
   ]
  }
 ],
 "metadata": {
  "kernelspec": {
   "display_name": "venv",
   "language": "python",
   "name": "python3"
  },
  "language_info": {
   "codemirror_mode": {
    "name": "ipython",
    "version": 3
   },
   "file_extension": ".py",
   "mimetype": "text/x-python",
   "name": "python",
   "nbconvert_exporter": "python",
   "pygments_lexer": "ipython3",
   "version": "3.12.5"
  }
 },
 "nbformat": 4,
 "nbformat_minor": 2
}
