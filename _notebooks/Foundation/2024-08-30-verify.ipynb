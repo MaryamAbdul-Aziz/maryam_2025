{
 "cells": [
  {
   "cell_type": "markdown",
   "metadata": {},
   "source": [
    "---\n",
    "toc: true\n",
    "layout: post\n",
    "title: Verify\n",
    "type: hacks\n",
    "courses: { compsci: {week: 1} }\n",
    "---"
   ]
  },
  {
   "cell_type": "code",
   "execution_count": 5,
   "metadata": {
    "vscode": {
     "languageId": "shellscript"
    }
   },
   "outputs": [],
   "source": [
    "%%script bash\n",
    "\n",
    "# Dependency Variables, set to match your project directories\n",
    "\n",
    "cat <<EOF > /tmp/variables.sh\n",
    "export project_dir=$HOME/vscode  # change nighthawk to different name to test your git clone\n",
    "export project=\\$project_dir/maryam_2025  # change portfolio_2025 to name of project from git clone\n",
    "export project_repo=\"https://github.com/maryamabdul-aziz/portfolio_2025.git\"  # change to project you created from portfolio_2025 template \n",
    "EOF"
   ]
  },
  {
   "cell_type": "code",
   "execution_count": 6,
   "metadata": {
    "vscode": {
     "languageId": "shellscript"
    }
   },
   "outputs": [
    {
     "name": "stdout",
     "output_type": "stream",
     "text": [
      "Project dir: /Users/maryamabdul-aziz/vscode\n",
      "Project: /Users/maryamabdul-aziz/vscode/maryam_2025\n"
     ]
    },
    {
     "name": "stdout",
     "output_type": "stream",
     "text": [
      "Repo: https://github.com/maryamabdul-aziz/portfolio_2025.git\n"
     ]
    }
   ],
   "source": [
    "%%script bash\n",
    "\n",
    "# Extract saved variables\n",
    "source /tmp/variables.sh\n",
    "\n",
    "# Output shown title and value variables\n",
    "echo \"Project dir: $project_dir\"\n",
    "echo \"Project: $project\"\n",
    "echo \"Repo: $project_repo\""
   ]
  },
  {
   "cell_type": "code",
   "execution_count": 7,
   "metadata": {
    "vscode": {
     "languageId": "shellscript"
    }
   },
   "outputs": [
    {
     "name": "stdout",
     "output_type": "stream",
     "text": [
      "Using conditional statement to create a project directory and project\n",
      "Directory /Users/maryamabdul-aziz/vscode exists.\n",
      "Directory /Users/maryamabdul-aziz/vscode/maryam_2025 exists.\n"
     ]
    }
   ],
   "source": [
    "%%script bash\n",
    "\n",
    "# Extract saved variables\n",
    "source /tmp/variables.sh\n",
    "\n",
    "echo \"Using conditional statement to create a project directory and project\"\n",
    "\n",
    "cd ~    # start in home directory\n",
    "\n",
    "# Conditional block to make a project directory\n",
    "if [ ! -d $project_dir ]\n",
    "then \n",
    "    echo \"Directory $project_dir does not exist... making directory $project_dir\"\n",
    "    mkdir -p $project_dir\n",
    "fi\n",
    "echo \"Directory $project_dir exists.\" \n",
    "\n",
    "# Conditional block to git clone a project from project_repo\n",
    "if [ ! -d $project ]\n",
    "then\n",
    "    echo \"Directory $project does not exist... cloning $project_repo\"\n",
    "    cd $project_dir\n",
    "    git clone $project_repo\n",
    "    cd ~\n",
    "fi\n",
    "echo \"Directory $project exists.\""
   ]
  },
  {
   "cell_type": "code",
   "execution_count": 8,
   "metadata": {
    "vscode": {
     "languageId": "shellscript"
    }
   },
   "outputs": [
    {
     "name": "stdout",
     "output_type": "stream",
     "text": [
      "Navigate to project, then navigate to area wwhere files were cloned\n",
      "/Users/maryamabdul-aziz/vscode/maryam_2025\n",
      "\n",
      "list top level or root of files with project pulled from github\n",
      "404.html\n",
      "Gemfile\n",
      "Gemfile.lock\n",
      "LICENSE\n",
      "Makefile\n",
      "README.md\n",
      "README4YML.md\n",
      "_config.yml\n",
      "\u001b[34m_data\u001b[m\u001b[m\n",
      "\u001b[34m_includes\u001b[m\u001b[m\n",
      "\u001b[34m_layouts\u001b[m\u001b[m\n",
      "\u001b[34m_notebooks\u001b[m\u001b[m\n",
      "\u001b[34m_posts\u001b[m\u001b[m\n",
      "\u001b[34m_sass\u001b[m\u001b[m\n",
      "\u001b[34m_site\u001b[m\u001b[m\n",
      "\u001b[34massets\u001b[m\u001b[m\n",
      "\u001b[34mimages\u001b[m\u001b[m\n",
      "index.md\n",
      "\u001b[34mnavigation\u001b[m\u001b[m\n",
      "requirements.txt\n",
      "\u001b[34mscripts\u001b[m\u001b[m\n",
      "\u001b[34mvenv\u001b[m\u001b[m\n"
     ]
    }
   ],
   "source": [
    "%%script bash\n",
    "\n",
    "# Extract saved variables\n",
    "source /tmp/variables.sh\n",
    "\n",
    "echo \"Navigate to project, then navigate to area wwhere files were cloned\"\n",
    "cd $project\n",
    "pwd\n",
    "\n",
    "echo \"\"\n",
    "echo \"list top level or root of files with project pulled from github\"\n",
    "ls"
   ]
  },
  {
   "cell_type": "code",
   "execution_count": 9,
   "metadata": {
    "vscode": {
     "languageId": "shellscript"
    }
   },
   "outputs": [
    {
     "name": "stdout",
     "output_type": "stream",
     "text": [
      "Navigate to project, then navigate to area wwhere files were cloned\n",
      "/Users/maryamabdul-aziz/vscode/maryam_2025\n",
      "\n",
      "list all files in long format\n",
      "total 160\n",
      "drwxr-xr-x  29 maryamabdul-aziz  staff    928 Aug 29 11:13 \u001b[34m.\u001b[m\u001b[m\n",
      "drwxr-xr-x   7 maryamabdul-aziz  staff    224 Aug 27 13:52 \u001b[34m..\u001b[m\u001b[m\n",
      "-rw-r--r--@  1 maryamabdul-aziz  staff   8196 Aug 26 13:49 .DS_Store\n",
      "drwxr-xr-x  15 maryamabdul-aziz  staff    480 Aug 31 18:33 \u001b[34m.git\u001b[m\u001b[m\n",
      "drwxr-xr-x   3 maryamabdul-aziz  staff     96 Aug 21 14:14 \u001b[34m.github\u001b[m\u001b[m\n",
      "-rw-r--r--   1 maryamabdul-aziz  staff    251 Aug 31 18:32 .gitignore\n",
      "drwxr-xr-x   3 maryamabdul-aziz  staff     96 Aug 21 14:14 \u001b[34m.vscode\u001b[m\u001b[m\n",
      "-rw-r--r--   1 maryamabdul-aziz  staff    436 Aug 21 14:14 404.html\n",
      "-rw-r--r--   1 maryamabdul-aziz  staff    122 Aug 21 14:14 Gemfile\n",
      "-rw-r--r--   1 maryamabdul-aziz  staff   7543 Aug 21 17:01 Gemfile.lock\n",
      "-rw-r--r--@  1 maryamabdul-aziz  staff  11357 Aug 21 14:14 LICENSE\n",
      "-rw-r--r--   1 maryamabdul-aziz  staff   3549 Aug 21 14:14 Makefile\n",
      "-rw-r--r--   1 maryamabdul-aziz  staff  14171 Aug 21 14:14 README.md\n",
      "-rw-r--r--   1 maryamabdul-aziz  staff     79 Aug 21 14:14 README4YML.md\n",
      "-rw-r--r--   1 maryamabdul-aziz  staff    866 Aug 29 13:59 _config.yml\n",
      "drwxr-xr-x   3 maryamabdul-aziz  staff     96 Aug 22 14:29 \u001b[34m_data\u001b[m\u001b[m\n",
      "drwxr-xr-x  20 maryamabdul-aziz  staff    640 Aug 22 20:01 \u001b[34m_includes\u001b[m\u001b[m\n",
      "drwxr-xr-x   9 maryamabdul-aziz  staff    288 Aug 22 14:30 \u001b[34m_layouts\u001b[m\u001b[m\n",
      "drwxr-xr-x   3 maryamabdul-aziz  staff     96 Aug 21 14:14 \u001b[34m_notebooks\u001b[m\u001b[m\n",
      "drwxr-xr-x   4 maryamabdul-aziz  staff    128 Aug 27 11:31 \u001b[34m_posts\u001b[m\u001b[m\n",
      "drwxr-xr-x   6 maryamabdul-aziz  staff    192 Aug 21 14:14 \u001b[34m_sass\u001b[m\u001b[m\n",
      "drwxr-xr-x  20 maryamabdul-aziz  staff    640 Sep  3 10:52 \u001b[34m_site\u001b[m\u001b[m\n",
      "drwxr-xr-x   5 maryamabdul-aziz  staff    160 Aug 21 14:14 \u001b[34massets\u001b[m\u001b[m\n",
      "drwxr-xr-x   8 maryamabdul-aziz  staff    256 Aug 29 14:21 \u001b[34mimages\u001b[m\u001b[m\n",
      "-rw-r--r--   1 maryamabdul-aziz  staff    199 Aug 28 12:50 index.md\n",
      "drwxr-xr-x   6 maryamabdul-aziz  staff    192 Aug 23 13:42 \u001b[34mnavigation\u001b[m\u001b[m\n",
      "-rw-r--r--@  1 maryamabdul-aziz  staff     57 Aug 21 14:14 requirements.txt\n",
      "drwxr-xr-x  10 maryamabdul-aziz  staff    320 Aug 23 14:33 \u001b[34mscripts\u001b[m\u001b[m\n",
      "drwxr-xr-x   7 maryamabdul-aziz  staff    224 Aug 29 13:36 \u001b[34mvenv\u001b[m\u001b[m\n"
     ]
    }
   ],
   "source": [
    "%%script bash\n",
    "\n",
    "# Extract saved variables\n",
    "source /tmp/variables.sh\n",
    "\n",
    "echo \"Navigate to project, then navigate to area wwhere files were cloned\"\n",
    "cd $project\n",
    "pwd\n",
    "\n",
    "echo \"\"\n",
    "echo \"list all files in long format\"\n",
    "ls -al   # all files -a (hidden) in -l long listing"
   ]
  },
  {
   "cell_type": "code",
   "execution_count": 10,
   "metadata": {
    "vscode": {
     "languageId": "shellscript"
    }
   },
   "outputs": [
    {
     "name": "stdout",
     "output_type": "stream",
     "text": [
      "Look for posts\n",
      "/Users/maryamabdul-aziz/vscode/maryam_2025/_posts\n",
      "total 8\n",
      "-rw-r--r--  1 maryamabdul-aziz  staff  455 Aug 27 14:14 2024-08-22-Tools-Hack.md\n",
      "drwxr-xr-x  5 maryamabdul-aziz  staff  160 Aug 31 18:36 \u001b[34mFoundation\u001b[m\u001b[m\n",
      "\n",
      "./Foundation:\n",
      "total 8\n",
      "-rw-r--r--  1 maryamabdul-aziz  staff  164 Sep  3 10:53 2024-08-30-test_IPYNB_2_.md\n",
      "drwxr-xr-x  5 maryamabdul-aziz  staff  160 Aug 21 17:01 \u001b[34mA-pair_programming\u001b[m\u001b[m\n",
      "drwxr-xr-x  8 maryamabdul-aziz  staff  256 Aug 21 17:01 \u001b[34mB-tools_and_equipment\u001b[m\u001b[m\n",
      "\n",
      "./Foundation/A-pair_programming:\n",
      "total 48\n",
      "-rw-r--r--  1 maryamabdul-aziz  staff   5433 Aug 21 14:14 2023-08-16-pair_programming.md\n",
      "-rw-r--r--  1 maryamabdul-aziz  staff   3242 Aug 21 17:01 2023-08-16-pair_showcase_IPYNB_2_.md\n",
      "-rw-r--r--  1 maryamabdul-aziz  staff  10043 Aug 21 17:01 2023-08-17-pair_habits_IPYNB_2_.md\n",
      "\n",
      "./Foundation/B-tools_and_equipment:\n",
      "total 184\n",
      "-rw-r--r--  1 maryamabdul-aziz  staff   8196 Aug 21 17:01 2023-08-19-devops_accounts_IPYNB_2_.md\n",
      "-rw-r--r--  1 maryamabdul-aziz  staff   4949 Aug 21 17:01 2023-08-21-devops_tools-home_IPYNB_2_.md\n",
      "-rw-r--r--  1 maryamabdul-aziz  staff  17367 Aug 21 17:01 2023-08-21-devops_tools-setup_IPYNB_2_.md\n",
      "-rw-r--r--  1 maryamabdul-aziz  staff  16130 Aug 21 17:01 2023-08-22-devops_tools-verify_IPYNB_2_.md\n",
      "-rw-r--r--  1 maryamabdul-aziz  staff  25977 Aug 21 17:01 2023-08-23-devops-githhub_pages-play_IPYNB_2_.md\n",
      "-rw-r--r--  1 maryamabdul-aziz  staff   7506 Aug 21 17:01 2023-08-23-devops-hacks_IPYNB_2_.md\n"
     ]
    }
   ],
   "source": [
    "%%script bash\n",
    "\n",
    "# Extract saved variables\n",
    "source /tmp/variables.sh\n",
    "\n",
    "echo \"Look for posts\"\n",
    "export posts=$project/_posts  # _posts inside project\n",
    "cd $posts  # this should exist per fastpages\n",
    "pwd  # present working directory\n",
    "ls -lR  # list posts recursively"
   ]
  },
  {
   "cell_type": "code",
   "execution_count": 11,
   "metadata": {
    "vscode": {
     "languageId": "shellscript"
    }
   },
   "outputs": [
    {
     "name": "stdout",
     "output_type": "stream",
     "text": [
      "Look for notebooks\n",
      "/Users/maryamabdul-aziz/vscode/maryam_2025/_notebooks\n",
      "total 0\n",
      "drwxr-xr-x  5 maryamabdul-aziz  staff  160 Aug 31 18:34 \u001b[34mFoundation\u001b[m\u001b[m\n",
      "\n",
      "./Foundation:\n",
      "total 8\n",
      "-rw-------  1 maryamabdul-aziz  staff  946 Sep  3 10:53 2024-08-30-test.ipynb\n",
      "drwxr-xr-x  4 maryamabdul-aziz  staff  128 Aug 21 14:14 \u001b[34mA-pair_programming\u001b[m\u001b[m\n",
      "drwxr-xr-x  8 maryamabdul-aziz  staff  256 Aug 21 14:14 \u001b[34mB-tools_and_equipment\u001b[m\u001b[m\n",
      "\n",
      "./Foundation/A-pair_programming:\n",
      "total 32\n",
      "-rw-r--r--  1 maryamabdul-aziz  staff   3918 Aug 21 14:14 2023-08-16-pair_showcase.ipynb\n",
      "-rw-r--r--  1 maryamabdul-aziz  staff  11624 Aug 21 14:14 2023-08-17-pair_habits.ipynb\n",
      "\n",
      "./Foundation/B-tools_and_equipment:\n",
      "total 224\n",
      "-rw-r--r--  1 maryamabdul-aziz  staff   9767 Aug 21 14:14 2023-08-19-devops_accounts.ipynb\n",
      "-rw-r--r--  1 maryamabdul-aziz  staff   5931 Aug 21 14:14 2023-08-21-devops_tools-home.ipynb\n",
      "-rw-r--r--  1 maryamabdul-aziz  staff  22859 Aug 21 14:14 2023-08-21-devops_tools-setup.ipynb\n",
      "-rw-r--r--  1 maryamabdul-aziz  staff  23150 Aug 21 14:14 2023-08-22-devops_tools-verify.ipynb\n",
      "-rw-r--r--  1 maryamabdul-aziz  staff  32309 Aug 21 14:14 2023-08-23-devops-githhub_pages-play.ipynb\n",
      "-rw-r--r--  1 maryamabdul-aziz  staff   9478 Aug 21 14:14 2023-08-23-devops-hacks.ipynb\n"
     ]
    }
   ],
   "source": [
    "%%script bash\n",
    "\n",
    "# Extract saved variables\n",
    "source /tmp/variables.sh\n",
    "\n",
    "echo \"Look for notebooks\"\n",
    "export notebooks=$project/_notebooks  # _notebooks is inside project\n",
    "cd $notebooks   # this should exist per fastpages\n",
    "pwd  # present working directory\n",
    "ls -lR  # list notebooks recursively"
   ]
  },
  {
   "cell_type": "code",
   "execution_count": 12,
   "metadata": {
    "vscode": {
     "languageId": "shellscript"
    }
   },
   "outputs": [
    {
     "name": "stdout",
     "output_type": "stream",
     "text": [
      "Look for images, print working directory, list files\n",
      "/Users/maryamabdul-aziz/vscode/maryam_2025/images\n",
      "total 6408\n",
      "-rw-r--r--  1 maryamabdul-aziz  staff   452723 Aug 28 12:50 compsci.jpg\n",
      "-rw-r--r--  1 maryamabdul-aziz  staff    15406 Aug 21 14:14 favicon.ico\n",
      "-rw-r--r--  1 maryamabdul-aziz  staff    34239 Aug 21 14:14 logo.png\n",
      "-rw-r--r--  1 maryamabdul-aziz  staff     4286 Aug 28 12:47 lotus_favicon.ico\n",
      "drwxr-xr-x  3 maryamabdul-aziz  staff       96 Aug 21 14:14 \u001b[34mnotebooks\u001b[m\u001b[m\n",
      "-rw-r--r--  1 maryamabdul-aziz  staff  2764161 Aug 29 14:21 sandiego.JPG\n",
      "\n",
      "./notebooks:\n",
      "total 0\n",
      "drwxr-xr-x  6 maryamabdul-aziz  staff  192 Aug 21 14:14 \u001b[34mfoundation\u001b[m\u001b[m\n",
      "\n",
      "./notebooks/foundation:\n",
      "total 728\n",
      "-rw-r--r--  1 maryamabdul-aziz  staff  310743 Aug 21 14:14 create_repo.png\n",
      "-rw-r--r--  1 maryamabdul-aziz  staff   29416 Aug 21 14:14 push.jpg\n",
      "-rw-r--r--  1 maryamabdul-aziz  staff   17105 Aug 21 14:14 stage.jpg\n",
      "-rw-r--r--  1 maryamabdul-aziz  staff    6659 Aug 21 14:14 wsl.jpg\n"
     ]
    }
   ],
   "source": [
    "%%script bash\n",
    "\n",
    "# Extract saved variables\n",
    "source /tmp/variables.sh\n",
    "\n",
    "echo \"Look for images, print working directory, list files\"\n",
    "cd $project/images  # this should exist per fastpages\n",
    "pwd\n",
    "ls -lR"
   ]
  },
  {
   "cell_type": "code",
   "execution_count": 13,
   "metadata": {
    "vscode": {
     "languageId": "shellscript"
    }
   },
   "outputs": [
    {
     "name": "stdout",
     "output_type": "stream",
     "text": [
      "Navigate to project, then navigate to area wwhere files were cloned\n",
      "show the contents of README.md\n",
      "\n",
      "# Introduction\n",
      "\n",
      "Nighthawk Pages is a project designed to support students in their Computer Science and Software Engineering education. It offers a wide range of resources including tech talks, code examples, and educational blogs.\n",
      "\n",
      "GitHub Pages can be customized by the blogger to support computer science learnings as the student works through the pathway of using Javascript, Python/Flask, Java/Spring.  \n",
      "\n",
      "## Student Requirements\n",
      "\n",
      "Del Norte HS students will be required to review their personal GitHub Pages at each midterm and final.  This review will contain a compilation of personal work performed within each significant grading period.\n",
      "\n",
      "In general, Students and Teachers are expected to use GitHub pages to build lessons, complete classroom hacks, perform work on JavaScript games, and serve as a frontend to full-stack applications.\n",
      "\n",
      "Exchange of information could be:\n",
      "\n",
      "1. sharing a file:  `wget \"raw-link.ipynb\"\n",
      "2. creating a template from this repository\n",
      "3. sharing a fork among team members\n",
      "4. etc.\n",
      "\n",
      "---\n",
      "\n",
      "## History\n",
      "\n",
      "This project is in its 3rd revision (aka 3.0).\n",
      "\n",
      "The project was initially based on Fastpages. But this project has diverged from those roots into an independent entity.  The decision to separate from Fastpages was influenced by the deprecation of Fastpages by authors.  It is believed by our community that the authors of fastpages turned toward Quatro.  After that change of direction fastpages did not align with the Teacher's goals and student needs. The Nighthawk Pages project has more of a raw development blogging need.\n",
      "\n",
      "### License\n",
      "\n",
      "The Apache license has its roots in Fastpages.  Thus, it carries its license forward.  However, most of the code is likely unrecognizable from those roots.\n",
      "\n",
      "### Key Features\n",
      "\n",
      "- **Code Examples**: Provides practical coding examples in JavaScript, including a platformer game, and frontend code for user databases using Python and Java backends.\n",
      "- **Educational Blogs**: Offers instructional content on various topics such as developer tools setup, deployment on AWS, SQL databases, machine learning, and data structures. It utilizes Jupyter Notebooks for interactive lessons and coding challenges.\n",
      "- **Tools and Integrations**: Features GitHub actions for blog publishing, Utterances for blog commenting, local development support via Makefile and scripts, and styling with the Minima Theme and SASS. It also includes a new integration with GitHub Projects and Issues.\n",
      "\n",
      "### Contributions\n",
      "\n",
      "- **Notable Contributions**: Highlights significant contributions to the project, including theme development, search and tagging functionality, GitHub API integration, and the incorporation of GitHub Projects into GitHub pages. Contributors such as Tirth Thakker, Mirza Beg, and Toby Ledder have played crucial roles in these developments.\n",
      "\n",
      "- **Blog Contributions**:  Often students contribute articles and blogs to this project.  Their names are typically listed in the front matter of their contributing post.\n",
      "\n",
      "---\n",
      "\n",
      "## GitHub Pages setup\n",
      "\n",
      "The absolutes in setup up...\n",
      "\n",
      "**Activate GitHub Pages Actions**: This step involves enabling GitHub Pages Actions for your project. By doing so, your project will be automatically deployed using GitHub Pages Actions, ensuring that your project is always up to date with the latest changes you push to your repository.\n",
      "\n",
      "- On the GitHub website for the repository go to the menu: Settings -> Pages ->Build\n",
      "- Under the Deployment location on the page, select \"GitHub Actions\".\n",
      "\n",
      "**Update `_config.yml`**: You need to modify the `_config.yml` file to reflect your repository's name. This configuration is crucial because it ensures that your project's styling is correctly applied, making your deployed site look as intended rather than unstyled or broken.\n",
      "\n",
      "```text\n",
      "github_repo: \"student_2025\" \n",
      "baseurl: \"/student_2025\"\n",
      "```\n",
      "\n",
      "**Set Repository Name in Makefile**: Adjust the `REPO_NAME` variable in your Makefile to match your GitHub repository's name. This action facilitates the automatic updating of posts and notebooks on your local development server, improving the development process.\n",
      "\n",
      "```make\n",
      "# Configuration, override port with usage: make PORT=4200\n",
      "PORT ?= 4100\n",
      "REPO_NAME ?= student_2025\n",
      "LOG_FILE = /tmp/jekyll$(PORT).log\n",
      "```\n",
      "\n",
      "### Tool requirements\n",
      "\n",
      "All `GitHub Pages` websites are managed on GitHub infrastructure and use GitHub version control.  Each time we change files in GitHub it initiates a GitHub Action, a continuous integration and development toolset, that rebuilds and publishes the site with Jekyll.  \n",
      "\n",
      "- GitHub uses `Jekyll` to transform your markdown and HTML content into static websites and blogs. [Jekyll](https://jekyllrb.com/).\n",
      "- A Linux shell is required to work with this project integration with GitHub Pages, GitHub and VSCode.  Ubuntu is the preferred shell, though MacOS shell is supported as well.  There will be some key setup scripts that follow in the README.\n",
      "- Visual Studio Code is the Nighthawk Pages author's preferred code editor and extensible development environment.  VSCode has a rich ecosystem of developer extensions that ease working with GitHub Pages, GitHub, and many programming languages.  Setting up VSCode and extensions will be elaborated upon in this document.\n",
      "- An anatomy section in this README will describe GitHub Pages and conventions that are used to organize content and files.  This includes file names, key coding files, metadata tagging of blogs, styling tooling for blogs, etc.\n",
      "\n",
      "### Development Environment Setup\n",
      "\n",
      "Comprehensive start. A topic-by-topic guide to getting this project running is published [here](https://nighthawkcoders.github.io/portfolio_2025/devops/tools/home).\n",
      "\n",
      "Quick start.  A quick start below is a reminder, but is dependent on your knowledge.  Only follow this instruction if you need a refresher.  Always default to the comprehensive start if any problem occurs.\n",
      "\n",
      "#### Clone Repo\n",
      "\n",
      "Run these commands to obtain the project, then locate into the project directory with the terminal, install an extensive set of tools, and make.\n",
      "\n",
      "```bash\n",
      "git clone <this-repo> # git clone https://github.com/nighthawkcoders/student_2025.git \n",
      "cd <repo-dir>/scripts # cd student_2025\n",
      "```\n",
      "\n",
      "#### Windows WSL and/or Ubuntu Users\n",
      "\n",
      "- Execute the script: `./activate_ubuntu.sh`\n",
      "\n",
      "#### macOS Users\n",
      "\n",
      "- Execute the script: `./activate_macos.sh`\n",
      "\n",
      "#### Kasm Cloud Desktop Users\n",
      "\n",
      "- Execute the script: `./activate.sh`\n",
      "\n",
      "## Run Server on localhost\n",
      "\n",
      "To preview the project you will need to \"make\" the project.\n",
      "\n",
      "### Bundle install\n",
      "\n",
      "The very first time you clone run project you will need to run this Ruby command as the final part of your setup.\n",
      "\n",
      "```bash\n",
      "bundle install\n",
      "```\n",
      "\n",
      "### Start the Server  \n",
      "\n",
      "This requires running terminal commands `make`, `make stop`, `make clean`, or `make convert` to manage the running server.  Logging of details will appear in the terminal.   A `Makefile` has been created in the project to support commands and start processes.\n",
      "\n",
      "Start the server, this is the best choice for initial and iterative development.  Note. after the initial `make`, you should see files automatically refresh in the terminal on VSCode save.\n",
      "\n",
      "  ```bash\n",
      "  make\n",
      "  ```\n",
      "\n",
      "### Load web application into the Browser\n",
      "\n",
      "Start the preview server in the terminal,\n",
      "The terminal output from `make` shows the server address. \"Cmd\" or \"Ctl\" click the http location to open the preview server in a browser. Here is an example Server address message, click on the Server address to load:...\n",
      "\n",
      "  ```text\n",
      "  http://0.0.0.0:4100/student_2025/\n",
      "  ```\n",
      "\n",
      "### Regeneration of web application\n",
      "\n",
      "Save on \".ipynb\" or \".md\" file activiates \"regeneration\". An example terminal message is below.  Refresh the browser to see updates after the message displays.\n",
      "\n",
      "  ```text\n",
      "  Regenerating: 1 file(s) changed at 2023-07-31 06:54:32\n",
      "      _notebooks/2024-01-04-cockpit-setup.ipynb\n",
      "  ```\n",
      "\n",
      "### Other \"make\" commands\n",
      "\n",
      "Terminal messages are generated from background processes.  At any time, click return or enter in a terminal window to obtain a prompt.  Once you have the prompt you can use the terminal as needed for other tasks.  Always return to the root of project `cd ~/vscode/student_2025` for all \"make\" actions.\n",
      "\n",
      "#### Stop the preview server\n",
      "\n",
      "Stopping the server ends the web server applications running process.  However, it leaves constructed files in the project in a ready state for the next time you run `make`.\n",
      "\n",
      "  ```bash\n",
      "  make stop\n",
      "  ```\n",
      "\n",
      "### Clean the local web application environment\n",
      "\n",
      "This command will top the server and \"clean\" all previously constructed files (ie .ipynb -> .md). This is the best choice when renaming files has created duplicates that are visible when previewing work.\n",
      "\n",
      "  ```bash\n",
      "  make clean\n",
      "  ```\n",
      "\n",
      "### Observe build errors\n",
      "\n",
      "Test Jupyter Notebook conversions (ie .ipynb -> .md), this is the best choice to see if an IPYNB conversion error is occurring.\n",
      "\n",
      "  ```bash\n",
      "  make convert\n",
      "  ```\n",
      "\n",
      "---\n",
      "\n",
      "## Development Support\n",
      "\n",
      "### File Names in \"_posts\", \"_notebooks\"\n",
      "\n",
      "There are two primary directories for creating blogs.  The \"_posts\" directory is for authoring in markdown only.  The \"_notebooks\" allows for markdown, pythons, javascript and more.\n",
      "\n",
      "To name a file, use the following structure (If dates are in the future, review your config.yml setting if you want them to be viewed).  Review these naming conventions.\n",
      "\n",
      "- For markdown files in _posts:\n",
      "  - year-month-day-fileName.md\n",
      "    - GOOD EXAMPLE: 2021-08-02-First-Day.md\n",
      "    - BAD EXAMPLE: 2021-8-2-first-day.md\n",
      "    - BAD EXAMPLE: first-day.md\n",
      "    - BAD EXAMPLE: 2069-12-31-First-Day.md\n",
      "\n",
      "- For Jupyter notebooks in _notebooks:\n",
      "  - year-month-day-fileName.ipynb\n",
      "    - GOOD EXAMPLE: 2021-08-02-First-Day.ipynb\n",
      "    - BAD EXAMPLE: 2021-8-2-first-day.ipynb\n",
      "    - BAD EXAMPLE: first-day.ipynb\n",
      "    - BAD EXAMPLE: 2069-12-31-First-Day.ipynb\n",
      "\n",
      "### Tags\n",
      "\n",
      "Tags are used to organize pages by their tag the way to add tags is to add the following to your front matter such as the example seen here `categories: [Tools]` Each item in the same category will be lumped together to be seen easily on the search page.\n",
      "\n",
      "### Search\n",
      "\n",
      "All pages can be searched for using the built-in search bar. This search bar will search for any word in the title of a page or in the page itself. This allows for easily finding pages and information that you are looking for. However, sometimes this may not be desirable so to hide a page from the search you need to add `search_exclude: true` to the front matter of the page. This will hide the page from appearing when the viewer uses search.\n",
      "\n",
      "### Navigation Bar\n",
      "\n",
      "To add pages to the top navigation bar use _config.yml to order and determine which menus you want and how to order them.  Review the_config.yml in this project for an example.\n",
      "\n",
      "### Blog Page\n",
      "\n",
      "There is a blog page that has options for images and a description of the page. This page can help the viewer understand what the page is about and what they can expect to find on the page. The way to add images to a page is to have the following front matter `image: /images/file.jpg` and then the name of the image that you want to use. The image must be in the `images` folder. Furthermore, if you would like the file to not show up on the blog page `hide: true` can be added to the front matter.\n",
      "\n",
      "### SASS support\n",
      "\n",
      "NIGHTHAWK Pages support a variety of different themes that are each overlaid on top of minima. To use each theme, go to the \"_sass/minima/custom-styles.scss\" file and simply comment or uncomment the theme you want to use.\n",
      "\n",
      "To learn about the minima themes search for \"GitHub Pages minima\" and review the README.\n",
      "\n",
      "To find a new theme search for \"Github Pages Themes\".\n",
      "\n",
      "### Includes\n",
      "\n",
      "- Nighthawk Pages uses liquid syntax to import many common page elements that are present throughout the repository. These common elements are imported from the _includes directory. If you want to add one of these common elements, use liquid syntax to import the desired element to your file. Here’s an example of the liquid syntax used to import: `{%- include post_list.html -%}` Note that the liquid syntax is surrounded by curly braces and percent signs. This can be used anywhere in the repository.\n",
      "\n",
      "### Layouts\n",
      "\n",
      "- To use or create a custom page layout, make an HTML page inside the _layouts directory, and when you want to use that layout in a file, use the following front matter `layout: [your layout here]`.  All layouts will be written in liquid to define the structure of the page.\n",
      "\n",
      "### Metadata\n",
      "\n",
      "Metadata, also known as \"front matter\", is a set of key-value pairs that can provide additional information to GitHub Pages about .md and .ipynb files. This can and probably will be used in other file types (ie doc, pdf) if we add them to the system.\n",
      "\n",
      "In the front matter, you can also define things like a title and description for the page.  Additional front matter is defined to place content on the \"Computer Science Lab Notebook\" page.  The `courses:` key will place data on a specific page with the nested `week:` placing data on a specific row on the page.  The `type:` key in \"front matter\" will place the blog under the plans, hacks(ToDo), and tangibles columns.\n",
      "\n",
      "- In our files, the front matter is defined at the top of the page or the first markdown cell.\n",
      "\n",
      "  - First, open one of the .md or .ipynb files already included in either your _posts|_notebooks folder.\n",
      "\n",
      "  - In the .md file, you should notice something similar to this at the top of the page. To see this in your .ipynb files you will need to double-click the markdown cell at the top of the file.\n",
      "\n",
      "  ```yaml\n",
      "  ---\n",
      "  toc: true\n",
      "  comments: true\n",
      "  layout: post\n",
      "  title: Jupyter Python Sample\n",
      "  description: Example Blog!!!  This shows code and notes from hacks.\n",
      "  type: ccc\n",
      "  courses: { csa: {week: 5} }\n",
      "  ---\n",
      "  ```\n",
      "\n",
      "- The front matter will always have '---' at the top and bottom to distinguish it and each key-value pair will be separated by a ':'.\n",
      "\n",
      "- Here we can modify things like the title and description.\n",
      "\n",
      "- The type value will tell us which column this is going to appear under the time box supported pages.  The \"ccc\" stands for Code, Code, Code.\n",
      "\n",
      "- The courses will tell us which menu item it will be under, in this case, the `csa` menu, and the `week` tells it what row (week) it will appear under that menu.\n",
      "\n",
      "end of README.md\n"
     ]
    }
   ],
   "source": [
    "%%script bash\n",
    "\n",
    "# Extract saved variables\n",
    "source /tmp/variables.sh\n",
    "\n",
    "echo \"Navigate to project, then navigate to area wwhere files were cloned\"\n",
    "\n",
    "cd $project\n",
    "echo \"show the contents of README.md\"\n",
    "echo \"\"\n",
    "\n",
    "cat README.md  # show contents of file, in this case markdown\n",
    "echo \"\"\n",
    "echo \"end of README.md\""
   ]
  },
  {
   "cell_type": "code",
   "execution_count": 14,
   "metadata": {
    "vscode": {
     "languageId": "shellscript"
    }
   },
   "outputs": [
    {
     "name": "stdout",
     "output_type": "stream",
     "text": [
      "Show the shell environment variables, key on left of equal value on right\n",
      "\n",
      "VSCODE_CRASH_REPORTER_PROCESS_TYPE=extensionHost\n",
      "GEM_HOME=/Users/maryamabdul-aziz/gems\n",
      "TERM=xterm-color\n",
      "SHELL=/bin/zsh\n",
      "CLICOLOR=1\n",
      "TMPDIR=/var/folders/mq/kcs_jpf56bz_c4y467zjlml00000gp/T/\n",
      "PYTHONUNBUFFERED=1\n",
      "ORIGINAL_XDG_CURRENT_DESKTOP=undefined\n",
      "MallocNanoZone=0\n",
      "PYDEVD_USE_FRAME_EVAL=NO\n",
      "PYTHONIOENCODING=utf-8\n",
      "USER=maryamabdul-aziz\n",
      "COMMAND_MODE=unix2003\n",
      "SSH_AUTH_SOCK=/private/tmp/com.apple.launchd.8FKmD9pDrO/Listeners\n",
      "__CF_USER_TEXT_ENCODING=0x1F6:0x0:0x0\n",
      "PAGER=cat\n",
      "VIRTUAL_ENV=/Users/maryamabdul-aziz/vscode/maryam_2025/venv\n",
      "ELECTRON_RUN_AS_NODE=1\n",
      "VSCODE_AMD_ENTRYPOINT=vs/workbench/api/node/extensionHostProcess\n",
      "PATH=/Users/maryamabdul-aziz/vscode/maryam_2025/venv/bin:/Users/maryamabdul-aziz/gems/bin:/Users/maryamabdul-aziz/.rbenv/shims:/Users/maryamabdul-aziz/.rbenv/shims:/Users/maryamabdul-aziz/gems/bin:/Users/maryamabdul-aziz/.rbenv/shims:/usr/local/bin:/System/Cryptexes/App/usr/bin:/usr/bin:/bin:/usr/sbin:/sbin:/var/run/com.apple.security.cryptexd/codex.system/bootstrap/usr/local/bin:/var/run/com.apple.security.cryptexd/codex.system/bootstrap/usr/bin:/var/run/com.apple.security.cryptexd/codex.system/bootstrap/usr/appleinternal/bin\n",
      "__CFBundleIdentifier=com.microsoft.VSCode\n",
      "PWD=/Users/maryamabdul-aziz/vscode/maryam_2025/_notebooks/Foundation\n",
      "VSCODE_HANDLES_UNCAUGHT_ERRORS=true\n",
      "MPLBACKEND=module://matplotlib_inline.backend_inline\n",
      "PYTHON_FROZEN_MODULES=on\n",
      "XPC_FLAGS=0x0\n",
      "FORCE_COLOR=1\n",
      "RBENV_SHELL=zsh\n",
      "XPC_SERVICE_NAME=0\n",
      "SHLVL=2\n",
      "HOME=/Users/maryamabdul-aziz\n",
      "APPLICATION_INSIGHTS_NO_DIAGNOSTIC_CHANNEL=1\n",
      "VSCODE_NLS_CONFIG={\"userLocale\":\"en-us\",\"osLocale\":\"en-us\",\"resolvedLanguage\":\"en\",\"defaultMessagesFile\":\"/Applications/Visual Studio Code.app/Contents/Resources/app/out/nls.messages.json\",\"locale\":\"en\",\"availableLanguages\":{}}\n",
      "PYDEVD_IPYTHON_COMPATIBLE_DEBUGGING=1\n",
      "LOGNAME=maryamabdul-aziz\n",
      "LC_CTYPE=UTF-8\n",
      "VSCODE_IPC_HOOK=/Users/maryamabdul-aziz/Library/Application Support/Code/1.92-main.sock\n",
      "VSCODE_CODE_CACHE_PATH=/Users/maryamabdul-aziz/Library/Application Support/Code/CachedData/fee1edb8d6d72a0ddff41e5f71a671c23ed924b9\n",
      "CLICOLOR_FORCE=1\n",
      "VSCODE_PID=1055\n",
      "GIT_PAGER=cat\n",
      "VSCODE_CWD=/\n",
      "VIRTUAL_ENV_PROMPT=(venv) \n",
      "_=/usr/bin/env\n"
     ]
    }
   ],
   "source": [
    "%%script bash\n",
    "\n",
    "# This command has no dependencies\n",
    "\n",
    "echo \"Show the shell environment variables, key on left of equal value on right\"\n",
    "echo \"\"\n",
    "\n",
    "env"
   ]
  },
  {
   "cell_type": "code",
   "execution_count": 15,
   "metadata": {
    "vscode": {
     "languageId": "shellscript"
    }
   },
   "outputs": [
    {
     "name": "stdout",
     "output_type": "stream",
     "text": [
      "\n",
      "show the secrets of .git config file\n",
      "-rw-r--r--  1 maryamabdul-aziz  staff  348 Aug 22 13:56 config\n",
      "\n",
      "look at config file\n",
      "[core]\n",
      "\trepositoryformatversion = 0\n",
      "\tfilemode = true\n",
      "\tbare = false\n",
      "\tlogallrefupdates = true\n",
      "\tignorecase = true\n",
      "\tprecomposeunicode = true\n",
      "[remote \"origin\"]\n",
      "\turl = https://github.com/MaryamAbdul-Aziz/student25.git\n",
      "\tfetch = +refs/heads/*:refs/remotes/origin/*\n",
      "[branch \"main\"]\n",
      "\tremote = origin\n",
      "\tmerge = refs/heads/main\n",
      "\tvscode-merge-base = origin/main\n"
     ]
    }
   ],
   "source": [
    "%%script bash\n",
    "\n",
    "# Extract saved variables\n",
    "source /tmp/variables.sh\n",
    "\n",
    "cd $project\n",
    "\n",
    "echo \"\"\n",
    "echo \"show the secrets of .git config file\"\n",
    "cd .git\n",
    "ls -l config\n",
    "\n",
    "echo \"\"\n",
    "echo \"look at config file\"\n",
    "cat config"
   ]
  },
  {
   "cell_type": "code",
   "execution_count": 17,
   "metadata": {
    "vscode": {
     "languageId": "shellscript"
    }
   },
   "outputs": [
    {
     "name": "stdout",
     "output_type": "stream",
     "text": [
      "\n",
      "File listing and status\n",
      "-rw-r--r--  1 maryamabdul-aziz  wheel  808 Sep  3 13:26 sample.md\n",
      "      15     132     808 sample.md\n"
     ]
    },
    {
     "name": "stderr",
     "output_type": "stream",
     "text": [
      "Config file saved to /Users/maryamabdul-aziz/.config/mdless/config.yml\n"
     ]
    },
    {
     "name": "stdout",
     "output_type": "stream",
     "text": [
      "\n",
      "\n",
      "\u001b[0;37m\u001b[0;1;90;47mShow Generated Markdown \u001b[0;2;30;47m======================================================\u001b[0;37m\n",
      "\n",
      "\u001b[0;37mThis introductory paragraph and this line and the title above are generated using tee with the standard input (<<) redirection operator.\u001b[0;37m\n",
      "\n",
      " \u001b[0;1;91m* \u001b[0;97mThis bulleted element is still part of the tee body.\u001b[0;37m\n",
      " \u001b[0;1;91m* \u001b[0;97mThis bulleted element and lines below are generated using echo with standard output (>>) redirection operator.\u001b[0;37m\n",
      " \u001b[0;1;91m* \u001b[0;97mThe list definition, as is, is using space to separate lines. Thus the use of commas and hyphens in output.\n",
      "   \u001b[0;1;91m* \u001b[0;97mls: list directory\u001b[0;97m\n",
      "   \u001b[0;1;91m* \u001b[0;97mcd: change directory\u001b[0;97m\n",
      "   \u001b[0;1;91m* \u001b[0;97mpwd: present working directory\u001b[0;97m\n",
      "   \u001b[0;1;91m* \u001b[0;97mif then fi: test condition\u001b[0;97m\n",
      "   \u001b[0;1;91m* \u001b[0;97menv: bash environment variables\u001b[0;97m\n",
      "   \u001b[0;1;91m* \u001b[0;97mcat: view file contents\u001b[0;97m\n",
      "   \u001b[0;1;91m* \u001b[0;97mtee: write to output\u001b[0;97m\n",
      "   \u001b[0;1;91m* \u001b[0;97mecho: display content of string\u001b[0;97m\n",
      "   \u001b[0;1;91m* \u001b[0;97mecho \"sample text\" >$file: write content to file\u001b[0;97m\n",
      "   \u001b[0;1;91m* \u001b[0;97mecho \"sample text\" >>$file: append content to file\u001b[0;97m\u001b[0;37m\n",
      "\n",
      "\u001b[0m"
     ]
    }
   ],
   "source": [
    "%%script bash\n",
    "\n",
    "# This example has an error in VSCode; it runs best on Jupyter\n",
    "cd /tmp\n",
    "\n",
    "file=\"sample.md\"\n",
    "if [ -f \"$file\" ]; then\n",
    "    rm $file\n",
    "fi\n",
    "\n",
    "# Create a markdown file using tee and here document (<<EOF)\n",
    "tee -a $file >/dev/null <<EOF\n",
    "# Show Generated Markdown\n",
    "This introductory paragraph and this line and the title above are generated using tee with the standard input (<<) redirection operator.\n",
    "- This bulleted element is still part of the tee body.\n",
    "EOF\n",
    "\n",
    "# Append additional lines to the markdown file using echo and redirection (>>)\n",
    "echo \"- This bulleted element and lines below are generated using echo with standard output (>>) redirection operator.\" >> $file\n",
    "echo \"- The list definition, as is, is using space to separate lines. Thus the use of commas and hyphens in output.\" >> $file\n",
    "\n",
    "# Define an array of actions and their descriptions\n",
    "actions=(\"ls,list-directory\" \"cd,change-directory\" \"pwd,present-working-directory\" \"if-then-fi,test-condition\" \"env,bash-environment-variables\" \"cat,view-file-contents\" \"tee,write-to-output\" \"echo,display-content-of-string\" \"echo_text_>\\$file,write-content-to-file\" \"echo_text_>>\\$file,append-content-to-file\")\n",
    "\n",
    "# Loop through the actions array and append each action to the markdown file\n",
    "for action in ${actions[@]}; do\n",
    "  action=${action//-/ }  # Convert dash to space\n",
    "  action=${action//,/: } # Convert comma to colon\n",
    "  action=${action//_text_/ \\\"sample text\\\" } # Convert _text_ to \"sample text\", note escape character \\ to avoid \"\" having meaning\n",
    "  echo \"    - ${action//-/ }\" >> $file  # Append action to file\n",
    "done\n",
    "\n",
    "echo \"\"\n",
    "echo \"File listing and status\"\n",
    "ls -l $file # List file details\n",
    "wc $file   # Show word count\n",
    "mdless $file  # Render markdown from terminal (requires mdless installation)\n",
    "\n",
    "rm $file  # Clean up temporary file"
   ]
  },
  {
   "cell_type": "code",
   "execution_count": 18,
   "metadata": {
    "vscode": {
     "languageId": "shellscript"
    }
   },
   "outputs": [
    {
     "name": "stdout",
     "output_type": "stream",
     "text": [
      "\n",
      "File listing and status\n",
      "-rw-r--r--  1 maryamabdul-aziz  wheel  972 Sep  3 13:27 sample.md\n",
      "      15     151     972 sample.md\n",
      "\n",
      "\n",
      "\u001b[0;37m\u001b[0;1;90;47mShow Generated Markdown \u001b[0;2;30;47m======================================================\u001b[0;37m\n",
      "\n",
      "\u001b[0;37mThis introductory paragraph and this line and the title above are generated using tee with the standard input (<<) redirection operator.\u001b[0;37m\n",
      "\n",
      " \u001b[0;1;91m* \u001b[0;97mThis bulleted element is still part of the tee body.\u001b[0;37m\n",
      " \u001b[0;1;91m* \u001b[0;97mThis bulleted element and lines below are generated using echo with standard output (>>) redirection operator.\u001b[0;37m\n",
      " \u001b[0;1;91m* \u001b[0;97mThe list definition, as is, is using space to separate lines. Thus the use of commas and hyphens in output.\n",
      "   \u001b[0;1;91m* \u001b[0;97mls - list directory contents\u001b[0;97m\n",
      "   \u001b[0;1;91m* \u001b[0;97mcat - concatenate and print files\u001b[0;97m\n",
      "   \u001b[0;1;91m* \u001b[0;97mtail - display the last part of a file\u001b[0;97m\n",
      "   \u001b[0;1;91m* \u001b[0;97mpwd - return working directory name\u001b[0;97m\n",
      "   \u001b[0;1;91m* \u001b[0;97menv - set environment and execute command, or print environment\u001b[0;97m\n",
      "   \u001b[0;1;91m* \u001b[0;97mgrep, egrep, fgrep, rgrep, bzgrep, bzegrep, bzfgrep, zgrep, zegrep,\u001b[0;97m\n",
      "   \u001b[0;1;91m* \u001b[0;97mawk - pattern-directed scanning and processing language\u001b[0;97m\n",
      "   \u001b[0;1;91m* \u001b[0;97msed - stream editor\u001b[0;97m\n",
      "   \u001b[0;1;91m* \u001b[0;97mcurl - transfer a URL\u001b[0;97m\n",
      "   \u001b[0;1;91m* \u001b[0;97mWget - The non-interactive network downloader.\u001b[0;97m\u001b[0;37m\n",
      "\n",
      "\u001b[0m"
     ]
    }
   ],
   "source": [
    "%%script bash\n",
    "\n",
    "# This example has an error in VSCode; it runs best on Jupyter\n",
    "cd /tmp\n",
    "\n",
    "file=\"sample.md\"\n",
    "if [ -f \"$file\" ]; then\n",
    "    rm $file\n",
    "fi\n",
    "\n",
    "# Set locale to C to avoid locale-related errors\n",
    "export LC_ALL=C\n",
    "\n",
    "# Create a markdown file using tee and here document (<<EOF)\n",
    "tee -a $file >/dev/null <<EOF\n",
    "# Show Generated Markdown\n",
    "This introductory paragraph and this line and the title above are generated using tee with the standard input (<<) redirection operator.\n",
    "- This bulleted element is still part of the tee body.\n",
    "EOF\n",
    "\n",
    "# Append additional lines to the markdown file using echo and redirection (>>)\n",
    "echo \"- This bulleted element and lines below are generated using echo with standard output (>>) redirection operator.\" >> $file\n",
    "echo \"- The list definition, as is, is using space to separate lines. Thus the use of commas and hyphens in output.\" >> $file\n",
    "\n",
    "# Define an array of commands\n",
    "commands=(\"ls\" \"cat\" \"tail\" \"pwd\" \"env\" \"grep\" \"awk\" \"sed\" \"curl\" \"wget\")\n",
    "\n",
    "# Loop through the commands array and append each command description to the markdown file\n",
    "for cmd in ${commands[@]}; do\n",
    "  description=$(man $cmd | col -b | awk '/^NAME/{getline; print}')\n",
    "  echo \"    - $description\" >> $file\n",
    "done\n",
    "\n",
    "echo \"\"\n",
    "echo \"File listing and status\"\n",
    "ls -l $file # List file details\n",
    "wc $file   # Show word count\n",
    "mdless $file  # Render markdown from terminal (requires mdless installation)\n",
    "\n",
    "rm $file  # Clean up temporary file"
   ]
  }
 ],
 "metadata": {
  "kernelspec": {
   "display_name": "venv",
   "language": "python",
   "name": "python3"
  },
  "language_info": {
   "codemirror_mode": {
    "name": "ipython",
    "version": 3
   },
   "file_extension": ".py",
   "mimetype": "text/x-python",
   "name": "python",
   "nbconvert_exporter": "python",
   "pygments_lexer": "ipython3",
   "version": "3.12.5"
  }
 },
 "nbformat": 4,
 "nbformat_minor": 2
}
